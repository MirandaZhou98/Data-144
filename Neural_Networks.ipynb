{
  "nbformat": 4,
  "nbformat_minor": 0,
  "metadata": {
    "colab": {
      "name": "Neural Networks",
      "provenance": [],
      "collapsed_sections": [
        "GTO2KMti07__",
        "YAnuY8Sv1DoO",
        "1foS74O01FfP"
      ]
    },
    "kernelspec": {
      "name": "python3",
      "display_name": "Python 3"
    }
  },
  "cells": [
    {
      "cell_type": "markdown",
      "metadata": {
        "id": "Oyb_RNpFreOr"
      },
      "source": [
        "# Lab 4: Neural Networks #\n"
      ]
    },
    {
      "cell_type": "code",
      "metadata": {
        "id": "yj9Uh79ereOs"
      },
      "source": [
        "import pandas as pd\n",
        "from sklearn.neural_network import MLPClassifier\n",
        "from sklearn.svm import SVC\n",
        "\n",
        "from sklearn.preprocessing import StandardScaler, MinMaxScaler\n",
        "from sklearn.preprocessing import LabelEncoder, OneHotEncoder\n",
        "from sklearn.feature_extraction import DictVectorizer\n",
        "\n",
        "from sklearn.pipeline import Pipeline\n",
        "from sklearn.metrics import accuracy_score\n",
        "from sklearn.model_selection import train_test_split\n",
        "from sklearn.model_selection import GridSearchCV, ParameterGrid\n",
        "\n",
        "import numpy as np\n",
        "\n",
        "import warnings\n",
        "warnings.filterwarnings(\"ignore\")"
      ],
      "execution_count": null,
      "outputs": []
    },
    {
      "cell_type": "code",
      "metadata": {
        "id": "n6SRFrhfreOt",
        "outputId": "8035ec15-b462-4c99-e0ea-df68fc7822cd",
        "colab": {
          "base_uri": "https://localhost:8080/",
          "height": 578
        }
      },
      "source": [
        "!wget http://people.ischool.berkeley.edu/~zp/course_datasets/lab_4_training.csv\n",
        "!wget http://people.ischool.berkeley.edu/~zp/course_datasets/lab_4_test.csv\n",
        "\n",
        "df_train = pd.read_csv('./lab_4_training.csv')\n",
        "df_test = pd.read_csv('./lab_4_test.csv')\n",
        "df_train.head()"
      ],
      "execution_count": null,
      "outputs": [
        {
          "output_type": "stream",
          "text": [
            "--2019-10-01 06:25:08--  http://people.ischool.berkeley.edu/~zp/course_datasets/lab_4_training.csv\n",
            "Resolving people.ischool.berkeley.edu (people.ischool.berkeley.edu)... 128.32.78.16\n",
            "Connecting to people.ischool.berkeley.edu (people.ischool.berkeley.edu)|128.32.78.16|:80... connected.\n",
            "HTTP request sent, awaiting response... 200 OK\n",
            "Length: 105581 (103K) [text/csv]\n",
            "Saving to: ‘lab_4_training.csv.11’\n",
            "\n",
            "lab_4_training.csv. 100%[===================>] 103.11K   487KB/s    in 0.2s    \n",
            "\n",
            "2019-10-01 06:25:08 (487 KB/s) - ‘lab_4_training.csv.11’ saved [105581/105581]\n",
            "\n",
            "--2019-10-01 06:25:09--  http://people.ischool.berkeley.edu/~zp/course_datasets/lab_4_test.csv\n",
            "Resolving people.ischool.berkeley.edu (people.ischool.berkeley.edu)... 128.32.78.16\n",
            "Connecting to people.ischool.berkeley.edu (people.ischool.berkeley.edu)|128.32.78.16|:80... connected.\n",
            "HTTP request sent, awaiting response... 200 OK\n",
            "Length: 26523 (26K) [text/csv]\n",
            "Saving to: ‘lab_4_test.csv.11’\n",
            "\n",
            "lab_4_test.csv.11   100%[===================>]  25.90K  --.-KB/s    in 0.07s   \n",
            "\n",
            "2019-10-01 06:25:09 (370 KB/s) - ‘lab_4_test.csv.11’ saved [26523/26523]\n",
            "\n"
          ],
          "name": "stdout"
        },
        {
          "output_type": "execute_result",
          "data": {
            "text/html": [
              "<div>\n",
              "<style scoped>\n",
              "    .dataframe tbody tr th:only-of-type {\n",
              "        vertical-align: middle;\n",
              "    }\n",
              "\n",
              "    .dataframe tbody tr th {\n",
              "        vertical-align: top;\n",
              "    }\n",
              "\n",
              "    .dataframe thead th {\n",
              "        text-align: right;\n",
              "    }\n",
              "</style>\n",
              "<table border=\"1\" class=\"dataframe\">\n",
              "  <thead>\n",
              "    <tr style=\"text-align: right;\">\n",
              "      <th></th>\n",
              "      <th>Unnamed: 0</th>\n",
              "      <th>gender</th>\n",
              "      <th>age</th>\n",
              "      <th>year</th>\n",
              "      <th>eyecolor</th>\n",
              "      <th>height</th>\n",
              "      <th>miles</th>\n",
              "      <th>brothers</th>\n",
              "      <th>sisters</th>\n",
              "      <th>computertime</th>\n",
              "      <th>exercise</th>\n",
              "      <th>exercisehours</th>\n",
              "      <th>musiccds</th>\n",
              "      <th>playgames</th>\n",
              "      <th>watchtv</th>\n",
              "    </tr>\n",
              "  </thead>\n",
              "  <tbody>\n",
              "    <tr>\n",
              "      <th>0</th>\n",
              "      <td>1303</td>\n",
              "      <td>male</td>\n",
              "      <td>20</td>\n",
              "      <td>second</td>\n",
              "      <td>green</td>\n",
              "      <td>73.0</td>\n",
              "      <td>210.0</td>\n",
              "      <td>0</td>\n",
              "      <td>1</td>\n",
              "      <td>10.0</td>\n",
              "      <td>Yes</td>\n",
              "      <td>5.0</td>\n",
              "      <td>50.0</td>\n",
              "      <td>1.0</td>\n",
              "      <td>15.0</td>\n",
              "    </tr>\n",
              "    <tr>\n",
              "      <th>1</th>\n",
              "      <td>36</td>\n",
              "      <td>male</td>\n",
              "      <td>20</td>\n",
              "      <td>third</td>\n",
              "      <td>other</td>\n",
              "      <td>71.0</td>\n",
              "      <td>90.0</td>\n",
              "      <td>1</td>\n",
              "      <td>0</td>\n",
              "      <td>15.0</td>\n",
              "      <td>Yes</td>\n",
              "      <td>4.0</td>\n",
              "      <td>10.0</td>\n",
              "      <td>0.0</td>\n",
              "      <td>1.0</td>\n",
              "    </tr>\n",
              "    <tr>\n",
              "      <th>2</th>\n",
              "      <td>489</td>\n",
              "      <td>male</td>\n",
              "      <td>22</td>\n",
              "      <td>fourth</td>\n",
              "      <td>hazel</td>\n",
              "      <td>75.0</td>\n",
              "      <td>200.0</td>\n",
              "      <td>0</td>\n",
              "      <td>1</td>\n",
              "      <td>1.0</td>\n",
              "      <td>Yes</td>\n",
              "      <td>2.0</td>\n",
              "      <td>150.0</td>\n",
              "      <td>1.0</td>\n",
              "      <td>10.0</td>\n",
              "    </tr>\n",
              "    <tr>\n",
              "      <th>3</th>\n",
              "      <td>1415</td>\n",
              "      <td>male</td>\n",
              "      <td>19</td>\n",
              "      <td>second</td>\n",
              "      <td>brown</td>\n",
              "      <td>72.0</td>\n",
              "      <td>35.0</td>\n",
              "      <td>2</td>\n",
              "      <td>2</td>\n",
              "      <td>20.0</td>\n",
              "      <td>Yes</td>\n",
              "      <td>5.0</td>\n",
              "      <td>100.0</td>\n",
              "      <td>0.0</td>\n",
              "      <td>7.0</td>\n",
              "    </tr>\n",
              "    <tr>\n",
              "      <th>4</th>\n",
              "      <td>616</td>\n",
              "      <td>male</td>\n",
              "      <td>22</td>\n",
              "      <td>fourth</td>\n",
              "      <td>hazel</td>\n",
              "      <td>71.0</td>\n",
              "      <td>15.0</td>\n",
              "      <td>2</td>\n",
              "      <td>1</td>\n",
              "      <td>10.0</td>\n",
              "      <td>Yes</td>\n",
              "      <td>7.0</td>\n",
              "      <td>10.0</td>\n",
              "      <td>0.0</td>\n",
              "      <td>5.0</td>\n",
              "    </tr>\n",
              "  </tbody>\n",
              "</table>\n",
              "</div>"
            ],
            "text/plain": [
              "   Unnamed: 0 gender  age    year  ... exercisehours  musiccds  playgames  watchtv\n",
              "0        1303   male   20  second  ...           5.0      50.0        1.0     15.0\n",
              "1          36   male   20   third  ...           4.0      10.0        0.0      1.0\n",
              "2         489   male   22  fourth  ...           2.0     150.0        1.0     10.0\n",
              "3        1415   male   19  second  ...           5.0     100.0        0.0      7.0\n",
              "4         616   male   22  fourth  ...           7.0      10.0        0.0      5.0\n",
              "\n",
              "[5 rows x 15 columns]"
            ]
          },
          "metadata": {
            "tags": []
          },
          "execution_count": 2
        }
      ]
    },
    {
      "cell_type": "markdown",
      "metadata": {
        "id": "RGt_10ZAreOv"
      },
      "source": [
        "***\n",
        "### Question 1###\n",
        "Calculate a baseline accuracy measure using the majority class, assuming a target variable of 'gender'. The majority class is the most common value of the target variable in a particular dataset. Accuracy is calculated as (true positives + true negatives) / (all negatives and positives)"
      ]
    },
    {
      "cell_type": "markdown",
      "metadata": {
        "id": "UZPiLgekreOw"
      },
      "source": [
        "**Question 1.a**  \n",
        "Find the majority class in the training set. If you always predicted this class in the training set, what would your accuracy be?"
      ]
    },
    {
      "cell_type": "code",
      "metadata": {
        "id": "iYjEFc1greOx",
        "outputId": "736aa995-35a2-4324-a16a-b6c94702e8c3",
        "colab": {
          "base_uri": "https://localhost:8080/",
          "height": 34
        }
      },
      "source": [
        "# YOUR CODE HERE\n",
        "df_train.groupby('gender').count()\n",
        "majority = \"female\"\n",
        "true_positive = (df_train['gender'] == 'female').sum()\n",
        "true_negative = 0\n",
        "total = df_train['gender'].count()\n",
        "\n",
        "accuracy = (true_positive + true_negative) / total\n",
        "accuracy"
      ],
      "execution_count": null,
      "outputs": [
        {
          "output_type": "execute_result",
          "data": {
            "text/plain": [
              "0.5377358490566038"
            ]
          },
          "metadata": {
            "tags": []
          },
          "execution_count": 3
        }
      ]
    },
    {
      "cell_type": "markdown",
      "metadata": {
        "id": "RtvFM-hM0y2o"
      },
      "source": [
        "###ANSWER: 0.5377358490566038"
      ]
    },
    {
      "cell_type": "markdown",
      "metadata": {
        "id": "ULPKW0IvreOy"
      },
      "source": [
        "**Question 1.b**   \n",
        "If you always predicted this same class (majority from the training set) in the test set, what would your accuracy be?"
      ]
    },
    {
      "cell_type": "code",
      "metadata": {
        "id": "dfU5mwh405vq",
        "outputId": "0a89d16f-67b1-47b9-8a86-7ecc991fbffb",
        "colab": {
          "base_uri": "https://localhost:8080/",
          "height": 34
        }
      },
      "source": [
        "# YOUR CODE HERE\n",
        "df_test.groupby('gender').count()\n",
        "majority_test = \"female\"\n",
        "true_positive_test = (df_test['gender'] == 'female').sum()\n",
        "true_negative_test = 0\n",
        "total_test = df_test['gender'].count()\n",
        "\n",
        "accuracy_test = (true_positive_test + true_negative_test) / total_test\n",
        "accuracy_test"
      ],
      "execution_count": null,
      "outputs": [
        {
          "output_type": "execute_result",
          "data": {
            "text/plain": [
              "0.5226130653266332"
            ]
          },
          "metadata": {
            "tags": []
          },
          "execution_count": 4
        }
      ]
    },
    {
      "cell_type": "markdown",
      "metadata": {
        "id": "pINRUJxG05v4"
      },
      "source": [
        "###ANSWER: 0.5226130653266332"
      ]
    },
    {
      "cell_type": "markdown",
      "metadata": {
        "id": "GKb2Ju-GreO0"
      },
      "source": [
        "***\n",
        "### Question 2 ###\n",
        "Get started with Neural Networks."
      ]
    },
    {
      "cell_type": "markdown",
      "metadata": {
        "id": "UYI6e3F3reO0"
      },
      "source": [
        "   \n",
        "Choose a NN implementation (eg: scikit-learn) and specify which you choose. Be sure the implementation allows you to modify the number of hidden layers and hidden nodes per layer.  \n",
        "\n",
        "NOTE: When possible, specify the logsig (sigmoid/logistc) function as the transfer function (another word for activation function) and use Levenberg-Marquardt backpropagation (lbfgs). It is possible to specify logistic in Sklearn MLPclassifier (Neural net).  "
      ]
    },
    {
      "cell_type": "markdown",
      "metadata": {
        "id": "4am3sGc4reO1"
      },
      "source": [
        "**Question 2.a**   \n",
        "Train a neural network with a single 10 node hidden layer. Only use the Height feature of the dataset to predict the Gender. You will have to change Gender to a 0 and 1 class. After training, use your trained model to predict the class using the height feature from the training set. What was the accuracy of this prediction?"
      ]
    },
    {
      "cell_type": "markdown",
      "metadata": {
        "id": "FHc7AupvDpZu"
      },
      "source": [
        "NN implementation: scikit-learn"
      ]
    },
    {
      "cell_type": "code",
      "metadata": {
        "id": "3m3PobD_ZsBr"
      },
      "source": [
        "df_train = df_train.replace({'first\"': \"first\"})\n",
        "df_test = df_test.replace({'first\"': \"first\"})"
      ],
      "execution_count": null,
      "outputs": []
    },
    {
      "cell_type": "code",
      "metadata": {
        "id": "NoAqiP7uuY4V"
      },
      "source": [
        "df_train.head()\n",
        "r_df_train = df_train.replace('male', 0).replace('female', 1)\n",
        "r_df_test = df_test.replace('male', 0).replace('female', 1)\n"
      ],
      "execution_count": null,
      "outputs": []
    },
    {
      "cell_type": "code",
      "metadata": {
        "id": "jbAzltaw067l",
        "outputId": "b94be81a-82ae-4bcb-c7cc-2cab5ace236b",
        "colab": {
          "base_uri": "https://localhost:8080/",
          "height": 51
        }
      },
      "source": [
        "# YOUR CODE HERE\n",
        "\n",
        "X_train = r_df_train[['height']]\n",
        "Y_train = r_df_train['gender']\n",
        "clf = MLPClassifier(hidden_layer_sizes=(10,), activation = 'logistic', max_iter=100, alpha=0.0001,\n",
        "                     solver='lbfgs', verbose=10,  random_state=21,tol=0.000000001)\n",
        "\n",
        "clf.fit(X_train,Y_train)\n",
        "print('Accuracy on training---')\n",
        "y_pred_train=clf.predict(X_train)\n",
        "print(accuracy_score(Y_train,y_pred_train))"
      ],
      "execution_count": null,
      "outputs": [
        {
          "output_type": "stream",
          "text": [
            "Accuracy on training---\n",
            "0.539622641509434\n"
          ],
          "name": "stdout"
        }
      ]
    },
    {
      "cell_type": "markdown",
      "metadata": {
        "id": "EuaCk0l0067q"
      },
      "source": [
        "###ANSWER: 0.539622641509434"
      ]
    },
    {
      "cell_type": "markdown",
      "metadata": {
        "id": "AkqzIeshreO2"
      },
      "source": [
        "**Question 2.b**  \n",
        "Take the trained model from question 2.a and use it to predict the test set. This can be accomplished by taking the trained model and giving it the Height feature values from the test set. What is the accuracy of this model on the test set?"
      ]
    },
    {
      "cell_type": "code",
      "metadata": {
        "id": "Tw25ezWp07hj",
        "outputId": "13881165-282e-4689-f6d3-a79893c87d4b",
        "colab": {
          "base_uri": "https://localhost:8080/",
          "height": 51
        }
      },
      "source": [
        "# YOUR CODE HERE\n",
        "\n",
        "X_test = r_df_test[['height']]\n",
        "Y_test = r_df_test['gender']\n",
        "\n",
        "print('Accuracy on test---')\n",
        "y_pred_test=clf.predict(X_test)\n",
        "print(accuracy_score(Y_test,y_pred_test))"
      ],
      "execution_count": null,
      "outputs": [
        {
          "output_type": "stream",
          "text": [
            "Accuracy on test---\n",
            "0.5226130653266332\n"
          ],
          "name": "stdout"
        }
      ]
    },
    {
      "cell_type": "markdown",
      "metadata": {
        "id": "HbHMAFvw07hm"
      },
      "source": [
        "###ANSWER: 0.5226130653266332"
      ]
    },
    {
      "cell_type": "markdown",
      "metadata": {
        "id": "uMmIfsNEreO3"
      },
      "source": [
        "**Question 2.c**   \n",
        "Neural Networks tend to prefer smaller, normalized feature values. Try taking the log of the height feature in both training and testing sets or use a Standard Scalar operation in SKlearn to centre and normalize the data between 0-1 for continuous values. Repeat question 2.a and 2.b with the log version or the normalized and centered version of this feature"
      ]
    },
    {
      "cell_type": "code",
      "metadata": {
        "id": "wDhCZPaU07_8",
        "outputId": "55c8da33-8094-408c-a669-4ddf6144b8a2",
        "colab": {
          "base_uri": "https://localhost:8080/",
          "height": 85
        }
      },
      "source": [
        "# YOUR CODE HERE\n",
        "log_X_train = np.log(r_df_train[['height']])\n",
        "log_Y_train = r_df_train['gender']\n",
        "clf = MLPClassifier(hidden_layer_sizes=(10,), activation = 'logistic', max_iter=100, alpha=0.0001,\n",
        "                     solver='lbfgs', verbose=10,  random_state=21,tol=0.000000001)\n",
        "\n",
        "clf.fit(log_X_train,log_Y_train)\n",
        "print('Accuracy on training---')\n",
        "log_y_pred_train=clf.predict(log_X_train)\n",
        "print(accuracy_score(log_Y_train,log_y_pred_train))\n",
        "\n",
        "log_X_test = np.log(r_df_test[['height']])\n",
        "log_Y_test = r_df_test['gender']\n",
        "\n",
        "print('Accuracy on test---')\n",
        "log_y_pred_test=clf.predict(log_X_test)\n",
        "print(accuracy_score(log_Y_test,log_y_pred_test))"
      ],
      "execution_count": null,
      "outputs": [
        {
          "output_type": "stream",
          "text": [
            "Accuracy on training---\n",
            "0.6842767295597484\n",
            "Accuracy on test---\n",
            "0.6683417085427136\n"
          ],
          "name": "stdout"
        }
      ]
    },
    {
      "cell_type": "markdown",
      "metadata": {
        "id": "GTO2KMti07__"
      },
      "source": [
        "###ANSWER: Accuracy on training: 0.6842767295597484; Accuracy on test: 0.6683417085427136"
      ]
    },
    {
      "cell_type": "markdown",
      "metadata": {
        "id": "2_SlOdcarePC"
      },
      "source": [
        "***\n",
        "\n",
        "### Question 3###\n",
        "The rest of features in this dataset barring a few are categorical. No ML method accepts categorical features, so transform year, eyecolor, exercise into a set of binary features, one feature per unique original feature value, and mark the binary feature as ‘1’ if the feature value matches the original value and ‘0’ otherwise. Using only these binary variable transformed features, train and predict the class of the test set. What was your accuracy using Neural Network with a single 10 node hidden layer? During training, use a maximum number of iterations of 50."
      ]
    },
    {
      "cell_type": "code",
      "metadata": {
        "id": "YjhzBFNV1Aip",
        "outputId": "0f0eba3a-bb8c-4264-a1d0-bcda928be74b",
        "colab": {
          "base_uri": "https://localhost:8080/",
          "height": 85
        }
      },
      "source": [
        "# YOUR CODE HERE\n",
        "from sklearn import preprocessing\n",
        "df_train\n",
        "\n",
        "def encoded(r_df_train):\n",
        "  cat_df = r_df_train.select_dtypes(include=[object])\n",
        "  le = preprocessing.LabelEncoder()\n",
        "  cat_df_2 = cat_df.apply(le.fit_transform)\n",
        "  enc = preprocessing.OneHotEncoder()\n",
        "  enc.fit(cat_df_2)\n",
        "  onehotlabels = enc.transform(cat_df_2).toarray()\n",
        "  encoded_cat_df = pd.DataFrame(onehotlabels)\n",
        "  return encoded_cat_df\n",
        "\n",
        "\n",
        "#training\n",
        "cat_X_train = encoded(r_df_train)\n",
        "cat_Y_train = r_df_train['gender']\n",
        "clf = MLPClassifier(hidden_layer_sizes=(10,), activation = 'logistic', max_iter=50, alpha=0.0001,\n",
        "                     solver='lbfgs', verbose=10,  random_state=21,tol=0.000000001)\n",
        "\n",
        "clf.fit(cat_X_train,cat_Y_train)\n",
        "print('Accuracy on training---')\n",
        "cat_y_pred_train=clf.predict(cat_X_train)\n",
        "print(accuracy_score(cat_Y_train,cat_y_pred_train))\n",
        "\n",
        "cat_X_test = encoded(r_df_test)\n",
        "cat_Y_test = r_df_test['gender']\n",
        "\n",
        "print('Accuracy on test---')\n",
        "cat_y_pred_test=clf.predict(cat_X_test)\n",
        "print(accuracy_score(cat_Y_test,cat_y_pred_test))"
      ],
      "execution_count": null,
      "outputs": [
        {
          "output_type": "stream",
          "text": [
            "Accuracy on training---\n",
            "0.5735849056603773\n",
            "Accuracy on test---\n",
            "0.6080402010050251\n"
          ],
          "name": "stdout"
        }
      ]
    },
    {
      "cell_type": "markdown",
      "metadata": {
        "id": "PyQ1EvAY1Ait"
      },
      "source": [
        "###ANSWER: Accuracy on training: 0.5735849056603773; Accuracy on test: 0.6080402010050251"
      ]
    },
    {
      "cell_type": "markdown",
      "metadata": {
        "id": "dSSr9sBlrePG"
      },
      "source": [
        "***\n",
        "### Question 4###\n",
        "Using a NN, report the accuracy on  the test set of a model that trained only on the height and the eye color features of instances in the training set."
      ]
    },
    {
      "cell_type": "markdown",
      "metadata": {
        "id": "rMNSlOmJrePG"
      },
      "source": [
        "**Question 4.a**  \n",
        "What is the accuracy on the test set using the original height values (no pre-processing) and eye color as a one-hot?"
      ]
    },
    {
      "cell_type": "code",
      "metadata": {
        "id": "F_vN4tyv1Ckq",
        "outputId": "87cfda97-2a62-4961-c9be-d62c780af7d1",
        "colab": {
          "base_uri": "https://localhost:8080/",
          "height": 85
        }
      },
      "source": [
        "# YOUR CODE HERE\n",
        "df_4 = r_df_train[['height', 'eyecolor']]\n",
        "df_4_test = r_df_test[['height', 'eyecolor']]\n",
        "encoded_4 = encoded(df_4)\n",
        "encoded_4['height'] = df_4['height']\n",
        "encoded_4_test = encoded(df_4_test)\n",
        "encoded_4_test['height'] = df_4_test['height']\n",
        "\n",
        "#training\n",
        "e_X_train = encoded_4\n",
        "e_Y_train = r_df_train['gender']\n",
        "clf = MLPClassifier(hidden_layer_sizes=(10,), activation = 'logistic', max_iter=50, alpha=0.0001,\n",
        "                     solver='lbfgs', verbose=10,  random_state=21,tol=0.000000001)\n",
        "clf.fit(e_X_train,e_Y_train)\n",
        "print('Accuracy on training---')\n",
        "e_y_pred_train=clf.predict(e_X_train)\n",
        "print(accuracy_score(e_Y_train,e_y_pred_train))\n",
        "\n",
        "e_X_test = encoded_4_test\n",
        "e_Y_test = r_df_test['gender']\n",
        "\n",
        "print('Accuracy on test---')\n",
        "e_y_pred_test=clf.predict(e_X_test)\n",
        "print(accuracy_score(e_Y_test,e_y_pred_test))"
      ],
      "execution_count": null,
      "outputs": [
        {
          "output_type": "stream",
          "text": [
            "Accuracy on training---\n",
            "0.5849056603773585\n",
            "Accuracy on test---\n",
            "0.5954773869346733\n"
          ],
          "name": "stdout"
        }
      ]
    },
    {
      "cell_type": "markdown",
      "metadata": {
        "id": "CaL2o0TW1Cks"
      },
      "source": [
        "###ANSWER: Accuracy on training: 0.5849056603773585; Accuracy on test: 0.5954773869346733"
      ]
    },
    {
      "cell_type": "markdown",
      "metadata": {
        "id": "NC8Ipx9QrePH"
      },
      "source": [
        "**Question 4.b**  \n",
        "What is the accuracy on the test set using the log of height values (applied to both training and testing sets) and eye color as a one-hot?"
      ]
    },
    {
      "cell_type": "code",
      "metadata": {
        "id": "cFvzNv6O1DG3",
        "outputId": "8def73d6-1b8e-4bdf-ce7d-666a43662f85",
        "colab": {
          "base_uri": "https://localhost:8080/",
          "height": 85
        }
      },
      "source": [
        "# YOUR CODE HERE\n",
        "df_4b = r_df_train[['height', 'eyecolor']]\n",
        "df_4b_test = r_df_test[['height', 'eyecolor']]\n",
        "encoded_4b = encoded(df_4b)\n",
        "encoded_4b['height'] = np.log(df_4b['height'])\n",
        "encoded_4b_test = encoded(df_4b_test)\n",
        "encoded_4b_test['height'] = np.log(df_4b_test['height'])\n",
        "\n",
        "#training\n",
        "be_X_train = encoded_4b\n",
        "be_Y_train = r_df_train['gender']\n",
        "clf = MLPClassifier(hidden_layer_sizes=(10,), activation = 'logistic', max_iter=50, alpha=0.0001,\n",
        "                     solver='lbfgs', verbose=10,  random_state=21,tol=0.000000001)\n",
        "clf.fit(be_X_train,be_Y_train)\n",
        "print('Accuracy on training---')\n",
        "be_y_pred_train=clf.predict(be_X_train)\n",
        "print(accuracy_score(be_Y_train,be_y_pred_train))\n",
        "\n",
        "be_X_test = encoded_4b_test\n",
        "be_Y_test = r_df_test['gender']\n",
        "\n",
        "print('Accuracy on test---')\n",
        "be_y_pred_test=clf.predict(be_X_test)\n",
        "print(accuracy_score(be_Y_test,be_y_pred_test))"
      ],
      "execution_count": null,
      "outputs": [
        {
          "output_type": "stream",
          "text": [
            "Accuracy on training---\n",
            "0.6742138364779874\n",
            "Accuracy on test---\n",
            "0.6708542713567839\n"
          ],
          "name": "stdout"
        }
      ]
    },
    {
      "cell_type": "markdown",
      "metadata": {
        "id": "Pt3NMp1M1DG4"
      },
      "source": [
        "###ANSWER: Accuracy on training: 0.6742138364779874; Accuracy on test: 0.6708542713567839"
      ]
    },
    {
      "cell_type": "markdown",
      "metadata": {
        "id": "iYm2jqnprePI"
      },
      "source": [
        "**Question 4.c**  \n",
        "What is the accuracy on the test set using the Z-score of height values and eye color as a one-hot? \n",
        "\n",
        "Z-score is a normalization function. It is the value of a feature minus the average value for that feature (in the training set), divided by the standard deviation of that feature (in the training set). Remember that, whenever applying a function to a feature in the training set, it also has to be applied to that same feature in the test set."
      ]
    },
    {
      "cell_type": "code",
      "metadata": {
        "id": "P3mDjF6N1DoN",
        "outputId": "be605c7b-c595-40e0-b229-6de421cfcf23",
        "colab": {
          "base_uri": "https://localhost:8080/",
          "height": 85
        }
      },
      "source": [
        "# YOUR CODE HERE\n",
        "df_4c = r_df_train[['height', 'eyecolor']]\n",
        "df_4c_test = r_df_test[['height', 'eyecolor']]\n",
        "encoded_4c = encoded(df_4c)\n",
        "encoded_4c_test = encoded(df_4c_test)\n",
        "\n",
        "encoded_4c['height'] = (df_4c['height'] - df_4c['height'].mean())/df_4c['height'].std()\n",
        "encoded_4c_test['height'] = (df_4c_test['height'] - df_4c_test['height'].mean())/df_4c_test['height'].std()\n",
        "\n",
        "#training\n",
        "ce_X_train = encoded_4c\n",
        "ce_Y_train = r_df_train['gender']\n",
        "clf = MLPClassifier(hidden_layer_sizes=(10,), activation = 'logistic', max_iter=50, alpha=0.0001,\n",
        "                     solver='lbfgs', verbose=10,  random_state=21,tol=0.000000001)\n",
        "clf.fit(ce_X_train,ce_Y_train)\n",
        "print('Accuracy on training---')\n",
        "ce_y_pred_train=clf.predict(ce_X_train)\n",
        "print(accuracy_score(ce_Y_train,ce_y_pred_train))\n",
        "\n",
        "ce_X_test = encoded_4c_test\n",
        "ce_Y_test = r_df_test['gender']\n",
        "\n",
        "print('Accuracy on test---')\n",
        "ce_y_pred_test=clf.predict(ce_X_test)\n",
        "print(accuracy_score(ce_Y_test,ce_y_pred_test))"
      ],
      "execution_count": null,
      "outputs": [
        {
          "output_type": "stream",
          "text": [
            "Accuracy on training---\n",
            "0.8534591194968554\n",
            "Accuracy on test---\n",
            "0.8693467336683417\n"
          ],
          "name": "stdout"
        }
      ]
    },
    {
      "cell_type": "markdown",
      "metadata": {
        "id": "YAnuY8Sv1DoO"
      },
      "source": [
        "###ANSWER: Accuracy on training: 0.8534591194968554; Accuracy on test: 0.8693467336683417"
      ]
    },
    {
      "cell_type": "markdown",
      "metadata": {
        "id": "Fh9qwu_9rePJ"
      },
      "source": [
        "***\n",
        "### Question 5 ###\n",
        "Repeat question 4 for exercise hours + eye color"
      ]
    },
    {
      "cell_type": "markdown",
      "metadata": {
        "id": "vYSlyByBbCgD"
      },
      "source": [
        "**Question 5.a**  \n",
        "What is the accuracy on the test set using the original exercise hours (no pre-processing) and eye color as a one-hot?"
      ]
    },
    {
      "cell_type": "code",
      "metadata": {
        "id": "JAgHz_r-1EMR",
        "outputId": "afc15e05-43cf-4ef2-a361-6b2008f160c1",
        "colab": {
          "base_uri": "https://localhost:8080/",
          "height": 85
        }
      },
      "source": [
        "# YOUR CODE HERE\n",
        "\n",
        "df_5 = r_df_train[['exercisehours', 'eyecolor']]\n",
        "df_5_test = r_df_test[['exercisehours', 'eyecolor']]\n",
        "encoded_5 = encoded(df_5)\n",
        "encoded_5['exercisehours'] = df_5['exercisehours']\n",
        "encoded_5_test = encoded(df_5_test)\n",
        "encoded_5_test['exercisehours'] = df_5_test['exercisehours']\n",
        "\n",
        "#training\n",
        "e_X_train5 = encoded_5\n",
        "e_Y_train5 = r_df_train['gender']\n",
        "clf = MLPClassifier(hidden_layer_sizes=(10,), activation = 'logistic', max_iter=50, alpha=0.0001,\n",
        "                     solver='lbfgs', verbose=10,  random_state=21,tol=0.000000001)\n",
        "clf.fit(e_X_train5,e_Y_train5)\n",
        "print('Accuracy on training---')\n",
        "e_y_pred_train5=clf.predict(e_X_train5)\n",
        "print(accuracy_score(e_Y_train5,e_y_pred_train5))\n",
        "\n",
        "e_X_test5 = encoded_5_test\n",
        "e_Y_test5 = r_df_test['gender']\n",
        "\n",
        "print('Accuracy on test---')\n",
        "e_y_pred_test5=clf.predict(e_X_test5)\n",
        "print(accuracy_score(e_Y_test5,e_y_pred_test5))"
      ],
      "execution_count": null,
      "outputs": [
        {
          "output_type": "stream",
          "text": [
            "Accuracy on training---\n",
            "0.5817610062893082\n",
            "Accuracy on test---\n",
            "0.5678391959798995\n"
          ],
          "name": "stdout"
        }
      ]
    },
    {
      "cell_type": "markdown",
      "metadata": {
        "id": "ZlDfGvy61EMS"
      },
      "source": [
        "###ANSWER: Accuracy on training: 0.5817610062893082; Accuracy on test: 0.5678391959798995"
      ]
    },
    {
      "cell_type": "markdown",
      "metadata": {
        "id": "-hqeaRuMcMGN"
      },
      "source": [
        "**Question 5.b**  \n",
        "What is the accuracy on the test set using the log of exercise values (applied to both training and testing sets) and eye color as a one-hot?"
      ]
    },
    {
      "cell_type": "code",
      "metadata": {
        "id": "h3TeztKIcLNF",
        "outputId": "1b9af7c1-c217-4b96-baea-1b18035b573e",
        "colab": {
          "base_uri": "https://localhost:8080/",
          "height": 85
        }
      },
      "source": [
        "\n",
        "data_train = r_df_train[['exercisehours', 'eyecolor', 'gender']]\n",
        "data_test = r_df_test[['exercisehours', 'eyecolor', 'gender']]\n",
        "\n",
        "data_train['exercisehours'] = data_train['exercisehours'].replace(0.0, 0.01)\n",
        "data_test['exercisehours'] = data_test['exercisehours'].replace(0.0,0.01)\n",
        "\n",
        "df_5b = data_train[['exercisehours', 'eyecolor']]\n",
        "df_5b_test = data_test[['exercisehours', 'eyecolor']]\n",
        "\n",
        "encoded_5b = encoded(df_5b)\n",
        "encoded_5b['exercisehours'] = np.log(df_5b['exercisehours'])\n",
        "\n",
        "encoded_5b_test = encoded(df_5b_test)\n",
        "encoded_5b_test['exercisehours'] = np.log(df_5b_test['exercisehours'])\n",
        "\n",
        "#training\n",
        "X_train = encoded_5b\n",
        "Y_train = data_train['gender']\n",
        "clf = MLPClassifier(hidden_layer_sizes=(10,), activation = 'logistic', max_iter=50, alpha=0.0001,\n",
        "                     solver='lbfgs', verbose=10,  random_state=21,tol=0.000000001)\n",
        "clf.fit(X_train,Y_train)\n",
        "print('Accuracy on training---')\n",
        "y_pred_train=clf.predict(X_train)\n",
        "print(accuracy_score(Y_train,y_pred_train))\n",
        "\n",
        "X_test = encoded_5b_test\n",
        "Y_test = data_test['gender']\n",
        "\n",
        "print('Accuracy on test---')\n",
        "y_pred_test=clf.predict(X_test)\n",
        "print(accuracy_score(Y_test,y_pred_test))\n"
      ],
      "execution_count": null,
      "outputs": [
        {
          "output_type": "stream",
          "text": [
            "Accuracy on training---\n",
            "0.5830188679245283\n",
            "Accuracy on test---\n",
            "0.5728643216080402\n"
          ],
          "name": "stdout"
        }
      ]
    },
    {
      "cell_type": "markdown",
      "metadata": {
        "id": "dZpdb17X_aTr"
      },
      "source": [
        "###ANSWER: Accuracy on training: 0.5830188679245283; Accuracy on test: 0.5728643216080402"
      ]
    },
    {
      "cell_type": "code",
      "metadata": {
        "id": "lvAE5AgZpmd3",
        "outputId": "280cf792-8948-44e5-f6d4-3f6ca43099b9",
        "colab": {
          "base_uri": "https://localhost:8080/",
          "height": 85
        }
      },
      "source": [
        "# YOUR CODE HERE\n",
        "df_5c = r_df_train[['exercisehours', 'eyecolor']]\n",
        "df_5c_test = r_df_test[['exercisehours', 'eyecolor']]\n",
        "encoded_5c = encoded(df_5c)\n",
        "encoded_5c_test = encoded(df_5c_test)\n",
        "\n",
        "encoded_5c['exercisehours'] = (df_5c['exercisehours'] - df_5c['exercisehours'].mean())/df_5c['exercisehours'].std()\n",
        "encoded_5c_test['exercisehours'] = (df_5c_test['exercisehours'] - df_5c_test['exercisehours'].mean())/df_5c_test['exercisehours'].std()\n",
        "\n",
        "#training\n",
        "ce_X_train5 = encoded_5c\n",
        "ce_Y_train5 = r_df_train['gender']\n",
        "clf = MLPClassifier(hidden_layer_sizes=(10,), activation = 'logistic', max_iter=50, alpha=0.0001,\n",
        "                     solver='lbfgs', verbose=10,  random_state=21,tol=0.000000001)\n",
        "clf.fit(ce_X_train5,ce_Y_train5)\n",
        "print('Accuracy on training---')\n",
        "ce_y_pred_train5=clf.predict(ce_X_train5)\n",
        "print(accuracy_score(ce_Y_train5,ce_y_pred_train5))\n",
        "\n",
        "ce_X_test5 = encoded_5c_test\n",
        "ce_Y_test5 = r_df_test['gender']\n",
        "\n",
        "print('Accuracy on test---')\n",
        "ce_y_pred_test5=clf.predict(ce_X_test5)\n",
        "print(accuracy_score(ce_Y_test5,ce_y_pred_test5))"
      ],
      "execution_count": null,
      "outputs": [
        {
          "output_type": "stream",
          "text": [
            "Accuracy on training---\n",
            "0.5867924528301887\n",
            "Accuracy on test---\n",
            "0.5728643216080402\n"
          ],
          "name": "stdout"
        }
      ]
    },
    {
      "cell_type": "markdown",
      "metadata": {
        "id": "MO7JHarRqAV5"
      },
      "source": [
        "###ANSWER: Accuracy on training: 0.5867924528301887; Accuracy on test: 0.5728643216080402"
      ]
    },
    {
      "cell_type": "markdown",
      "metadata": {
        "id": "JYVuaPWgrePL"
      },
      "source": [
        "***\n",
        "### Question 6###\n",
        "Combine the features from question 3, 4, and 5 (year, eyecolor, exercise, height, exercise hours). For numeric features use the best normalization method from questions 4 and 5."
      ]
    },
    {
      "cell_type": "markdown",
      "metadata": {
        "id": "1iAiFhlFrePM"
      },
      "source": [
        "**Question 6.a**  \n",
        "What was the NN accuracy on the test set using the single 10 node hidden layer?"
      ]
    },
    {
      "cell_type": "code",
      "metadata": {
        "id": "QuLJ6sTB1FfN",
        "outputId": "63bc5f81-7222-4067-d8b9-7e075c81476d",
        "colab": {
          "base_uri": "https://localhost:8080/",
          "height": 85
        }
      },
      "source": [
        "# YOUR CODE HERE\n",
        "df_6_train = encoded(r_df_train)\n",
        "df_6_train['height'] = (r_df_train['height'] - r_df_train['height'].mean())/r_df_train['height'].std()\n",
        "df_6_train['exercisehours'] = (r_df_train['exercisehours'] - r_df_train['exercisehours'].mean())/r_df_train['exercisehours'].std()\n",
        "\n",
        "df_6_test = encoded(r_df_test)\n",
        "df_6_test['height'] = (r_df_test['height'] - r_df_test['height'].mean())/r_df_test['height'].std()\n",
        "df_6_test['exercisehours'] = (r_df_test['exercisehours'] - r_df_test['exercisehours'].mean())/r_df_test['exercisehours'].std()\n",
        "\n",
        "cat_X_train = df_6_train\n",
        "cat_Y_train = r_df_train['gender']\n",
        "clf = MLPClassifier(hidden_layer_sizes=(10,), activation = 'logistic', max_iter=50, alpha=0.0001,\n",
        "                     solver='lbfgs', verbose=10,  random_state=21,tol=0.000000001)\n",
        "\n",
        "clf.fit(cat_X_train,cat_Y_train)\n",
        "print('Accuracy on training---')\n",
        "cat_y_pred_train=clf.predict(cat_X_train)\n",
        "print(accuracy_score(cat_Y_train,cat_y_pred_train))\n",
        "\n",
        "cat_X_test = df_6_test\n",
        "cat_Y_test = r_df_test['gender']\n",
        "\n",
        "print('Accuracy on test---')\n",
        "cat_y_pred_test=clf.predict(cat_X_test)\n",
        "print(accuracy_score(cat_Y_test,cat_y_pred_test))\n"
      ],
      "execution_count": null,
      "outputs": [
        {
          "output_type": "stream",
          "text": [
            "Accuracy on training---\n",
            "0.8553459119496856\n",
            "Accuracy on test---\n",
            "0.864321608040201\n"
          ],
          "name": "stdout"
        }
      ]
    },
    {
      "cell_type": "markdown",
      "metadata": {
        "id": "1foS74O01FfP"
      },
      "source": [
        "###ANSWER: Accuracy on training: 0.8553459119496856; Accuracy on test: 0.864321608040201"
      ]
    },
    {
      "cell_type": "markdown",
      "metadata": {
        "id": "Jusc-kofrePP"
      },
      "source": [
        "***\n",
        "### Question 7- Bonus (10%)###\n",
        "Can you improve your test set prediction accuracy by 5% or more?  \n",
        "\n",
        "See how close to that milestone of improvement you can get by modifying the tuning parameters of  Neural Networks (the number of hidden layers, number of hidden nodes in each layer, the learning rate aka mu). A great guide to tuning parameters is explained in this guide: http://www.csie.ntu.edu.tw/~cjlin/papers/guide/guide.pdf. \n",
        "\n",
        "While the guide is specific to SVM and in particular the C and gamma parameters of the RBF kernel, the method applies to generally to any ML technique with tuning parameters.\n",
        "\n",
        "Please also write a paragraph in a markdown cell below with an explanation of your approach and evaluation metrics.\n"
      ]
    },
    {
      "cell_type": "code",
      "metadata": {
        "id": "qvpoUdeq1GsX",
        "outputId": "033a69b9-76e5-4de7-c86b-d959ddb54c4e",
        "colab": {
          "base_uri": "https://localhost:8080/",
          "height": 85
        }
      },
      "source": [
        "# YOUR CODE HERE\n",
        "df_7_train = encoded(r_df_train)\n",
        "df_7_train['height'] = (r_df_train['height'] - r_df_train['height'].mean())/r_df_train['height'].std()\n",
        "df_7_train['exercisehours'] = (r_df_train['exercisehours'] - r_df_train['exercisehours'].mean())/r_df_train['exercisehours'].std()\n",
        "\n",
        "df_7_test = encoded(r_df_test)\n",
        "df_7_test['height'] = (r_df_test['height'] - r_df_test['height'].mean())/r_df_test['height'].std()\n",
        "df_7_test['exercisehours'] = (r_df_test['exercisehours'] - r_df_test['exercisehours'].mean())/r_df_test['exercisehours'].std()\n",
        "\n",
        "cat_X_train7 = df_7_train\n",
        "cat_Y_train7 = r_df_train['gender']\n",
        "clf = MLPClassifier(hidden_layer_sizes=(10,10,), activation = 'logistic', max_iter=100, alpha=0.0001,\n",
        "                     solver='lbfgs', verbose=10,  random_state=21,tol=0.000000001)\n",
        "\n",
        "clf.fit(cat_X_train7,cat_Y_train7)\n",
        "print('Accuracy on training---')\n",
        "cat_y_pred_train7=clf.predict(cat_X_train7)\n",
        "print(accuracy_score(cat_Y_train7,cat_y_pred_train7))\n",
        "\n",
        "cat_X_test7 = df_7_test\n",
        "cat_Y_test7 = r_df_test['gender']\n",
        "\n",
        "print('Accuracy on test---')\n",
        "cat_y_pred_test7=clf.predict(cat_X_test7)\n",
        "print(accuracy_score(cat_Y_test7,cat_y_pred_test7))"
      ],
      "execution_count": null,
      "outputs": [
        {
          "output_type": "stream",
          "text": [
            "Accuracy on training---\n",
            "0.8647798742138365\n",
            "Accuracy on test---\n",
            "0.871859296482412\n"
          ],
          "name": "stdout"
        }
      ]
    },
    {
      "cell_type": "markdown",
      "metadata": {
        "id": "2rFY8D4Q1GsZ"
      },
      "source": [
        "###ANSWER: My changing the hidden layer sizes from just 10 to 10,10, the accuracy increased. In addition, changing the number of iterations also changed the accuracy of the test."
      ]
    },
    {
      "cell_type": "code",
      "metadata": {
        "id": "jRrZuuxKugDB"
      },
      "source": [
        ""
      ],
      "execution_count": null,
      "outputs": []
    }
  ]
}