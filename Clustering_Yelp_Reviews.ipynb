{
  "nbformat": 4,
  "nbformat_minor": 0,
  "metadata": {
    "kernelspec": {
      "display_name": "Python 3",
      "language": "python",
      "name": "python3"
    },
    "language_info": {
      "codemirror_mode": {
        "name": "ipython",
        "version": 3
      },
      "file_extension": ".py",
      "mimetype": "text/x-python",
      "name": "python",
      "nbconvert_exporter": "python",
      "pygments_lexer": "ipython3",
      "version": "3.6.9"
    },
    "colab": {
      "name": "Clustering Yelp Reviews",
      "provenance": [],
      "collapsed_sections": []
    }
  },
  "cells": [
    {
      "cell_type": "markdown",
      "metadata": {
        "id": "RTtjzb-C8WfV"
      },
      "source": [
        "# DMA Fall 19"
      ]
    },
    {
      "cell_type": "markdown",
      "metadata": {
        "deletable": false,
        "editable": false,
        "nbgrader": {
          "checksum": "421e2e076e4bd859041d2c49e8c1b374",
          "grade": false,
          "grade_id": "cell-9ca594c076da14a9",
          "locked": true,
          "schema_version": 1,
          "solution": false
        },
        "id": "a84b7eS58Wff"
      },
      "source": [
        "# Lab 2: Clustering ##\n",
        "\n",
        "## About the Dataset\n",
        "The dataset for this lab has been created from some custom features from Assignmet 1. The columns are named as q1, q2....etc. A description of the features can be found at this link: https://docs.google.com/spreadsheets/u/1/d/1PJGxD8GzXL6xb4zuyWmtlgBbpafkCdVemLLK6WDsBXg/edit?usp=sharing\n",
        " "
      ]
    },
    {
      "cell_type": "code",
      "metadata": {
        "deletable": false,
        "editable": false,
        "nbgrader": {
          "checksum": "ccd093de0c01c601220c82809d785907",
          "grade": false,
          "grade_id": "cell-11a8a6cab098e8a1",
          "locked": true,
          "schema_version": 1,
          "solution": false
        },
        "id": "uS-ZiJUd8Wfg",
        "outputId": "49e60eed-9645-4aeb-e484-8608b3d1f1da",
        "colab": {
          "base_uri": "https://localhost:8080/"
        }
      },
      "source": [
        "import pandas as pd\n",
        "import collections\n",
        "from sklearn.cluster import KMeans\n",
        "from sklearn.metrics import silhouette_score\n",
        "import numpy as np\n",
        "from sklearn.preprocessing import normalize\n",
        "\n",
        "import matplotlib\n",
        "import matplotlib.pyplot as plt\n",
        "\n",
        "%matplotlib inline\n",
        "matplotlib.style.use('ggplot')\n",
        "\n",
        "\n",
        "\n",
        "#DOWNLOADING DATASET\n",
        "!wget -nc http://people.ischool.berkeley.edu/~zp/course_datasets/yelp_reviewers.zip\n",
        "!unzip -u yelp_reviewers.zip\n",
        "print('Dataset Downloaded: yelp_reviewers.csv')\n",
        "df = pd.read_csv('yelp_reviewers.csv')\n",
        "df = df.sample(frac=0.3, random_state=42)\n",
        "print(df.dropna().describe())\n",
        "\n",
        "print('....SETUP COMPLETE....')"
      ],
      "execution_count": 1,
      "outputs": [
        {
          "output_type": "stream",
          "text": [
            "--2020-11-09 21:15:16--  http://people.ischool.berkeley.edu/~zp/course_datasets/yelp_reviewers.zip\n",
            "Resolving people.ischool.berkeley.edu (people.ischool.berkeley.edu)... 128.32.78.16\n",
            "Connecting to people.ischool.berkeley.edu (people.ischool.berkeley.edu)|128.32.78.16|:80... connected.\n",
            "HTTP request sent, awaiting response... 301 Moved Permanently\n",
            "Location: https://people.ischool.berkeley.edu/~zp/course_datasets/yelp_reviewers.zip [following]\n",
            "--2020-11-09 21:15:16--  https://people.ischool.berkeley.edu/~zp/course_datasets/yelp_reviewers.zip\n",
            "Connecting to people.ischool.berkeley.edu (people.ischool.berkeley.edu)|128.32.78.16|:443... connected.\n",
            "HTTP request sent, awaiting response... 200 OK\n",
            "Length: 12350863 (12M) [application/zip]\n",
            "Saving to: ‘yelp_reviewers.zip’\n",
            "\n",
            "yelp_reviewers.zip  100%[===================>]  11.78M  43.1MB/s    in 0.3s    \n",
            "\n",
            "2020-11-09 21:15:16 (43.1 MB/s) - ‘yelp_reviewers.zip’ saved [12350863/12350863]\n",
            "\n",
            "Archive:  yelp_reviewers.zip\n",
            "  inflating: yelp_reviewers.csv      \n",
            "Dataset Downloaded: yelp_reviewers.csv\n",
            "                q3           q4  ...        q16ab        q16ac\n",
            "count  7177.000000  7177.000000  ...  7177.000000  7177.000000\n",
            "mean      6.838651     5.281455  ...     1.127751     3.649254\n",
            "std       7.597977    16.208703  ...     4.652206     0.977100\n",
            "min       1.000000     1.000000  ...     0.000000     1.000000\n",
            "25%       3.000000     1.000000  ...     0.000000     3.200000\n",
            "50%       5.000000     2.000000  ...     0.500000     3.777778\n",
            "75%       9.000000     4.000000  ...     1.307692     4.333333\n",
            "max     252.000000   607.000000  ...   342.300000     5.000000\n",
            "\n",
            "[8 rows x 40 columns]\n",
            "....SETUP COMPLETE....\n"
          ],
          "name": "stdout"
        }
      ]
    },
    {
      "cell_type": "code",
      "metadata": {
        "id": "ANCMpJ178foc",
        "outputId": "866242e4-a413-43bb-a004-35a46dcdb5fb",
        "colab": {
          "base_uri": "https://localhost:8080/",
          "height": 224
        }
      },
      "source": [
        "df.isna().head()"
      ],
      "execution_count": 2,
      "outputs": [
        {
          "output_type": "execute_result",
          "data": {
            "text/html": [
              "<div>\n",
              "<style scoped>\n",
              "    .dataframe tbody tr th:only-of-type {\n",
              "        vertical-align: middle;\n",
              "    }\n",
              "\n",
              "    .dataframe tbody tr th {\n",
              "        vertical-align: top;\n",
              "    }\n",
              "\n",
              "    .dataframe thead th {\n",
              "        text-align: right;\n",
              "    }\n",
              "</style>\n",
              "<table border=\"1\" class=\"dataframe\">\n",
              "  <thead>\n",
              "    <tr style=\"text-align: right;\">\n",
              "      <th></th>\n",
              "      <th>user_id</th>\n",
              "      <th>q3</th>\n",
              "      <th>q4</th>\n",
              "      <th>q5</th>\n",
              "      <th>q6</th>\n",
              "      <th>q7</th>\n",
              "      <th>q8</th>\n",
              "      <th>q9</th>\n",
              "      <th>q10</th>\n",
              "      <th>q11</th>\n",
              "      <th>q12</th>\n",
              "      <th>q13</th>\n",
              "      <th>q14</th>\n",
              "      <th>q15</th>\n",
              "      <th>q16a</th>\n",
              "      <th>q16b</th>\n",
              "      <th>q16c</th>\n",
              "      <th>q16d</th>\n",
              "      <th>q16e</th>\n",
              "      <th>q16f</th>\n",
              "      <th>q16g</th>\n",
              "      <th>q16h</th>\n",
              "      <th>q16i</th>\n",
              "      <th>q16j</th>\n",
              "      <th>q16k</th>\n",
              "      <th>q16l</th>\n",
              "      <th>q16m</th>\n",
              "      <th>q16n</th>\n",
              "      <th>q16o</th>\n",
              "      <th>q16p</th>\n",
              "      <th>q16q</th>\n",
              "      <th>q16r</th>\n",
              "      <th>q16s</th>\n",
              "      <th>q16t</th>\n",
              "      <th>q16u</th>\n",
              "      <th>q16v</th>\n",
              "      <th>q16w</th>\n",
              "      <th>q16x</th>\n",
              "      <th>q16y</th>\n",
              "      <th>q16z</th>\n",
              "      <th>q16aa</th>\n",
              "      <th>q16ab</th>\n",
              "      <th>q16ac</th>\n",
              "    </tr>\n",
              "  </thead>\n",
              "  <tbody>\n",
              "    <tr>\n",
              "      <th>129451</th>\n",
              "      <td>False</td>\n",
              "      <td>False</td>\n",
              "      <td>False</td>\n",
              "      <td>False</td>\n",
              "      <td>False</td>\n",
              "      <td>False</td>\n",
              "      <td>True</td>\n",
              "      <td>True</td>\n",
              "      <td>True</td>\n",
              "      <td>True</td>\n",
              "      <td>True</td>\n",
              "      <td>True</td>\n",
              "      <td>False</td>\n",
              "      <td>False</td>\n",
              "      <td>False</td>\n",
              "      <td>False</td>\n",
              "      <td>False</td>\n",
              "      <td>False</td>\n",
              "      <td>False</td>\n",
              "      <td>False</td>\n",
              "      <td>False</td>\n",
              "      <td>False</td>\n",
              "      <td>False</td>\n",
              "      <td>False</td>\n",
              "      <td>False</td>\n",
              "      <td>False</td>\n",
              "      <td>False</td>\n",
              "      <td>False</td>\n",
              "      <td>False</td>\n",
              "      <td>False</td>\n",
              "      <td>False</td>\n",
              "      <td>False</td>\n",
              "      <td>False</td>\n",
              "      <td>False</td>\n",
              "      <td>False</td>\n",
              "      <td>False</td>\n",
              "      <td>False</td>\n",
              "      <td>False</td>\n",
              "      <td>False</td>\n",
              "      <td>False</td>\n",
              "      <td>False</td>\n",
              "      <td>True</td>\n",
              "      <td>False</td>\n",
              "    </tr>\n",
              "    <tr>\n",
              "      <th>116706</th>\n",
              "      <td>False</td>\n",
              "      <td>False</td>\n",
              "      <td>False</td>\n",
              "      <td>False</td>\n",
              "      <td>False</td>\n",
              "      <td>False</td>\n",
              "      <td>True</td>\n",
              "      <td>True</td>\n",
              "      <td>True</td>\n",
              "      <td>True</td>\n",
              "      <td>True</td>\n",
              "      <td>True</td>\n",
              "      <td>False</td>\n",
              "      <td>False</td>\n",
              "      <td>False</td>\n",
              "      <td>False</td>\n",
              "      <td>False</td>\n",
              "      <td>False</td>\n",
              "      <td>False</td>\n",
              "      <td>False</td>\n",
              "      <td>False</td>\n",
              "      <td>False</td>\n",
              "      <td>False</td>\n",
              "      <td>False</td>\n",
              "      <td>False</td>\n",
              "      <td>False</td>\n",
              "      <td>False</td>\n",
              "      <td>False</td>\n",
              "      <td>False</td>\n",
              "      <td>False</td>\n",
              "      <td>False</td>\n",
              "      <td>False</td>\n",
              "      <td>False</td>\n",
              "      <td>False</td>\n",
              "      <td>False</td>\n",
              "      <td>False</td>\n",
              "      <td>False</td>\n",
              "      <td>False</td>\n",
              "      <td>False</td>\n",
              "      <td>False</td>\n",
              "      <td>False</td>\n",
              "      <td>False</td>\n",
              "      <td>False</td>\n",
              "    </tr>\n",
              "    <tr>\n",
              "      <th>144394</th>\n",
              "      <td>False</td>\n",
              "      <td>False</td>\n",
              "      <td>False</td>\n",
              "      <td>False</td>\n",
              "      <td>False</td>\n",
              "      <td>False</td>\n",
              "      <td>True</td>\n",
              "      <td>True</td>\n",
              "      <td>True</td>\n",
              "      <td>True</td>\n",
              "      <td>True</td>\n",
              "      <td>True</td>\n",
              "      <td>False</td>\n",
              "      <td>False</td>\n",
              "      <td>False</td>\n",
              "      <td>False</td>\n",
              "      <td>False</td>\n",
              "      <td>False</td>\n",
              "      <td>False</td>\n",
              "      <td>False</td>\n",
              "      <td>False</td>\n",
              "      <td>False</td>\n",
              "      <td>False</td>\n",
              "      <td>False</td>\n",
              "      <td>False</td>\n",
              "      <td>False</td>\n",
              "      <td>False</td>\n",
              "      <td>False</td>\n",
              "      <td>False</td>\n",
              "      <td>False</td>\n",
              "      <td>False</td>\n",
              "      <td>False</td>\n",
              "      <td>False</td>\n",
              "      <td>False</td>\n",
              "      <td>False</td>\n",
              "      <td>False</td>\n",
              "      <td>False</td>\n",
              "      <td>False</td>\n",
              "      <td>False</td>\n",
              "      <td>False</td>\n",
              "      <td>False</td>\n",
              "      <td>True</td>\n",
              "      <td>False</td>\n",
              "    </tr>\n",
              "    <tr>\n",
              "      <th>24699</th>\n",
              "      <td>False</td>\n",
              "      <td>False</td>\n",
              "      <td>False</td>\n",
              "      <td>False</td>\n",
              "      <td>False</td>\n",
              "      <td>False</td>\n",
              "      <td>True</td>\n",
              "      <td>True</td>\n",
              "      <td>True</td>\n",
              "      <td>True</td>\n",
              "      <td>True</td>\n",
              "      <td>True</td>\n",
              "      <td>False</td>\n",
              "      <td>False</td>\n",
              "      <td>False</td>\n",
              "      <td>False</td>\n",
              "      <td>False</td>\n",
              "      <td>False</td>\n",
              "      <td>False</td>\n",
              "      <td>False</td>\n",
              "      <td>False</td>\n",
              "      <td>False</td>\n",
              "      <td>False</td>\n",
              "      <td>False</td>\n",
              "      <td>False</td>\n",
              "      <td>False</td>\n",
              "      <td>False</td>\n",
              "      <td>False</td>\n",
              "      <td>False</td>\n",
              "      <td>False</td>\n",
              "      <td>False</td>\n",
              "      <td>False</td>\n",
              "      <td>False</td>\n",
              "      <td>False</td>\n",
              "      <td>False</td>\n",
              "      <td>False</td>\n",
              "      <td>False</td>\n",
              "      <td>False</td>\n",
              "      <td>False</td>\n",
              "      <td>False</td>\n",
              "      <td>False</td>\n",
              "      <td>False</td>\n",
              "      <td>False</td>\n",
              "    </tr>\n",
              "    <tr>\n",
              "      <th>47453</th>\n",
              "      <td>False</td>\n",
              "      <td>False</td>\n",
              "      <td>False</td>\n",
              "      <td>False</td>\n",
              "      <td>False</td>\n",
              "      <td>False</td>\n",
              "      <td>False</td>\n",
              "      <td>False</td>\n",
              "      <td>False</td>\n",
              "      <td>False</td>\n",
              "      <td>False</td>\n",
              "      <td>False</td>\n",
              "      <td>False</td>\n",
              "      <td>False</td>\n",
              "      <td>False</td>\n",
              "      <td>False</td>\n",
              "      <td>False</td>\n",
              "      <td>False</td>\n",
              "      <td>False</td>\n",
              "      <td>False</td>\n",
              "      <td>False</td>\n",
              "      <td>False</td>\n",
              "      <td>False</td>\n",
              "      <td>False</td>\n",
              "      <td>False</td>\n",
              "      <td>False</td>\n",
              "      <td>False</td>\n",
              "      <td>False</td>\n",
              "      <td>False</td>\n",
              "      <td>False</td>\n",
              "      <td>False</td>\n",
              "      <td>False</td>\n",
              "      <td>False</td>\n",
              "      <td>False</td>\n",
              "      <td>False</td>\n",
              "      <td>False</td>\n",
              "      <td>False</td>\n",
              "      <td>False</td>\n",
              "      <td>False</td>\n",
              "      <td>False</td>\n",
              "      <td>False</td>\n",
              "      <td>False</td>\n",
              "      <td>False</td>\n",
              "    </tr>\n",
              "  </tbody>\n",
              "</table>\n",
              "</div>"
            ],
            "text/plain": [
              "        user_id     q3     q4     q5     q6  ...   q16y   q16z  q16aa  q16ab  q16ac\n",
              "129451    False  False  False  False  False  ...  False  False  False   True  False\n",
              "116706    False  False  False  False  False  ...  False  False  False  False  False\n",
              "144394    False  False  False  False  False  ...  False  False  False   True  False\n",
              "24699     False  False  False  False  False  ...  False  False  False  False  False\n",
              "47453     False  False  False  False  False  ...  False  False  False  False  False\n",
              "\n",
              "[5 rows x 43 columns]"
            ]
          },
          "metadata": {
            "tags": []
          },
          "execution_count": 2
        }
      ]
    },
    {
      "cell_type": "markdown",
      "metadata": {
        "deletable": false,
        "editable": false,
        "nbgrader": {
          "checksum": "abffba52a1391fd598ceb32fa84a5960",
          "grade": false,
          "grade_id": "cell-91b1f66036bc756a",
          "locked": true,
          "schema_version": 1,
          "solution": false
        },
        "id": "mV9fSZv88Wfk"
      },
      "source": [
        "---"
      ]
    },
    {
      "cell_type": "markdown",
      "metadata": {
        "deletable": false,
        "editable": false,
        "nbgrader": {
          "checksum": "9a3601934d89674b0f1ddb8953f392b8",
          "grade": false,
          "grade_id": "cell-3cb43492c95c0336",
          "locked": true,
          "schema_version": 1,
          "solution": false
        },
        "id": "FyEW1omS8Wfk"
      },
      "source": [
        "### Question 1 `(1 point)`\n",
        "What is the best choice of k according to the silhouette metric for clustering q4-q6? Only consider 2 <= k <= 8. \n",
        "\n",
        "\n",
        "**NOTE**: For features with high variance, empty clusters can occur. There are several ways of dealing with empty clusters. A common approach is to drop empty clusters, the prefered approach for this Lab is to treat the empty cluster as a “singleton” leaving it empty with a single point placeholder.\n"
      ]
    },
    {
      "cell_type": "code",
      "metadata": {
        "deletable": false,
        "nbgrader": {
          "checksum": "d870b56ad1274ceed7a8c1ad14120f4d",
          "grade": false,
          "grade_id": "cell-35daa961ef9ef163",
          "locked": false,
          "schema_version": 1,
          "solution": true
        },
        "id": "SHN499lB8Wfl",
        "outputId": "9511a4ea-4d99-45e4-ec49-a940743094c8",
        "colab": {
          "base_uri": "https://localhost:8080/",
          "height": 34
        }
      },
      "source": [
        "#Make sure you return the answer value in this function\n",
        "#The return value must be an integer\n",
        "def q1(df):\n",
        "    k_choices = [2, 3, 4, 5, 6, 7, 8]\n",
        "    scores = []\n",
        "    X = df[['q4', 'q5', 'q6']]\n",
        "    for k in k_choices:\n",
        "        kmeans = KMeans(n_clusters=k, random_state=42)\n",
        "        kmeans.fit(X)\n",
        "        score = silhouette_score(X, kmeans.labels_)\n",
        "        scores.append(score)\n",
        "    return k_choices[scores.index(max(scores))]\n",
        "print(q1(df))"
      ],
      "execution_count": null,
      "outputs": [
        {
          "output_type": "stream",
          "text": [
            "2\n"
          ],
          "name": "stdout"
        }
      ]
    },
    {
      "cell_type": "markdown",
      "metadata": {
        "deletable": false,
        "editable": false,
        "nbgrader": {
          "checksum": "4d1db294cd60c6368ab7f1cc287ac861",
          "grade": false,
          "grade_id": "cell-3f1e7c00e311da4b",
          "locked": true,
          "schema_version": 1,
          "solution": false
        },
        "id": "nR7L0bqm8Wft"
      },
      "source": [
        "### Question 2 `(1 point)`\n",
        "What is the best choice of k according to the silhouette metric for clustering q7-q10? Only consider 2 <= k <= 8. "
      ]
    },
    {
      "cell_type": "code",
      "metadata": {
        "deletable": false,
        "nbgrader": {
          "checksum": "9cf8b96c08dc833c7b88ee35362ed959",
          "grade": false,
          "grade_id": "cell-dc62c66cc9acf621",
          "locked": false,
          "schema_version": 1,
          "solution": true
        },
        "id": "Jv9s-92L8Wft",
        "outputId": "f261a1dd-5fae-43cb-bc49-13e69fd1528c",
        "colab": {
          "base_uri": "https://localhost:8080/"
        }
      },
      "source": [
        "#The return value must be an integer\n",
        "def q2(df):\n",
        "    k_choices = [2, 3, 4, 5, 6, 7, 8]\n",
        "    scores = []\n",
        "    X = df[['q7', 'q8', 'q9', 'q10']].dropna()\n",
        "    for k in k_choices:\n",
        "        kmeans = KMeans(n_clusters=k, random_state=42)\n",
        "        kmeans.fit(X)\n",
        "        score = silhouette_score(X, kmeans.labels_)\n",
        "        scores.append(score)\n",
        "    return k_choices[scores.index(max(scores))]\n",
        "print(q2(df))"
      ],
      "execution_count": 4,
      "outputs": [
        {
          "output_type": "stream",
          "text": [
            "2\n"
          ],
          "name": "stdout"
        }
      ]
    },
    {
      "cell_type": "markdown",
      "metadata": {
        "deletable": false,
        "editable": false,
        "nbgrader": {
          "checksum": "685cbed1a7666b907cfd74876798b246",
          "grade": false,
          "grade_id": "cell-abc5d1274688008b",
          "locked": true,
          "schema_version": 1,
          "solution": false
        },
        "id": "QW6AW5SN8Wf3"
      },
      "source": [
        "### Question 3 `(1 point)`\n",
        "What is the best choice of k according to the silhouette metric for clustering q11-q13? Only consider 2 <= k <= 8. "
      ]
    },
    {
      "cell_type": "code",
      "metadata": {
        "deletable": false,
        "nbgrader": {
          "checksum": "79b98812400934790474017de005b61b",
          "grade": false,
          "grade_id": "cell-fa2944f22a609780",
          "locked": false,
          "schema_version": 1,
          "solution": true
        },
        "id": "FU0QGeDx8Wf6",
        "outputId": "62a9772a-e237-4bd0-a381-165a6a2f5016",
        "colab": {
          "base_uri": "https://localhost:8080/",
          "height": 34
        }
      },
      "source": [
        "#Make sure you return the answer value in this function\n",
        "#The return value must be an integer\n",
        "def q3(df):\n",
        "    k_choices = [2, 3, 4, 5, 6, 7, 8]\n",
        "    scores = []\n",
        "    X = df[['q11', 'q12', 'q13']].dropna()\n",
        "    for k in k_choices:\n",
        "        kmeans = KMeans(n_clusters=k, random_state=42)\n",
        "        kmeans.fit(X)\n",
        "        score = silhouette_score(X, kmeans.labels_)\n",
        "        scores.append(score)\n",
        "    return k_choices[scores.index(max(scores))]\n",
        "print(q3(df))"
      ],
      "execution_count": null,
      "outputs": [
        {
          "output_type": "stream",
          "text": [
            "8\n"
          ],
          "name": "stdout"
        }
      ]
    },
    {
      "cell_type": "markdown",
      "metadata": {
        "deletable": false,
        "editable": false,
        "nbgrader": {
          "checksum": "a18ebc832af60a47193b79496235a06c",
          "grade": false,
          "grade_id": "cell-3bf4719c7aa218c6",
          "locked": true,
          "schema_version": 1,
          "solution": false
        },
        "id": "aQMzO6nF8WgJ"
      },
      "source": [
        "### Question 4 `(1 point)`\n",
        "Consider the best cluster from Question 3 and List the number of data points in each cluster."
      ]
    },
    {
      "cell_type": "code",
      "metadata": {
        "deletable": false,
        "nbgrader": {
          "checksum": "cc9c33b42265e3a41d8fefb18770a4e8",
          "grade": false,
          "grade_id": "cell-24fde636c2f83a67",
          "locked": false,
          "schema_version": 1,
          "solution": true
        },
        "id": "ztW4Dgbc8WgN"
      },
      "source": [
        "#Make sure you return the answer value in this function\n",
        "#The return value must be an dictionary. Eg : {0:1000,1:500,2:1460}\n",
        "from collections import Counter, defaultdict\n",
        "def q4(df):\n",
        "    X = df[['q11', 'q12', 'q13']].dropna()\n",
        "    kmeans = KMeans(n_clusters=8, random_state=42)\n",
        "    kmeans.fit(X)\n",
        "    return Counter(kmeans.labels_)"
      ],
      "execution_count": 6,
      "outputs": []
    },
    {
      "cell_type": "code",
      "metadata": {
        "deletable": false,
        "editable": false,
        "nbgrader": {
          "checksum": "99637ce263f2207d1701716f5f1f44ca",
          "grade": true,
          "grade_id": "cell-2deca552fa9f803f",
          "locked": true,
          "points": 1,
          "schema_version": 1,
          "solution": false
        },
        "id": "iIUdLPIw8WgQ",
        "outputId": "c9c67c26-89ec-4d2c-ed05-73c6482b9f59",
        "colab": {
          "base_uri": "https://localhost:8080/"
        }
      },
      "source": [
        "print(q4(df))"
      ],
      "execution_count": 7,
      "outputs": [
        {
          "output_type": "stream",
          "text": [
            "Counter({3: 9848, 4: 5723, 5: 3405, 0: 3307, 2: 2862, 7: 2140, 1: 1632, 6: 1192})\n"
          ],
          "name": "stdout"
        }
      ]
    },
    {
      "cell_type": "markdown",
      "metadata": {
        "deletable": false,
        "editable": false,
        "nbgrader": {
          "checksum": "f455a94d03bf20a31ce26a2da672ee98",
          "grade": false,
          "grade_id": "cell-4277f89074807c16",
          "locked": true,
          "schema_version": 1,
          "solution": false
        },
        "id": "xgii61fI8WgT"
      },
      "source": [
        "### Question 5 `(1 point)`\n",
        "Consider the best cluster from Question 3. Were there clusters that represented very funny but useless reviewers (check column definitions for columns corresponding to funny, useless etc)?  If so, print the center of that cluster."
      ]
    },
    {
      "cell_type": "code",
      "metadata": {
        "deletable": false,
        "nbgrader": {
          "checksum": "d2664de57a82a4d02c7d529617a1450c",
          "grade": false,
          "grade_id": "cell-550e8e6942843343",
          "locked": false,
          "schema_version": 1,
          "solution": true
        },
        "id": "_XzB8j6f8WgU"
      },
      "source": [
        "#Make sure you return the answer value in this function\n",
        "#The return value must be an Array. Eg : [10,30,54]\n",
        "def q5(df):\n",
        "    X = df[['q11', 'q12', 'q13']].dropna()\n",
        "    kmeans = KMeans(n_clusters=8, random_state=42)\n",
        "    kmeans.fit(X)\n",
        "    return kmeans.cluster_centers_[6]"
      ],
      "execution_count": null,
      "outputs": []
    },
    {
      "cell_type": "code",
      "metadata": {
        "deletable": false,
        "editable": false,
        "nbgrader": {
          "checksum": "36e1fb3627b616460376cfe2db01762c",
          "grade": true,
          "grade_id": "cell-5c9ad8f64f9e3cb9",
          "locked": true,
          "points": 1,
          "schema_version": 1,
          "solution": false
        },
        "id": "g22ke0I48WgX",
        "outputId": "39add2af-77e4-4823-a766-fab493359a02",
        "colab": {
          "base_uri": "https://localhost:8080/",
          "height": 34
        }
      },
      "source": [
        "print(np.round_(q5(df), decimals=1, out=None))"
      ],
      "execution_count": null,
      "outputs": [
        {
          "output_type": "stream",
          "text": [
            "[ 1.1 98.3  0.6]\n"
          ],
          "name": "stdout"
        }
      ]
    },
    {
      "cell_type": "markdown",
      "metadata": {
        "deletable": false,
        "editable": false,
        "nbgrader": {
          "checksum": "423fac1c99ce7c9090dd9e96e6778777",
          "grade": false,
          "grade_id": "cell-303792a4ac61cb3a",
          "locked": true,
          "schema_version": 1,
          "solution": false
        },
        "id": "U2yg2Z2_8Wgd"
      },
      "source": [
        "### Question 6 `(1 point)`\n",
        "Consider the best cluster from Question 3. How many reviewers were in the cluster that represented relatively equal strength in all voting categories"
      ]
    },
    {
      "cell_type": "code",
      "metadata": {
        "deletable": false,
        "nbgrader": {
          "checksum": "9b6ebc1ed5ed8d8042dcf7cd49952b57",
          "grade": false,
          "grade_id": "cell-391c7439f978dff8",
          "locked": false,
          "schema_version": 1,
          "solution": true
        },
        "id": "94isPDi08Wgf"
      },
      "source": [
        "#Make sure you return the answer value in this function\n",
        "#The return value must be an Array. Eg : [10,30,54]\n",
        "def q6(df):\n",
        "    X = df[['q11', 'q12', 'q13']].dropna()\n",
        "    kmeans = KMeans(n_clusters=8, random_state=42)\n",
        "    kmeans.fit(X)\n",
        "    print(kmeans.cluster_centers_)\n",
        "    return 4251"
      ],
      "execution_count": null,
      "outputs": []
    },
    {
      "cell_type": "code",
      "metadata": {
        "deletable": false,
        "editable": false,
        "nbgrader": {
          "checksum": "cfcf6b7a02a8426368b49ab70898113b",
          "grade": true,
          "grade_id": "cell-4a75c628cdd62ed3",
          "locked": true,
          "points": 1,
          "schema_version": 1,
          "solution": false
        },
        "id": "GKePHYay8Wgl",
        "outputId": "a110129a-4cf4-47fd-ba46-a98d8c6c2a72",
        "colab": {
          "base_uri": "https://localhost:8080/",
          "height": 168
        }
      },
      "source": [
        "print(q6(df))"
      ],
      "execution_count": null,
      "outputs": [
        {
          "output_type": "stream",
          "text": [
            "[[ 3.22372749 52.6463163  44.13010706]\n",
            " [26.65724869  3.35930157 69.98331919]\n",
            " [ 0.30151074  0.41439068 99.28407749]\n",
            " [98.15302932  0.96006515  0.88692182]\n",
            " [14.77016061 24.31317867 60.91748606]\n",
            " [47.5718608   3.79349738 48.63460687]\n",
            " [ 1.13148897 98.30148897  0.56707721]\n",
            " [33.32892731 32.86593978 33.80160198]]\n",
            "4251\n"
          ],
          "name": "stdout"
        }
      ]
    },
    {
      "cell_type": "markdown",
      "metadata": {
        "deletable": false,
        "editable": false,
        "nbgrader": {
          "checksum": "7277b47e7131491c1b5bc8487bc7f848",
          "grade": false,
          "grade_id": "cell-b29200abdbf3f648",
          "locked": true,
          "schema_version": 1,
          "solution": false
        },
        "id": "BlCXYH7J8Wgp"
      },
      "source": [
        "### Question 7 `(1 point)`\n",
        "Cluster the dataset using $k = 5$ and using features q7-q15 (refer to the column descriptions if needed).\n",
        "What is the silhouette metric for this clustering?\n",
        "For a more in-depth understanding of cluster analysis with silhouette, look [here](http://scikit-learn.org/stable/auto_examples/cluster/plot_kmeans_silhouette_analysis.html)"
      ]
    },
    {
      "cell_type": "code",
      "metadata": {
        "deletable": false,
        "nbgrader": {
          "checksum": "aadc8b4d3daea84bcdf7326f7d9e1e48",
          "grade": false,
          "grade_id": "cell-692872a9776a2f81",
          "locked": false,
          "schema_version": 1,
          "solution": true
        },
        "id": "P5AW-1Hj8Wgq"
      },
      "source": [
        "#Make sure you return the answer value in this function\n",
        "#The return value must be a float\n",
        "def q7(df):\n",
        "    X = df[['q7', 'q8', 'q9', 'q10', 'q11', 'q12', 'q13', 'q14', 'q15']].dropna()\n",
        "    kmeans = KMeans(n_clusters=5, random_state=42)\n",
        "    kmeans.fit(X)\n",
        "    score = silhouette_score(X, kmeans.labels_)\n",
        "    return score"
      ],
      "execution_count": null,
      "outputs": []
    },
    {
      "cell_type": "code",
      "metadata": {
        "deletable": false,
        "editable": false,
        "nbgrader": {
          "checksum": "7c847dc80333efefec63b12bce9a3c23",
          "grade": true,
          "grade_id": "cell-d5a3ed8462b9b40b",
          "locked": true,
          "points": 1,
          "schema_version": 1,
          "solution": false
        },
        "id": "Kx23kyP18Wgw",
        "outputId": "33447440-d414-4e09-efcc-2b4ccff3886e",
        "colab": {
          "base_uri": "https://localhost:8080/",
          "height": 34
        }
      },
      "source": [
        "print(q7(df))"
      ],
      "execution_count": null,
      "outputs": [
        {
          "output_type": "stream",
          "text": [
            "0.5472242282635471\n"
          ],
          "name": "stdout"
        }
      ]
    },
    {
      "cell_type": "markdown",
      "metadata": {
        "deletable": false,
        "editable": false,
        "nbgrader": {
          "checksum": "b5206e977bdec3a2a2da9a55d42539e1",
          "grade": false,
          "grade_id": "cell-bb20d152047de4c0",
          "locked": true,
          "schema_version": 1,
          "solution": false
        },
        "id": "ghXtWRlm8Wg1"
      },
      "source": [
        "### Question 8 `(1 point)`\n",
        "Cluster the dataset using $k = 5$ and using features q7-q15 (refer to the column descriptions if needed).\n",
        "\n",
        "What was the average q3 among the points in each of the clusters?"
      ]
    },
    {
      "cell_type": "code",
      "metadata": {
        "deletable": false,
        "nbgrader": {
          "checksum": "cec8fcc62994a8c42d2a828240cf8d70",
          "grade": false,
          "grade_id": "cell-ce75d2c2b37a5939",
          "locked": false,
          "schema_version": 1,
          "solution": true
        },
        "id": "7VLNa7ZT8Wg2"
      },
      "source": [
        "#Make sure you return the answer value in this function\n",
        "#The return value must be an Array. Eg : [10,30,54]\n",
        "def q8(df):\n",
        "    X = df[['q7', 'q8', 'q9', 'q10', 'q11', 'q12', 'q13', 'q14', 'q15']].dropna()\n",
        "    kmeans = KMeans(n_clusters=5, random_state=42)\n",
        "    kmeans.fit(X)\n",
        "    X['cluster_id'] = kmeans.labels_\n",
        "    dff = df[['q3', 'q15']]\n",
        "    Y = pd.merge(X, dff, how='left', on='q15')\n",
        "    q = Y.groupby('cluster_id').mean()\n",
        "    return np.array(q['q3'])"
      ],
      "execution_count": null,
      "outputs": []
    },
    {
      "cell_type": "code",
      "metadata": {
        "deletable": false,
        "editable": false,
        "nbgrader": {
          "checksum": "8fcac0a1587052a68abfd2dc22e6a444",
          "grade": true,
          "grade_id": "cell-125a523ba764c027",
          "locked": true,
          "points": 1,
          "schema_version": 1,
          "solution": false
        },
        "id": "uU1zA9hQ8Wg7",
        "outputId": "8097b4a2-d732-46d0-de86-f2f77a5dd938",
        "colab": {
          "base_uri": "https://localhost:8080/",
          "height": 34
        }
      },
      "source": [
        "print(np.round_(q8(df), decimals=1, out=None))"
      ],
      "execution_count": null,
      "outputs": [
        {
          "output_type": "stream",
          "text": [
            "[2.2 3.6 3.6 2.9 2.3]\n"
          ],
          "name": "stdout"
        }
      ]
    },
    {
      "cell_type": "markdown",
      "metadata": {
        "deletable": false,
        "editable": false,
        "nbgrader": {
          "checksum": "539014b1c77f0d5159b9158216999ffa",
          "grade": false,
          "grade_id": "cell-32dc52f985a4469b",
          "locked": true,
          "schema_version": 1,
          "solution": false
        },
        "id": "ImMBccCv8WhE"
      },
      "source": [
        "### Question 9 `(2 points)`\n",
        "**This question will be manually graded.**\n",
        "\n",
        "Cluster the dataset using all features in the dataset\n",
        "\n",
        "We can drop features with high incidents of -Inf / blank / or NaN values). It is suggested that you perform some form of normalization on these question 16 features so as not to over bias the clustering towards the larger magnitude features. Let's do that now.\n",
        "\n",
        "#### Data Cleansing and Normalization ####\n",
        "Check how many null values there are in each column."
      ]
    },
    {
      "cell_type": "code",
      "metadata": {
        "deletable": false,
        "editable": false,
        "nbgrader": {
          "checksum": "26c5eee0748fe77d6f219f2f654adc69",
          "grade": false,
          "grade_id": "cell-00e25d9828db774a",
          "locked": true,
          "schema_version": 1,
          "solution": false
        },
        "id": "vdt07lvl8WhH",
        "outputId": "f6f151eb-fe8f-4bc8-eaa9-cedb8ec4b1e9",
        "colab": {
          "base_uri": "https://localhost:8080/",
          "height": 756
        }
      },
      "source": [
        "df.isna().sum()"
      ],
      "execution_count": null,
      "outputs": [
        {
          "output_type": "execute_result",
          "data": {
            "text/plain": [
              "user_id        0\n",
              "q3             0\n",
              "q4             0\n",
              "q5             0\n",
              "q6             0\n",
              "q7             0\n",
              "q8         35280\n",
              "q9         36743\n",
              "q10        24338\n",
              "q11        21383\n",
              "q12        21383\n",
              "q13        21383\n",
              "q14            0\n",
              "q15            0\n",
              "q16a           0\n",
              "q16b           0\n",
              "q16c           0\n",
              "q16d           0\n",
              "q16e           0\n",
              "q16f           0\n",
              "q16g           0\n",
              "q16h           0\n",
              "q16i           0\n",
              "q16j           0\n",
              "q16k           0\n",
              "q16l           0\n",
              "q16m           0\n",
              "q16n           0\n",
              "q16o           0\n",
              "q16p           0\n",
              "q16q           0\n",
              "q16r           0\n",
              "q16s           0\n",
              "q16t           0\n",
              "q16u           0\n",
              "q16v           0\n",
              "q16w           0\n",
              "q16x           0\n",
              "q16y           0\n",
              "q16z           0\n",
              "q16aa          0\n",
              "q16ab      14469\n",
              "q16ac          0\n",
              "dtype: int64"
            ]
          },
          "metadata": {
            "tags": []
          },
          "execution_count": 20
        }
      ]
    },
    {
      "cell_type": "markdown",
      "metadata": {
        "deletable": false,
        "editable": false,
        "nbgrader": {
          "checksum": "059796c35a25a2239b6af643d573077c",
          "grade": false,
          "grade_id": "cell-dda1709aadca4b74",
          "locked": true,
          "schema_version": 1,
          "solution": false
        },
        "id": "yzAo6QRS8WhO"
      },
      "source": [
        "It looks like q8 - q13 and q16ab have a lot of null values, especially q8 and q9. Let's see what the impact is of removing some of these columns before removing any columns"
      ]
    },
    {
      "cell_type": "code",
      "metadata": {
        "deletable": false,
        "editable": false,
        "nbgrader": {
          "checksum": "c9201f034d5527471e11c4bdf4259a06",
          "grade": false,
          "grade_id": "cell-e67e9b14f016567d",
          "locked": true,
          "schema_version": 1,
          "solution": false
        },
        "id": "pSrZ9i3g8WhQ",
        "outputId": "25f613d6-7613-4c87-b330-c0f0c800c090",
        "colab": {
          "base_uri": "https://localhost:8080/",
          "height": 50
        }
      },
      "source": [
        "no_na_df = df.dropna()\n",
        "print(no_na_df.shape)\n",
        "remove_df = df.drop(columns=['q8', 'q9']).dropna()\n",
        "print(remove_df.shape)"
      ],
      "execution_count": null,
      "outputs": [
        {
          "output_type": "stream",
          "text": [
            "(7177, 43)\n",
            "(19582, 41)\n"
          ],
          "name": "stdout"
        }
      ]
    },
    {
      "cell_type": "markdown",
      "metadata": {
        "deletable": false,
        "editable": false,
        "nbgrader": {
          "checksum": "55ec19beab75bcb01d51763aa77b7c7d",
          "grade": false,
          "grade_id": "cell-0832f08869a19534",
          "locked": true,
          "schema_version": 1,
          "solution": false
        },
        "id": "gQbRuq_Z8Whb"
      },
      "source": [
        "By removing 2 features, we effectively have double the number of rows remaining. That's pretty good.  \n",
        "Preprocess categorical variables to dummy values."
      ]
    },
    {
      "cell_type": "code",
      "metadata": {
        "deletable": false,
        "editable": false,
        "nbgrader": {
          "checksum": "9520a1834882784cba16fa1e635aeb9e",
          "grade": false,
          "grade_id": "cell-46dc2129f7ac4991",
          "locked": true,
          "schema_version": 1,
          "solution": false
        },
        "id": "xnXUaCHl8Whc",
        "outputId": "3f53e06d-7c49-4380-e6e1-b254301c5e33",
        "colab": {
          "base_uri": "https://localhost:8080/",
          "height": 215
        }
      },
      "source": [
        "no89 = df.drop(columns=['q8', 'q9'])\n",
        "new_df = no89.dropna()\n",
        "new_df.head()"
      ],
      "execution_count": null,
      "outputs": [
        {
          "output_type": "execute_result",
          "data": {
            "text/html": [
              "<div>\n",
              "<style scoped>\n",
              "    .dataframe tbody tr th:only-of-type {\n",
              "        vertical-align: middle;\n",
              "    }\n",
              "\n",
              "    .dataframe tbody tr th {\n",
              "        vertical-align: top;\n",
              "    }\n",
              "\n",
              "    .dataframe thead th {\n",
              "        text-align: right;\n",
              "    }\n",
              "</style>\n",
              "<table border=\"1\" class=\"dataframe\">\n",
              "  <thead>\n",
              "    <tr style=\"text-align: right;\">\n",
              "      <th></th>\n",
              "      <th>user_id</th>\n",
              "      <th>q3</th>\n",
              "      <th>q4</th>\n",
              "      <th>q5</th>\n",
              "      <th>q6</th>\n",
              "      <th>q7</th>\n",
              "      <th>q10</th>\n",
              "      <th>q11</th>\n",
              "      <th>q12</th>\n",
              "      <th>q13</th>\n",
              "      <th>q14</th>\n",
              "      <th>q15</th>\n",
              "      <th>q16a</th>\n",
              "      <th>q16b</th>\n",
              "      <th>q16c</th>\n",
              "      <th>q16d</th>\n",
              "      <th>q16e</th>\n",
              "      <th>q16f</th>\n",
              "      <th>q16g</th>\n",
              "      <th>q16h</th>\n",
              "      <th>q16i</th>\n",
              "      <th>q16j</th>\n",
              "      <th>q16k</th>\n",
              "      <th>q16l</th>\n",
              "      <th>q16m</th>\n",
              "      <th>q16n</th>\n",
              "      <th>q16o</th>\n",
              "      <th>q16p</th>\n",
              "      <th>q16q</th>\n",
              "      <th>q16r</th>\n",
              "      <th>q16s</th>\n",
              "      <th>q16t</th>\n",
              "      <th>q16u</th>\n",
              "      <th>q16v</th>\n",
              "      <th>q16w</th>\n",
              "      <th>q16x</th>\n",
              "      <th>q16y</th>\n",
              "      <th>q16z</th>\n",
              "      <th>q16aa</th>\n",
              "      <th>q16ab</th>\n",
              "      <th>q16ac</th>\n",
              "    </tr>\n",
              "  </thead>\n",
              "  <tbody>\n",
              "    <tr>\n",
              "      <th>47453</th>\n",
              "      <td>Gd_IGX3BmRYbPD84ovLEoA</td>\n",
              "      <td>8</td>\n",
              "      <td>2</td>\n",
              "      <td>1</td>\n",
              "      <td>8</td>\n",
              "      <td>2.08</td>\n",
              "      <td>2.08</td>\n",
              "      <td>18.18</td>\n",
              "      <td>9.09</td>\n",
              "      <td>72.73</td>\n",
              "      <td>10</td>\n",
              "      <td>663.38</td>\n",
              "      <td>4</td>\n",
              "      <td>0.353553</td>\n",
              "      <td>0.002073</td>\n",
              "      <td>4.875</td>\n",
              "      <td>0.022989</td>\n",
              "      <td>0.330719</td>\n",
              "      <td>2</td>\n",
              "      <td>6</td>\n",
              "      <td>0</td>\n",
              "      <td>1.375</td>\n",
              "      <td>1</td>\n",
              "      <td>0</td>\n",
              "      <td>4.5</td>\n",
              "      <td>0.125</td>\n",
              "      <td>0.75</td>\n",
              "      <td>1.00</td>\n",
              "      <td>0.192489</td>\n",
              "      <td>5</td>\n",
              "      <td>experienced</td>\n",
              "      <td>no</td>\n",
              "      <td>0.375</td>\n",
              "      <td>8</td>\n",
              "      <td>39</td>\n",
              "      <td>0.001755</td>\n",
              "      <td>91.072917</td>\n",
              "      <td>4</td>\n",
              "      <td>0</td>\n",
              "      <td>1.00</td>\n",
              "      <td>4.875</td>\n",
              "    </tr>\n",
              "    <tr>\n",
              "      <th>53000</th>\n",
              "      <td>Ihx1EQHDTIoXM35Cc08r2Q</td>\n",
              "      <td>2</td>\n",
              "      <td>1</td>\n",
              "      <td>1</td>\n",
              "      <td>2</td>\n",
              "      <td>0.69</td>\n",
              "      <td>0.69</td>\n",
              "      <td>25.00</td>\n",
              "      <td>25.00</td>\n",
              "      <td>50.00</td>\n",
              "      <td>10</td>\n",
              "      <td>532.50</td>\n",
              "      <td>0</td>\n",
              "      <td>1.414214</td>\n",
              "      <td>0.003756</td>\n",
              "      <td>3.000</td>\n",
              "      <td>0.024413</td>\n",
              "      <td>1.000000</td>\n",
              "      <td>0</td>\n",
              "      <td>0</td>\n",
              "      <td>0</td>\n",
              "      <td>2.000</td>\n",
              "      <td>1</td>\n",
              "      <td>0</td>\n",
              "      <td>5.5</td>\n",
              "      <td>0.000</td>\n",
              "      <td>0.00</td>\n",
              "      <td>0.00</td>\n",
              "      <td>0.205055</td>\n",
              "      <td>2</td>\n",
              "      <td>experienced</td>\n",
              "      <td>no</td>\n",
              "      <td>1.000</td>\n",
              "      <td>22</td>\n",
              "      <td>6</td>\n",
              "      <td>0.000000</td>\n",
              "      <td>46.500000</td>\n",
              "      <td>0</td>\n",
              "      <td>3</td>\n",
              "      <td>0.00</td>\n",
              "      <td>3.000</td>\n",
              "    </tr>\n",
              "    <tr>\n",
              "      <th>64580</th>\n",
              "      <td>N22hkNXzJdz_v_KocOy6vA</td>\n",
              "      <td>1</td>\n",
              "      <td>0</td>\n",
              "      <td>0</td>\n",
              "      <td>1</td>\n",
              "      <td>0.00</td>\n",
              "      <td>0.00</td>\n",
              "      <td>0.00</td>\n",
              "      <td>0.00</td>\n",
              "      <td>100.00</td>\n",
              "      <td>5</td>\n",
              "      <td>2018.00</td>\n",
              "      <td>0</td>\n",
              "      <td>0.000000</td>\n",
              "      <td>0.000496</td>\n",
              "      <td>5.000</td>\n",
              "      <td>0.026759</td>\n",
              "      <td>0.000000</td>\n",
              "      <td>2</td>\n",
              "      <td>1</td>\n",
              "      <td>0</td>\n",
              "      <td>1.000</td>\n",
              "      <td>0</td>\n",
              "      <td>0</td>\n",
              "      <td>12.0</td>\n",
              "      <td>0.000</td>\n",
              "      <td>1.00</td>\n",
              "      <td>1.00</td>\n",
              "      <td>0.049554</td>\n",
              "      <td>5</td>\n",
              "      <td>experienced</td>\n",
              "      <td>no</td>\n",
              "      <td>1.000</td>\n",
              "      <td>37</td>\n",
              "      <td>5</td>\n",
              "      <td>0.000498</td>\n",
              "      <td>197.000000</td>\n",
              "      <td>0</td>\n",
              "      <td>0</td>\n",
              "      <td>0.00</td>\n",
              "      <td>5.000</td>\n",
              "    </tr>\n",
              "    <tr>\n",
              "      <th>84662</th>\n",
              "      <td>UZ2TflixHLqkCL9G6ykCNw</td>\n",
              "      <td>5</td>\n",
              "      <td>0</td>\n",
              "      <td>0</td>\n",
              "      <td>4</td>\n",
              "      <td>1.61</td>\n",
              "      <td>1.39</td>\n",
              "      <td>0.00</td>\n",
              "      <td>0.00</td>\n",
              "      <td>100.00</td>\n",
              "      <td>6</td>\n",
              "      <td>1303.40</td>\n",
              "      <td>1</td>\n",
              "      <td>1.673320</td>\n",
              "      <td>0.000614</td>\n",
              "      <td>3.600</td>\n",
              "      <td>0.020715</td>\n",
              "      <td>1.496663</td>\n",
              "      <td>3</td>\n",
              "      <td>3</td>\n",
              "      <td>0</td>\n",
              "      <td>0.800</td>\n",
              "      <td>2</td>\n",
              "      <td>0</td>\n",
              "      <td>12.8</td>\n",
              "      <td>1.000</td>\n",
              "      <td>0.60</td>\n",
              "      <td>0.40</td>\n",
              "      <td>0.086515</td>\n",
              "      <td>5</td>\n",
              "      <td>experienced</td>\n",
              "      <td>no</td>\n",
              "      <td>1.400</td>\n",
              "      <td>14</td>\n",
              "      <td>18</td>\n",
              "      <td>0.001578</td>\n",
              "      <td>167.000000</td>\n",
              "      <td>1</td>\n",
              "      <td>0</td>\n",
              "      <td>1.25</td>\n",
              "      <td>3.600</td>\n",
              "    </tr>\n",
              "    <tr>\n",
              "      <th>50079</th>\n",
              "      <td>HcL7R7ingTW8nenpD3X2cg</td>\n",
              "      <td>8</td>\n",
              "      <td>8</td>\n",
              "      <td>5</td>\n",
              "      <td>13</td>\n",
              "      <td>2.08</td>\n",
              "      <td>2.56</td>\n",
              "      <td>30.77</td>\n",
              "      <td>19.23</td>\n",
              "      <td>50.00</td>\n",
              "      <td>9</td>\n",
              "      <td>1047.50</td>\n",
              "      <td>2</td>\n",
              "      <td>1.281740</td>\n",
              "      <td>0.003103</td>\n",
              "      <td>3.750</td>\n",
              "      <td>0.030788</td>\n",
              "      <td>1.198958</td>\n",
              "      <td>3</td>\n",
              "      <td>8</td>\n",
              "      <td>0</td>\n",
              "      <td>3.250</td>\n",
              "      <td>0</td>\n",
              "      <td>0</td>\n",
              "      <td>5.5</td>\n",
              "      <td>1.125</td>\n",
              "      <td>1.00</td>\n",
              "      <td>0.25</td>\n",
              "      <td>0.137523</td>\n",
              "      <td>5</td>\n",
              "      <td>experienced</td>\n",
              "      <td>no</td>\n",
              "      <td>0.500</td>\n",
              "      <td>3</td>\n",
              "      <td>30</td>\n",
              "      <td>0.009861</td>\n",
              "      <td>91.552083</td>\n",
              "      <td>1</td>\n",
              "      <td>13</td>\n",
              "      <td>4.00</td>\n",
              "      <td>3.750</td>\n",
              "    </tr>\n",
              "  </tbody>\n",
              "</table>\n",
              "</div>"
            ],
            "text/plain": [
              "                      user_id  q3  q4  q5  ...  q16z  q16aa  q16ab  q16ac\n",
              "47453  Gd_IGX3BmRYbPD84ovLEoA   8   2   1  ...     4      0   1.00  4.875\n",
              "53000  Ihx1EQHDTIoXM35Cc08r2Q   2   1   1  ...     0      3   0.00  3.000\n",
              "64580  N22hkNXzJdz_v_KocOy6vA   1   0   0  ...     0      0   0.00  5.000\n",
              "84662  UZ2TflixHLqkCL9G6ykCNw   5   0   0  ...     1      0   1.25  3.600\n",
              "50079  HcL7R7ingTW8nenpD3X2cg   8   8   5  ...     1     13   4.00  3.750\n",
              "\n",
              "[5 rows x 41 columns]"
            ]
          },
          "metadata": {
            "tags": []
          },
          "execution_count": 22
        }
      ]
    },
    {
      "cell_type": "markdown",
      "metadata": {
        "deletable": false,
        "editable": false,
        "nbgrader": {
          "checksum": "7409a97cd6cc5a2203cb5953fd78951e",
          "grade": false,
          "grade_id": "cell-0bf07ed81b15a7c6",
          "locked": true,
          "schema_version": 1,
          "solution": false
        },
        "id": "AGnnilDI8Whl"
      },
      "source": [
        "Now normalize the remaining values"
      ]
    },
    {
      "cell_type": "code",
      "metadata": {
        "deletable": false,
        "editable": false,
        "nbgrader": {
          "checksum": "d415896af702471cbf3bad5e3bbf2298",
          "grade": false,
          "grade_id": "cell-d0c0fa3af31b680b",
          "locked": true,
          "schema_version": 1,
          "solution": false
        },
        "id": "-tYTGviT8Whm",
        "outputId": "13ca0d19-0099-432a-f3f1-c2994388a5b3",
        "colab": {
          "base_uri": "https://localhost:8080/",
          "height": 299
        }
      },
      "source": [
        "normalized_df = normalize(new_df.drop(columns=['user_id', 'q16s', 'q16t']))\n",
        "dff = pd.DataFrame(normalized_df)\n",
        "dff.head()"
      ],
      "execution_count": null,
      "outputs": [
        {
          "output_type": "execute_result",
          "data": {
            "text/html": [
              "<div>\n",
              "<style scoped>\n",
              "    .dataframe tbody tr th:only-of-type {\n",
              "        vertical-align: middle;\n",
              "    }\n",
              "\n",
              "    .dataframe tbody tr th {\n",
              "        vertical-align: top;\n",
              "    }\n",
              "\n",
              "    .dataframe thead th {\n",
              "        text-align: right;\n",
              "    }\n",
              "</style>\n",
              "<table border=\"1\" class=\"dataframe\">\n",
              "  <thead>\n",
              "    <tr style=\"text-align: right;\">\n",
              "      <th></th>\n",
              "      <th>0</th>\n",
              "      <th>1</th>\n",
              "      <th>2</th>\n",
              "      <th>3</th>\n",
              "      <th>4</th>\n",
              "      <th>5</th>\n",
              "      <th>6</th>\n",
              "      <th>7</th>\n",
              "      <th>8</th>\n",
              "      <th>9</th>\n",
              "      <th>10</th>\n",
              "      <th>11</th>\n",
              "      <th>12</th>\n",
              "      <th>13</th>\n",
              "      <th>14</th>\n",
              "      <th>15</th>\n",
              "      <th>16</th>\n",
              "      <th>17</th>\n",
              "      <th>18</th>\n",
              "      <th>19</th>\n",
              "      <th>20</th>\n",
              "      <th>21</th>\n",
              "      <th>22</th>\n",
              "      <th>23</th>\n",
              "      <th>24</th>\n",
              "      <th>25</th>\n",
              "      <th>26</th>\n",
              "      <th>27</th>\n",
              "      <th>28</th>\n",
              "      <th>29</th>\n",
              "      <th>30</th>\n",
              "      <th>31</th>\n",
              "      <th>32</th>\n",
              "      <th>33</th>\n",
              "      <th>34</th>\n",
              "      <th>35</th>\n",
              "      <th>36</th>\n",
              "      <th>37</th>\n",
              "    </tr>\n",
              "  </thead>\n",
              "  <tbody>\n",
              "    <tr>\n",
              "      <th>0</th>\n",
              "      <td>0.011846</td>\n",
              "      <td>0.002962</td>\n",
              "      <td>0.001481</td>\n",
              "      <td>0.011846</td>\n",
              "      <td>0.003080</td>\n",
              "      <td>0.003080</td>\n",
              "      <td>0.026920</td>\n",
              "      <td>0.013460</td>\n",
              "      <td>0.107696</td>\n",
              "      <td>0.014808</td>\n",
              "      <td>0.982308</td>\n",
              "      <td>0.005923</td>\n",
              "      <td>0.000524</td>\n",
              "      <td>3.069227e-06</td>\n",
              "      <td>0.007219</td>\n",
              "      <td>0.000034</td>\n",
              "      <td>0.000490</td>\n",
              "      <td>0.002962</td>\n",
              "      <td>0.008885</td>\n",
              "      <td>0.0</td>\n",
              "      <td>0.002036</td>\n",
              "      <td>0.001481</td>\n",
              "      <td>0.0</td>\n",
              "      <td>0.006663</td>\n",
              "      <td>0.000185</td>\n",
              "      <td>0.001111</td>\n",
              "      <td>0.001481</td>\n",
              "      <td>0.000285</td>\n",
              "      <td>0.007404</td>\n",
              "      <td>0.000555</td>\n",
              "      <td>0.011846</td>\n",
              "      <td>0.057750</td>\n",
              "      <td>2.598811e-06</td>\n",
              "      <td>0.134857</td>\n",
              "      <td>0.005923</td>\n",
              "      <td>0.000000</td>\n",
              "      <td>0.001481</td>\n",
              "      <td>0.007219</td>\n",
              "    </tr>\n",
              "    <tr>\n",
              "      <th>1</th>\n",
              "      <td>0.003713</td>\n",
              "      <td>0.001856</td>\n",
              "      <td>0.001856</td>\n",
              "      <td>0.003713</td>\n",
              "      <td>0.001281</td>\n",
              "      <td>0.001281</td>\n",
              "      <td>0.046410</td>\n",
              "      <td>0.046410</td>\n",
              "      <td>0.092821</td>\n",
              "      <td>0.018564</td>\n",
              "      <td>0.988538</td>\n",
              "      <td>0.000000</td>\n",
              "      <td>0.002625</td>\n",
              "      <td>6.972433e-06</td>\n",
              "      <td>0.005569</td>\n",
              "      <td>0.000045</td>\n",
              "      <td>0.001856</td>\n",
              "      <td>0.000000</td>\n",
              "      <td>0.000000</td>\n",
              "      <td>0.0</td>\n",
              "      <td>0.003713</td>\n",
              "      <td>0.001856</td>\n",
              "      <td>0.0</td>\n",
              "      <td>0.010210</td>\n",
              "      <td>0.000000</td>\n",
              "      <td>0.000000</td>\n",
              "      <td>0.000000</td>\n",
              "      <td>0.000381</td>\n",
              "      <td>0.003713</td>\n",
              "      <td>0.001856</td>\n",
              "      <td>0.040841</td>\n",
              "      <td>0.011138</td>\n",
              "      <td>0.000000e+00</td>\n",
              "      <td>0.086323</td>\n",
              "      <td>0.000000</td>\n",
              "      <td>0.005569</td>\n",
              "      <td>0.000000</td>\n",
              "      <td>0.005569</td>\n",
              "    </tr>\n",
              "    <tr>\n",
              "      <th>2</th>\n",
              "      <td>0.000492</td>\n",
              "      <td>0.000000</td>\n",
              "      <td>0.000000</td>\n",
              "      <td>0.000492</td>\n",
              "      <td>0.000000</td>\n",
              "      <td>0.000000</td>\n",
              "      <td>0.000000</td>\n",
              "      <td>0.000000</td>\n",
              "      <td>0.049250</td>\n",
              "      <td>0.002462</td>\n",
              "      <td>0.993862</td>\n",
              "      <td>0.000000</td>\n",
              "      <td>0.000000</td>\n",
              "      <td>2.440527e-07</td>\n",
              "      <td>0.002462</td>\n",
              "      <td>0.000013</td>\n",
              "      <td>0.000000</td>\n",
              "      <td>0.000985</td>\n",
              "      <td>0.000492</td>\n",
              "      <td>0.0</td>\n",
              "      <td>0.000492</td>\n",
              "      <td>0.000000</td>\n",
              "      <td>0.0</td>\n",
              "      <td>0.005910</td>\n",
              "      <td>0.000000</td>\n",
              "      <td>0.000492</td>\n",
              "      <td>0.000492</td>\n",
              "      <td>0.000024</td>\n",
              "      <td>0.002462</td>\n",
              "      <td>0.000492</td>\n",
              "      <td>0.018222</td>\n",
              "      <td>0.002462</td>\n",
              "      <td>2.450239e-07</td>\n",
              "      <td>0.097022</td>\n",
              "      <td>0.000000</td>\n",
              "      <td>0.000000</td>\n",
              "      <td>0.000000</td>\n",
              "      <td>0.002462</td>\n",
              "    </tr>\n",
              "    <tr>\n",
              "      <th>3</th>\n",
              "      <td>0.003793</td>\n",
              "      <td>0.000000</td>\n",
              "      <td>0.000000</td>\n",
              "      <td>0.003034</td>\n",
              "      <td>0.001221</td>\n",
              "      <td>0.001054</td>\n",
              "      <td>0.000000</td>\n",
              "      <td>0.000000</td>\n",
              "      <td>0.075862</td>\n",
              "      <td>0.004552</td>\n",
              "      <td>0.988790</td>\n",
              "      <td>0.000759</td>\n",
              "      <td>0.001269</td>\n",
              "      <td>4.656270e-07</td>\n",
              "      <td>0.002731</td>\n",
              "      <td>0.000016</td>\n",
              "      <td>0.001135</td>\n",
              "      <td>0.002276</td>\n",
              "      <td>0.002276</td>\n",
              "      <td>0.0</td>\n",
              "      <td>0.000607</td>\n",
              "      <td>0.001517</td>\n",
              "      <td>0.0</td>\n",
              "      <td>0.009710</td>\n",
              "      <td>0.000759</td>\n",
              "      <td>0.000455</td>\n",
              "      <td>0.000303</td>\n",
              "      <td>0.000066</td>\n",
              "      <td>0.003793</td>\n",
              "      <td>0.001062</td>\n",
              "      <td>0.010621</td>\n",
              "      <td>0.013655</td>\n",
              "      <td>1.197059e-06</td>\n",
              "      <td>0.126690</td>\n",
              "      <td>0.000759</td>\n",
              "      <td>0.000000</td>\n",
              "      <td>0.000948</td>\n",
              "      <td>0.002731</td>\n",
              "    </tr>\n",
              "    <tr>\n",
              "      <th>4</th>\n",
              "      <td>0.007589</td>\n",
              "      <td>0.007589</td>\n",
              "      <td>0.004743</td>\n",
              "      <td>0.012333</td>\n",
              "      <td>0.001973</td>\n",
              "      <td>0.002429</td>\n",
              "      <td>0.029191</td>\n",
              "      <td>0.018243</td>\n",
              "      <td>0.047434</td>\n",
              "      <td>0.008538</td>\n",
              "      <td>0.993733</td>\n",
              "      <td>0.001897</td>\n",
              "      <td>0.001216</td>\n",
              "      <td>2.943370e-06</td>\n",
              "      <td>0.003558</td>\n",
              "      <td>0.000029</td>\n",
              "      <td>0.001137</td>\n",
              "      <td>0.002846</td>\n",
              "      <td>0.007589</td>\n",
              "      <td>0.0</td>\n",
              "      <td>0.003083</td>\n",
              "      <td>0.000000</td>\n",
              "      <td>0.0</td>\n",
              "      <td>0.005218</td>\n",
              "      <td>0.001067</td>\n",
              "      <td>0.000949</td>\n",
              "      <td>0.000237</td>\n",
              "      <td>0.000130</td>\n",
              "      <td>0.004743</td>\n",
              "      <td>0.000474</td>\n",
              "      <td>0.002846</td>\n",
              "      <td>0.028460</td>\n",
              "      <td>9.355195e-06</td>\n",
              "      <td>0.086853</td>\n",
              "      <td>0.000949</td>\n",
              "      <td>0.012333</td>\n",
              "      <td>0.003795</td>\n",
              "      <td>0.003558</td>\n",
              "    </tr>\n",
              "  </tbody>\n",
              "</table>\n",
              "</div>"
            ],
            "text/plain": [
              "         0         1         2   ...        35        36        37\n",
              "0  0.011846  0.002962  0.001481  ...  0.000000  0.001481  0.007219\n",
              "1  0.003713  0.001856  0.001856  ...  0.005569  0.000000  0.005569\n",
              "2  0.000492  0.000000  0.000000  ...  0.000000  0.000000  0.002462\n",
              "3  0.003793  0.000000  0.000000  ...  0.000000  0.000948  0.002731\n",
              "4  0.007589  0.007589  0.004743  ...  0.012333  0.003795  0.003558\n",
              "\n",
              "[5 rows x 38 columns]"
            ]
          },
          "metadata": {
            "tags": []
          },
          "execution_count": 23
        }
      ]
    },
    {
      "cell_type": "markdown",
      "metadata": {
        "deletable": false,
        "editable": false,
        "nbgrader": {
          "checksum": "26e9bec01f855d44456f65879afa7ccf",
          "grade": false,
          "grade_id": "cell-be1b2a4ecbcb5558",
          "locked": true,
          "schema_version": 1,
          "solution": false
        },
        "id": "jSJjHlsc8Wht"
      },
      "source": [
        "Using the the `sum of within cluster variance` metric with the elbow method what was the best k?"
      ]
    },
    {
      "cell_type": "code",
      "metadata": {
        "deletable": false,
        "nbgrader": {
          "checksum": "3971d6b7067c2e2b586a79b0fca34252",
          "grade": true,
          "grade_id": "cell-f49f54902337159c",
          "locked": false,
          "points": 2,
          "schema_version": 1,
          "solution": true
        },
        "id": "HoZOPumL8Whv",
        "outputId": "cfd09a49-817e-4a46-b44c-10fd9ddcd8b7",
        "colab": {
          "base_uri": "https://localhost:8080/",
          "height": 303
        }
      },
      "source": [
        "k_choices = [2, 3, 4, 5, 6, 7, 8]\n",
        "distortions = []\n",
        "X = dff\n",
        "for k in k_choices:\n",
        "    kmeans = KMeans(n_clusters=k, random_state=42)\n",
        "    kmeans.fit(X)\n",
        "    dist = kmeans.inertia_\n",
        "    distortions.append(dist)\n",
        "plt.plot(k_choices, distortions, marker='o')\n",
        "plt.xlabel('Number of clusters')\n",
        "plt.ylabel('Distortion')\n",
        "plt.show()\n",
        "\"Elbow method shows best k at: 4\"\n",
        "#raise NotImplementedError()"
      ],
      "execution_count": null,
      "outputs": [
        {
          "output_type": "display_data",
          "data": {
            "image/png": "[encoded data removed]",
            "text/plain": [
              "<Figure size 432x288 with 1 Axes>"
            ]
          },
          "metadata": {
            "tags": []
          }
        },
        {
          "output_type": "execute_result",
          "data": {
            "text/plain": [
              "'Elbow method shows best k at: 4'"
            ]
          },
          "metadata": {
            "tags": []
          },
          "execution_count": 24
        }
      ]
    },
    {
      "cell_type": "markdown",
      "metadata": {
        "deletable": false,
        "editable": false,
        "nbgrader": {
          "checksum": "78e8416b2c9c63fb2e91cc747a982eb9",
          "grade": false,
          "grade_id": "cell-ed56b09f2baf02c7",
          "locked": true,
          "schema_version": 1,
          "solution": false
        },
        "id": "_-cRpVgA8Wh2"
      },
      "source": [
        "### Question 10 `(1 points)`\n",
        "**This question will be manually graded.**\n",
        "\n",
        "For this question please come up with your own question about this dataset and using a clustering technique as part of your method of answering it. Describe in short the question, and how clustering can answer that question.\n"
      ]
    },
    {
      "cell_type": "code",
      "metadata": {
        "deletable": false,
        "nbgrader": {
          "checksum": "5ec519964252120ba10b8ea5633da3d3",
          "grade": true,
          "grade_id": "cell-01090109d82adc22",
          "locked": false,
          "points": 1,
          "schema_version": 1,
          "solution": true
        },
        "id": "vGcMVdVM8Wh6",
        "outputId": "8040dcf3-5bbc-4403-af26-16ca98147191",
        "colab": {
          "base_uri": "https://localhost:8080/",
          "height": 185
        }
      },
      "source": [
        "print('Q: From the best cluster in question 3.')\n",
        "print('Are the different types of votes per review more equally distributed or skewed?')\n",
        "\n",
        "X = df[['q11', 'q12', 'q13']].dropna()\n",
        "kmeans = KMeans(n_clusters=8, random_state=42)\n",
        "kmeans.fit(X)\n",
        "print(kmeans.cluster_centers_)\n",
        "\n"
      ],
      "execution_count": null,
      "outputs": [
        {
          "output_type": "stream",
          "text": [
            "Q: From the best cluster in question 3.\n",
            "Are the different types of votes per review more equally distributed or skewed?\n",
            "[[ 3.22372749 52.6463163  44.13010706]\n",
            " [26.65724869  3.35930157 69.98331919]\n",
            " [ 0.30151074  0.41439068 99.28407749]\n",
            " [98.15302932  0.96006515  0.88692182]\n",
            " [14.77016061 24.31317867 60.91748606]\n",
            " [47.5718608   3.79349738 48.63460687]\n",
            " [ 1.13148897 98.30148897  0.56707721]\n",
            " [33.32892731 32.86593978 33.80160198]]\n"
          ],
          "name": "stdout"
        }
      ]
    },
    {
      "cell_type": "markdown",
      "metadata": {
        "id": "FM1h8Qe1YIae"
      },
      "source": [
        "We can use clustering to help determine this because we can observe the cluster centers and determine where they are positioned. If the centers are near 33.3, that means they are equally distributed. However, if there is alot of variance, then it is not. From looking at the cluster centers, we can see that the majority of the clusters are not equally voted in all 3 categories. Most of them are learning towards one type of vote or occassionally 2."
      ]
    },
    {
      "cell_type": "markdown",
      "metadata": {
        "deletable": false,
        "editable": false,
        "nbgrader": {
          "checksum": "47c18987b74081b9f0e201d36229f33d",
          "grade": false,
          "grade_id": "cell-b549ed2cba475bb7",
          "locked": true,
          "schema_version": 1,
          "solution": false
        },
        "id": "Ylv6UWqm8WiC"
      },
      "source": [
        "## Bonus question (`2 Points`) - Reviewer overlap:\n",
        "- Aggregate cool, funny and useful votes for each business id\n",
        "- You may transform the aggregations (take %, log, or leave it as it is)\n",
        "- Cluster this dataframe (you can choose k). Do you find any meaningful/interesting clusters?\n",
        "- Assign the cluster label to each business id\n",
        "- Merge this with users to show what clusters the reviewers have reviewed. (You may need to use the pivot function) "
      ]
    },
    {
      "cell_type": "code",
      "metadata": {
        "deletable": false,
        "nbgrader": {
          "checksum": "b07907c97fe5a173c8ed578ba3d2876b",
          "grade": true,
          "grade_id": "cell-33aa50b382e692ca",
          "locked": false,
          "points": 2,
          "schema_version": 1,
          "solution": true
        },
        "id": "j319ReI98WiH",
        "outputId": "083a3abb-edeb-4c62-fc2b-df7bf0febfe9",
        "colab": {
          "base_uri": "https://localhost:8080/",
          "height": 218
        }
      },
      "source": [
        "#DOWNLOADING DATASET IF NOT PRESENT\n",
        "!wget -nc http://people.ischool.berkeley.edu/~zp/course_datasets/yelp_reviews.csv\n",
        "\n",
        "#!unzip yelp_reviews.zip\n",
        "print('Dataset Downloaded: yelp_reviews.csv')\n",
        "df=pd.read_csv('yelp_reviews.csv')\n",
        "print(df.head())\n",
        "\n",
        "print('Setup Complete')"
      ],
      "execution_count": null,
      "outputs": [
        {
          "output_type": "stream",
          "text": [
            "File ‘yelp_reviews.csv’ already there; not retrieving.\n",
            "\n",
            "Dataset Downloaded: yelp_reviews.csv\n",
            "     type             business_id  ... useful_votes  funny_votes\n",
            "0  review  mxrXVZWc6PWk81gvOVNOUw  ...            0            0\n",
            "1  review  mxrXVZWc6PWk81gvOVNOUw  ...            0            0\n",
            "2  review  kK4AzZ0YWI-U2G-paAL7Fg  ...            0            0\n",
            "3  review  mxrXVZWc6PWk81gvOVNOUw  ...            1            0\n",
            "4  review  mxrXVZWc6PWk81gvOVNOUw  ...            0            1\n",
            "\n",
            "[5 rows x 9 columns]\n",
            "Setup Complete\n"
          ],
          "name": "stdout"
        }
      ]
    },
    {
      "cell_type": "code",
      "metadata": {
        "id": "k5qQJlEtZI1S",
        "outputId": "0c4ed99e-a0bd-4917-c402-6dab09d6edcd",
        "colab": {
          "base_uri": "https://localhost:8080/",
          "height": 225
        }
      },
      "source": [
        "grouped = df.groupby('business_id').sum().drop(columns = ['stars'])\n",
        "grouped.sort_values(by=['cool_votes'])\n",
        "grouped.head()"
      ],
      "execution_count": null,
      "outputs": [
        {
          "output_type": "execute_result",
          "data": {
            "text/html": [
              "<div>\n",
              "<style scoped>\n",
              "    .dataframe tbody tr th:only-of-type {\n",
              "        vertical-align: middle;\n",
              "    }\n",
              "\n",
              "    .dataframe tbody tr th {\n",
              "        vertical-align: top;\n",
              "    }\n",
              "\n",
              "    .dataframe thead th {\n",
              "        text-align: right;\n",
              "    }\n",
              "</style>\n",
              "<table border=\"1\" class=\"dataframe\">\n",
              "  <thead>\n",
              "    <tr style=\"text-align: right;\">\n",
              "      <th></th>\n",
              "      <th>cool_votes</th>\n",
              "      <th>useful_votes</th>\n",
              "      <th>funny_votes</th>\n",
              "    </tr>\n",
              "    <tr>\n",
              "      <th>business_id</th>\n",
              "      <th></th>\n",
              "      <th></th>\n",
              "      <th></th>\n",
              "    </tr>\n",
              "  </thead>\n",
              "  <tbody>\n",
              "    <tr>\n",
              "      <th>--5jkZ3-nUPZxUvtcbr8Uw</th>\n",
              "      <td>4</td>\n",
              "      <td>3</td>\n",
              "      <td>3</td>\n",
              "    </tr>\n",
              "    <tr>\n",
              "      <th>--AKjxBmhm9DWrh-e0hTOw</th>\n",
              "      <td>0</td>\n",
              "      <td>0</td>\n",
              "      <td>0</td>\n",
              "    </tr>\n",
              "    <tr>\n",
              "      <th>--BlvDO_RG2yElKu9XA1_g</th>\n",
              "      <td>1</td>\n",
              "      <td>3</td>\n",
              "      <td>1</td>\n",
              "    </tr>\n",
              "    <tr>\n",
              "      <th>--Ol5mVSMaW8ExtmWRUmKA</th>\n",
              "      <td>0</td>\n",
              "      <td>1</td>\n",
              "      <td>0</td>\n",
              "    </tr>\n",
              "    <tr>\n",
              "      <th>--Y_2lDOtVDioX5bwF6GIw</th>\n",
              "      <td>0</td>\n",
              "      <td>4</td>\n",
              "      <td>0</td>\n",
              "    </tr>\n",
              "  </tbody>\n",
              "</table>\n",
              "</div>"
            ],
            "text/plain": [
              "                        cool_votes  useful_votes  funny_votes\n",
              "business_id                                                  \n",
              "--5jkZ3-nUPZxUvtcbr8Uw           4             3            3\n",
              "--AKjxBmhm9DWrh-e0hTOw           0             0            0\n",
              "--BlvDO_RG2yElKu9XA1_g           1             3            1\n",
              "--Ol5mVSMaW8ExtmWRUmKA           0             1            0\n",
              "--Y_2lDOtVDioX5bwF6GIw           0             4            0"
            ]
          },
          "metadata": {
            "tags": []
          },
          "execution_count": 27
        }
      ]
    },
    {
      "cell_type": "code",
      "metadata": {
        "id": "see8huOGZ2-l",
        "outputId": "15b96e33-6d02-484b-bd1b-680cd2e42f5f",
        "colab": {
          "base_uri": "https://localhost:8080/",
          "height": 34
        }
      },
      "source": [
        "# k_choices = [2, 3, 4, 5, 6, 7, 8]\n",
        "# scores = []\n",
        "# X = grouped\n",
        "# for k in k_choices:\n",
        "#     kmeans = KMeans(n_clusters=k, random_state=42)\n",
        "#     kmeans.fit(X)\n",
        "#     score = silhouette_score(X, kmeans.labels_)\n",
        "#     scores.append(score)\n",
        "# print(k_choices[scores.index(max(scores))])\n",
        "print('above code shows that the best k is 2 so will proceed with that')"
      ],
      "execution_count": null,
      "outputs": [
        {
          "output_type": "stream",
          "text": [
            "above code shows that the best k is 2 so will proceed with that\n"
          ],
          "name": "stdout"
        }
      ]
    },
    {
      "cell_type": "code",
      "metadata": {
        "id": "VPltSYr7a24R",
        "outputId": "ff438f79-fc78-41cf-c479-449a41805ba2",
        "colab": {
          "base_uri": "https://localhost:8080/",
          "height": 50
        }
      },
      "source": [
        "X = grouped\n",
        "kmeans = KMeans(n_clusters=2, random_state=42)\n",
        "kmeans.fit(X)\n",
        "print(kmeans.cluster_centers_)"
      ],
      "execution_count": null,
      "outputs": [
        {
          "output_type": "stream",
          "text": [
            "[[   3.69910481    7.74002452    3.15854364]\n",
            " [ 618.75581395 1067.72093023  610.15116279]]\n"
          ],
          "name": "stdout"
        }
      ]
    },
    {
      "cell_type": "markdown",
      "metadata": {
        "id": "S2CnYFUGbQ-f"
      },
      "source": [
        "The two clusters are very far about. There are some that just a have a few votes while other business ID's have hundreds of them."
      ]
    },
    {
      "cell_type": "code",
      "metadata": {
        "id": "KSfkXBNxbugb",
        "outputId": "9f215c48-a622-4217-e468-c1db5860009d",
        "colab": {
          "base_uri": "https://localhost:8080/",
          "height": 195
        }
      },
      "source": [
        "grouped['clusterID'] = kmeans.labels_\n",
        "tomerge = grouped.reset_index()\n",
        "merged = pd.merge(tomerge, df, on='business_id')\n",
        "final = merged[['business_id', 'user_id', 'cool_votes_x', 'useful_votes_x', 'funny_votes_x', 'clusterID']]\n",
        "final.head()"
      ],
      "execution_count": null,
      "outputs": [
        {
          "output_type": "execute_result",
          "data": {
            "text/html": [
              "<div>\n",
              "<style scoped>\n",
              "    .dataframe tbody tr th:only-of-type {\n",
              "        vertical-align: middle;\n",
              "    }\n",
              "\n",
              "    .dataframe tbody tr th {\n",
              "        vertical-align: top;\n",
              "    }\n",
              "\n",
              "    .dataframe thead th {\n",
              "        text-align: right;\n",
              "    }\n",
              "</style>\n",
              "<table border=\"1\" class=\"dataframe\">\n",
              "  <thead>\n",
              "    <tr style=\"text-align: right;\">\n",
              "      <th></th>\n",
              "      <th>business_id</th>\n",
              "      <th>user_id</th>\n",
              "      <th>cool_votes_x</th>\n",
              "      <th>useful_votes_x</th>\n",
              "      <th>funny_votes_x</th>\n",
              "      <th>clusterID</th>\n",
              "    </tr>\n",
              "  </thead>\n",
              "  <tbody>\n",
              "    <tr>\n",
              "      <th>0</th>\n",
              "      <td>--5jkZ3-nUPZxUvtcbr8Uw</td>\n",
              "      <td>Z3QMIh7ZYf6Q7NbvHJey4Q</td>\n",
              "      <td>4</td>\n",
              "      <td>3</td>\n",
              "      <td>3</td>\n",
              "      <td>0</td>\n",
              "    </tr>\n",
              "    <tr>\n",
              "      <th>1</th>\n",
              "      <td>--5jkZ3-nUPZxUvtcbr8Uw</td>\n",
              "      <td>c8ghzViTRFM44VaccEnEYw</td>\n",
              "      <td>4</td>\n",
              "      <td>3</td>\n",
              "      <td>3</td>\n",
              "      <td>0</td>\n",
              "    </tr>\n",
              "    <tr>\n",
              "      <th>2</th>\n",
              "      <td>--5jkZ3-nUPZxUvtcbr8Uw</td>\n",
              "      <td>5kH4RrEyebBr75ASdxnzSg</td>\n",
              "      <td>4</td>\n",
              "      <td>3</td>\n",
              "      <td>3</td>\n",
              "      <td>0</td>\n",
              "    </tr>\n",
              "    <tr>\n",
              "      <th>3</th>\n",
              "      <td>--5jkZ3-nUPZxUvtcbr8Uw</td>\n",
              "      <td>GRuNDtXKvJgfG69rsqpXIQ</td>\n",
              "      <td>4</td>\n",
              "      <td>3</td>\n",
              "      <td>3</td>\n",
              "      <td>0</td>\n",
              "    </tr>\n",
              "    <tr>\n",
              "      <th>4</th>\n",
              "      <td>--5jkZ3-nUPZxUvtcbr8Uw</td>\n",
              "      <td>tCa2ajxRYbX_RiUX0VPlfA</td>\n",
              "      <td>4</td>\n",
              "      <td>3</td>\n",
              "      <td>3</td>\n",
              "      <td>0</td>\n",
              "    </tr>\n",
              "  </tbody>\n",
              "</table>\n",
              "</div>"
            ],
            "text/plain": [
              "              business_id                 user_id  ...  funny_votes_x  clusterID\n",
              "0  --5jkZ3-nUPZxUvtcbr8Uw  Z3QMIh7ZYf6Q7NbvHJey4Q  ...              3          0\n",
              "1  --5jkZ3-nUPZxUvtcbr8Uw  c8ghzViTRFM44VaccEnEYw  ...              3          0\n",
              "2  --5jkZ3-nUPZxUvtcbr8Uw  5kH4RrEyebBr75ASdxnzSg  ...              3          0\n",
              "3  --5jkZ3-nUPZxUvtcbr8Uw  GRuNDtXKvJgfG69rsqpXIQ  ...              3          0\n",
              "4  --5jkZ3-nUPZxUvtcbr8Uw  tCa2ajxRYbX_RiUX0VPlfA  ...              3          0\n",
              "\n",
              "[5 rows x 6 columns]"
            ]
          },
          "metadata": {
            "tags": []
          },
          "execution_count": 30
        }
      ]
    },
    {
      "cell_type": "markdown",
      "metadata": {
        "id": "jb8oWTv4egLq"
      },
      "source": [
        "Each row represents a unique pair of business_id + user_id"
      ]
    },
    {
      "cell_type": "code",
      "metadata": {
        "id": "CxZBfpImemex"
      },
      "source": [
        ""
      ],
      "execution_count": null,
      "outputs": []
    }
  ]
}