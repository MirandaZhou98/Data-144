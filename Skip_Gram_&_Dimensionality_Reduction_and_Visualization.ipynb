{
  "nbformat": 4,
  "nbformat_minor": 0,
  "metadata": {
    "kernelspec": {
      "display_name": "Python 3",
      "language": "python",
      "name": "python3"
    },
    "language_info": {
      "codemirror_mode": {
        "name": "ipython",
        "version": 3
      },
      "file_extension": ".py",
      "mimetype": "text/x-python",
      "name": "python",
      "nbconvert_exporter": "python",
      "pygments_lexer": "ipython3",
      "version": "3.6.9"
    },
    "colab": {
      "name": "Skip Gram & Dimensionality Reduction and Visualization",
      "provenance": [],
      "collapsed_sections": []
    }
  },
  "cells": [
    {
      "cell_type": "markdown",
      "metadata": {
        "deletable": false,
        "editable": false,
        "nbgrader": {
          "checksum": "9a0ec075584699a44c46933457b0a8ba",
          "grade": false,
          "grade_id": "cell-a910b376742d04c0",
          "locked": true,
          "schema_version": 1,
          "solution": false
        },
        "id": "ECD5r2hFKDVd"
      },
      "source": [
        "# Part 1: Skip Gram\n",
        "\n",
        "\n",
        "Available software:\n",
        " - Python's Gensim module: https://radimrehurek.com/gensim/ (install using pip)\n",
        " - Sklearn’s  TSNE module in case you use TSNE to reduce dimension (optional)\n",
        " - Python’s Matplotlib (optional)\n",
        "\n",
        "_Note: The most important hyper parameters of skip-gram/CBOW are vector size and windows size_\n"
      ]
    },
    {
      "cell_type": "code",
      "metadata": {
        "deletable": false,
        "editable": false,
        "nbgrader": {
          "checksum": "a09a0bf3042da711c4bf843e9b4a4189",
          "grade": false,
          "grade_id": "cell-bf780e597c0216c8",
          "locked": true,
          "schema_version": 1,
          "solution": false
        },
        "id": "Vsocwry-KDVe",
        "outputId": "d74f3d78-b1b3-4e79-d91a-c0d6926e115e",
        "colab": {
          "base_uri": "https://localhost:8080/",
          "height": 479
        }
      },
      "source": [
        "!pip install gensim\n",
        "import os\n",
        "import string\n",
        "import pandas as pd\n",
        "import numpy as np\n",
        "import re\n",
        "import pprint\n",
        "from urllib.request import urlopen\n",
        "\n",
        "import gensim\n",
        "from gensim import corpora, models, similarities\n",
        "import nltk\n",
        "from nltk import word_tokenize, tokenize\n",
        "nltk.download('punkt')\n",
        "!wget -c \"https://s3.amazonaws.com/dl4j-distribution/GoogleNews-vectors-negative300.bin.gz\""
      ],
      "execution_count": null,
      "outputs": [
        {
          "output_type": "stream",
          "text": [
            "Requirement already satisfied: gensim in /usr/local/lib/python3.6/dist-packages (3.6.0)\n",
            "Requirement already satisfied: six>=1.5.0 in /usr/local/lib/python3.6/dist-packages (from gensim) (1.12.0)\n",
            "Requirement already satisfied: smart-open>=1.2.1 in /usr/local/lib/python3.6/dist-packages (from gensim) (1.9.0)\n",
            "Requirement already satisfied: numpy>=1.11.3 in /usr/local/lib/python3.6/dist-packages (from gensim) (1.17.3)\n",
            "Requirement already satisfied: scipy>=0.18.1 in /usr/local/lib/python3.6/dist-packages (from gensim) (1.3.1)\n",
            "Requirement already satisfied: requests in /usr/local/lib/python3.6/dist-packages (from smart-open>=1.2.1->gensim) (2.21.0)\n",
            "Requirement already satisfied: boto3 in /usr/local/lib/python3.6/dist-packages (from smart-open>=1.2.1->gensim) (1.10.13)\n",
            "Requirement already satisfied: boto>=2.32 in /usr/local/lib/python3.6/dist-packages (from smart-open>=1.2.1->gensim) (2.49.0)\n",
            "Requirement already satisfied: idna<2.9,>=2.5 in /usr/local/lib/python3.6/dist-packages (from requests->smart-open>=1.2.1->gensim) (2.8)\n",
            "Requirement already satisfied: certifi>=2017.4.17 in /usr/local/lib/python3.6/dist-packages (from requests->smart-open>=1.2.1->gensim) (2019.9.11)\n",
            "Requirement already satisfied: chardet<3.1.0,>=3.0.2 in /usr/local/lib/python3.6/dist-packages (from requests->smart-open>=1.2.1->gensim) (3.0.4)\n",
            "Requirement already satisfied: urllib3<1.25,>=1.21.1 in /usr/local/lib/python3.6/dist-packages (from requests->smart-open>=1.2.1->gensim) (1.24.3)\n",
            "Requirement already satisfied: jmespath<1.0.0,>=0.7.1 in /usr/local/lib/python3.6/dist-packages (from boto3->smart-open>=1.2.1->gensim) (0.9.4)\n",
            "Requirement already satisfied: botocore<1.14.0,>=1.13.13 in /usr/local/lib/python3.6/dist-packages (from boto3->smart-open>=1.2.1->gensim) (1.13.13)\n",
            "Requirement already satisfied: s3transfer<0.3.0,>=0.2.0 in /usr/local/lib/python3.6/dist-packages (from boto3->smart-open>=1.2.1->gensim) (0.2.1)\n",
            "Requirement already satisfied: docutils<0.16,>=0.10 in /usr/local/lib/python3.6/dist-packages (from botocore<1.14.0,>=1.13.13->boto3->smart-open>=1.2.1->gensim) (0.15.2)\n",
            "Requirement already satisfied: python-dateutil<2.8.1,>=2.1; python_version >= \"2.7\" in /usr/local/lib/python3.6/dist-packages (from botocore<1.14.0,>=1.13.13->boto3->smart-open>=1.2.1->gensim) (2.6.1)\n",
            "[nltk_data] Downloading package punkt to /root/nltk_data...\n",
            "[nltk_data]   Package punkt is already up-to-date!\n",
            "--2019-11-12 23:21:11--  https://s3.amazonaws.com/dl4j-distribution/GoogleNews-vectors-negative300.bin.gz\n",
            "Resolving s3.amazonaws.com (s3.amazonaws.com)... 52.216.236.101\n",
            "Connecting to s3.amazonaws.com (s3.amazonaws.com)|52.216.236.101|:443... connected.\n",
            "HTTP request sent, awaiting response... 416 Requested Range Not Satisfiable\n",
            "\n",
            "    The file is already fully retrieved; nothing to do.\n",
            "\n"
          ],
          "name": "stdout"
        }
      ]
    },
    {
      "cell_type": "markdown",
      "metadata": {
        "deletable": false,
        "editable": false,
        "nbgrader": {
          "checksum": "47031c66b74746d23ccc5e8369446a4b",
          "grade": false,
          "grade_id": "cell-3f89500615a0096f",
          "locked": true,
          "schema_version": 1,
          "solution": false
        },
        "id": "ZF74G9bDKDVh"
      },
      "source": [
        "**Q1 (1 point)** : Find the cosine similarity between the following word pairs\n",
        "\n",
        "- (France, England)\n",
        "- (smaller, bigger)\n",
        "- (England, London)\n",
        "- (France, Rocket)\n",
        "- (big, bigger)"
      ]
    },
    {
      "cell_type": "code",
      "metadata": {
        "id": "jOXlVGZCwS_w",
        "outputId": "7e94a048-8686-4244-8432-0edf62aa95a4",
        "colab": {
          "base_uri": "https://localhost:8080/",
          "height": 71
        }
      },
      "source": [
        "from gensim.models import KeyedVectors\n",
        "model = KeyedVectors.load_word2vec_format('GoogleNews-vectors-negative300.bin.gz', binary=True)"
      ],
      "execution_count": null,
      "outputs": [
        {
          "output_type": "stream",
          "text": [
            "/usr/local/lib/python3.6/dist-packages/smart_open/smart_open_lib.py:402: UserWarning: This function is deprecated, use smart_open.open instead. See the migration notes for details: https://github.com/RaRe-Technologies/smart_open/blob/master/README.rst#migrating-to-the-new-open-function\n",
            "  'See the migration notes for details: %s' % _MIGRATION_NOTES_URL\n"
          ],
          "name": "stderr"
        }
      ]
    },
    {
      "cell_type": "code",
      "metadata": {
        "deletable": false,
        "nbgrader": {
          "checksum": "4d52dda406c3d8cd5e37d29755f0fb12",
          "grade": false,
          "grade_id": "cell-fbbe575f8f5a6368",
          "locked": false,
          "schema_version": 1,
          "solution": true
        },
        "id": "SZD5ZaMvKDVk",
        "outputId": "74e261ec-2314-4196-b498-acace039f74f",
        "colab": {
          "base_uri": "https://localhost:8080/",
          "height": 71
        }
      },
      "source": [
        "#Replace 0 with the code / value; Do not delete this cell\n",
        "similarity_pair1 = model.similarity('France', 'England')\n",
        "similarity_pair2 = model.similarity('smaller', 'bigger')\n",
        "similarity_pair3 = model.similarity('England', 'London')\n",
        "similarity_pair4 = model.similarity('France', 'Rocket')\n",
        "similarity_pair5 = model.similarity('big', 'bigger')\n",
        "\n"
      ],
      "execution_count": null,
      "outputs": [
        {
          "output_type": "stream",
          "text": [
            "/usr/local/lib/python3.6/dist-packages/gensim/matutils.py:737: FutureWarning: Conversion of the second argument of issubdtype from `int` to `np.signedinteger` is deprecated. In future, it will be treated as `np.int64 == np.dtype(int).type`.\n",
            "  if np.issubdtype(vec.dtype, np.int):\n"
          ],
          "name": "stderr"
        }
      ]
    },
    {
      "cell_type": "code",
      "metadata": {
        "deletable": false,
        "editable": false,
        "nbgrader": {
          "checksum": "569aa8b664a41d901bf7b0a5e23e9930",
          "grade": true,
          "grade_id": "cell-929d59ed5d67f618",
          "locked": true,
          "points": 1,
          "schema_version": 1,
          "solution": false
        },
        "id": "tFUPLSK7KDVp",
        "outputId": "e90fbb4a-0f12-44f0-ac96-02875723a879",
        "colab": {
          "base_uri": "https://localhost:8080/",
          "height": 34
        }
      },
      "source": [
        "#This is an autograded cell, do not edit/delete\n",
        "print(similarity_pair1, similarity_pair2, similarity_pair3, similarity_pair4, similarity_pair5)"
      ],
      "execution_count": null,
      "outputs": [
        {
          "output_type": "stream",
          "text": [
            "0.39804944 0.7302272 0.43992856 0.07114174 0.68423855\n"
          ],
          "name": "stdout"
        }
      ]
    },
    {
      "cell_type": "markdown",
      "metadata": {
        "deletable": false,
        "editable": false,
        "nbgrader": {
          "checksum": "a7f270405ddf9ecbffde36e6c096b818",
          "grade": false,
          "grade_id": "cell-ccd6618b4fac3715",
          "locked": true,
          "schema_version": 1,
          "solution": false
        },
        "id": "ZcqpWCjJKDVs"
      },
      "source": [
        "**Q2 (1 point)** : Write an expression to extract the vector representations of the words: \n",
        "\n",
        "- France\n",
        "- England\n",
        "- smaller\n",
        "- bigger\n",
        "- rocket\n",
        "- big\n",
        "\n",
        "Get only the first 5 elements for each vector representation."
      ]
    },
    {
      "cell_type": "code",
      "metadata": {
        "deletable": false,
        "nbgrader": {
          "checksum": "6b3cecb268eb9440c446cd3de984b7f6",
          "grade": false,
          "grade_id": "cell-00f3d05abb28aa23",
          "locked": false,
          "schema_version": 1,
          "solution": true
        },
        "id": "6pzKlLyjKDVt"
      },
      "source": [
        "#Replace 0 with the code / value to get the first 5 elements of each vector; Do not delete this cell\n",
        "vector_1 = model['France'][:5]\n",
        "vector_2 = model['England'][:5]\n",
        "vector_3 = model['smaller'][:5]\n",
        "vector_4 = model['bigger'][:5]\n",
        "vector_5 = model['rocket'][:5]\n",
        "vector_6 = model['big'][:5]\n",
        "\n"
      ],
      "execution_count": null,
      "outputs": []
    },
    {
      "cell_type": "code",
      "metadata": {
        "deletable": false,
        "editable": false,
        "nbgrader": {
          "checksum": "401940f859774b3c1ec48338fa15682e",
          "grade": true,
          "grade_id": "cell-6f34229370fa873f",
          "locked": true,
          "points": 1,
          "schema_version": 1,
          "solution": false
        },
        "id": "Hkj2ROGTKDVv",
        "outputId": "c99bba85-8f7a-4587-b7f2-f6e920de6717",
        "colab": {
          "base_uri": "https://localhost:8080/",
          "height": 119
        }
      },
      "source": [
        "#This is an autograded cell, do not edit/delete\n",
        "print(vector_1)\n",
        "print(vector_2)\n",
        "print(vector_3)\n",
        "print(vector_4)\n",
        "print(vector_5)\n",
        "print(vector_6)\n"
      ],
      "execution_count": null,
      "outputs": [
        {
          "output_type": "stream",
          "text": [
            "[0.04858398 0.07861328 0.32421875 0.03491211 0.07714844]\n",
            "[-0.19824219  0.11523438  0.0625     -0.05834961  0.2265625 ]\n",
            "[-0.05004883  0.03417969 -0.0703125   0.17578125  0.00689697]\n",
            "[-0.06542969 -0.09521484 -0.06225586  0.16210938  0.01989746]\n",
            "[-0.03198242  0.27148438 -0.2890625  -0.15429688  0.16894531]\n",
            "[ 0.11132812  0.10595703 -0.07373047  0.18847656  0.07666016]\n"
          ],
          "name": "stdout"
        }
      ]
    },
    {
      "cell_type": "markdown",
      "metadata": {
        "deletable": false,
        "editable": false,
        "nbgrader": {
          "checksum": "ac8b42811c924e7988f17b9dbd3f71ef",
          "grade": false,
          "grade_id": "cell-4ad44071d3785409",
          "locked": true,
          "schema_version": 1,
          "solution": false
        },
        "id": "2UBnMwiXKDVy"
      },
      "source": [
        "**Q3 (1 point)**: Find the euclidean distances between the word pairs : \n",
        "\n",
        "- (France, England)\n",
        "- (smaller, bigger)\n",
        "- (England, London)\n",
        "- (France, Rocket)\n",
        "- (big, bigger)\n"
      ]
    },
    {
      "cell_type": "code",
      "metadata": {
        "deletable": false,
        "nbgrader": {
          "checksum": "a771483fbb59086604eb84bcc7c7f0ad",
          "grade": false,
          "grade_id": "cell-3aba86afc0ebd8a8",
          "locked": false,
          "schema_version": 1,
          "solution": true
        },
        "id": "zQGd-YVoKDV3"
      },
      "source": [
        "#Replace 0 with the code / value; Do not delete this cell\n",
        "eu_dist1 = np.linalg.norm(model['France']-model['England'])\n",
        "eu_dist2 = np.linalg.norm(model['smaller']-model['bigger'])\n",
        "eu_dist3 = np.linalg.norm(model['England']-model['London'])\n",
        "eu_dist4 = np.linalg.norm(model['France']-model['Rocket'])\n",
        "eu_dist5 = np.linalg.norm(model['big']-model['bigger'])\n",
        "\n"
      ],
      "execution_count": null,
      "outputs": []
    },
    {
      "cell_type": "code",
      "metadata": {
        "deletable": false,
        "editable": false,
        "nbgrader": {
          "checksum": "17796eb5de342e8f8e841aa137a2c41c",
          "grade": true,
          "grade_id": "cell-15ffa50b82de21ad",
          "locked": true,
          "points": 1,
          "schema_version": 1,
          "solution": false
        },
        "id": "HsSg0l2UKDV6",
        "outputId": "42efe9f2-52cc-4baf-b234-2187366ed5f6",
        "colab": {
          "base_uri": "https://localhost:8080/",
          "height": 102
        }
      },
      "source": [
        "#This is an autograded cell, do not edit / delete\n",
        "print(eu_dist1)\n",
        "print(eu_dist2)\n",
        "print(eu_dist3)\n",
        "print(eu_dist4)\n",
        "print(eu_dist5)\n"
      ],
      "execution_count": null,
      "outputs": [
        {
          "output_type": "stream",
          "text": [
            "3.0151067\n",
            "1.8618743\n",
            "2.8752837\n",
            "3.892071\n",
            "1.9586496\n"
          ],
          "name": "stdout"
        }
      ]
    },
    {
      "cell_type": "markdown",
      "metadata": {
        "deletable": false,
        "editable": false,
        "nbgrader": {
          "checksum": "bc50385c084e87555d0fa3e25c71bcea",
          "grade": false,
          "grade_id": "cell-7cd00f3c129dfab5",
          "locked": true,
          "schema_version": 1,
          "solution": false
        },
        "id": "OFll-_W3KDV8"
      },
      "source": [
        "**Q4 (2 points)**: What is the relationship between the magnitude of individual vectors, the vectors themselves and the cosine distance for any pair of words. Use any tuple in Q1 as an example to support your answer.\n",
        "\n",
        "**Do not delete the below cell**"
      ]
    },
    {
      "cell_type": "code",
      "metadata": {
        "deletable": false,
        "nbgrader": {
          "checksum": "f5858182370c73645303d9ce8103bbe2",
          "grade": true,
          "grade_id": "cell-09afc950f748a302",
          "locked": false,
          "points": 2,
          "schema_version": 1,
          "solution": true
        },
        "id": "rPUUyypZKDV9",
        "outputId": "c1b13d3a-0284-4d4b-9040-1d8ca1d0fbb6",
        "colab": {
          "base_uri": "https://localhost:8080/",
          "height": 34
        }
      },
      "source": [
        "# YOUR CODE HERE\n",
        "sim = np.dot(model['France'],model['England']) / (np.linalg.norm(model['France']) * np.linalg.norm(model['England']))\n",
        "sim\n"
      ],
      "execution_count": null,
      "outputs": [
        {
          "output_type": "execute_result",
          "data": {
            "text/plain": [
              "0.39804947"
            ]
          },
          "metadata": {
            "tags": []
          },
          "execution_count": 10
        }
      ]
    },
    {
      "cell_type": "markdown",
      "metadata": {
        "id": "CFxUmCfR1Gyv"
      },
      "source": [
        "A vector is represented by its magnitutde and it angle. If we look at France and Rocket as an example, we can see that their cosine distance is very small while their euclidean distance is large."
      ]
    },
    {
      "cell_type": "markdown",
      "metadata": {
        "deletable": false,
        "editable": false,
        "nbgrader": {
          "checksum": "afc0e843c7545e2df83448feda9f28f5",
          "grade": false,
          "grade_id": "cell-7cd8b9b67386376d",
          "locked": true,
          "schema_version": 1,
          "solution": false
        },
        "id": "XvO2iU7QKDWA"
      },
      "source": [
        "**Q5 (1 point)**: Time to dabble with the power of Word2Vec. Find the 2 closest words  for the following conditions:  \n",
        "- (King - Man + Queen)\n",
        "- (bigger - big + small)\n",
        "- (man + programmer - woman)\n",
        "- (waiting - wait + run)\n",
        "- (Texas + Milwaukee – Wisconsin)"
      ]
    },
    {
      "cell_type": "code",
      "metadata": {
        "deletable": false,
        "nbgrader": {
          "checksum": "50ef096feb166865434fe2fca3d41f99",
          "grade": false,
          "grade_id": "cell-b72201968c5fd1ec",
          "locked": false,
          "schema_version": 1,
          "solution": true
        },
        "id": "jCxWmA1eKDWB",
        "outputId": "82bf6785-5344-4a96-b855-381ec5c3bddd",
        "colab": {
          "base_uri": "https://localhost:8080/",
          "height": 71
        }
      },
      "source": [
        "#Replace 0 with the code / value; Do not delete this cell\n",
        "closest1 = model.most_similar(positive=['Queen', 'King'], negative=['Man'])[:2]\n",
        "closest2 = model.most_similar(positive=['bigger', 'small'], negative=['big'])[:2]\n",
        "closest3 = model.most_similar(positive=['man', 'programmer'], negative=['woman'])[:2]\n",
        "closest4 = model.most_similar(positive=['waiting', 'run'], negative=['wait'])[:2]\n",
        "closest5 = model.most_similar(positive=['Texas', 'Milwaukee'], negative=['Wisconsin'])[:2]\n",
        "\n",
        "\n",
        "\n",
        "\n"
      ],
      "execution_count": null,
      "outputs": [
        {
          "output_type": "stream",
          "text": [
            "/usr/local/lib/python3.6/dist-packages/gensim/matutils.py:737: FutureWarning: Conversion of the second argument of issubdtype from `int` to `np.signedinteger` is deprecated. In future, it will be treated as `np.int64 == np.dtype(int).type`.\n",
            "  if np.issubdtype(vec.dtype, np.int):\n"
          ],
          "name": "stderr"
        }
      ]
    },
    {
      "cell_type": "code",
      "metadata": {
        "deletable": false,
        "editable": false,
        "nbgrader": {
          "checksum": "f9c5ff502264f29d2632c6387f92686a",
          "grade": true,
          "grade_id": "cell-b69718ab0e1470bc",
          "locked": true,
          "points": 1,
          "schema_version": 1,
          "solution": false
        },
        "id": "io9elfD8KDWE",
        "outputId": "f2fa19fc-a23f-4326-d83e-bdee09aa3210",
        "colab": {
          "base_uri": "https://localhost:8080/",
          "height": 102
        }
      },
      "source": [
        "#This is an autograded cell, do not edit/delete\n",
        "print(closest1)\n",
        "print(closest2)\n",
        "print(closest3)\n",
        "print(closest4)\n",
        "print(closest5)\n"
      ],
      "execution_count": null,
      "outputs": [
        {
          "output_type": "stream",
          "text": [
            "[('Queen_Elizabeth', 0.5257916450500488), ('monarch', 0.5004087090492249)]\n",
            "[('larger', 0.7402471899986267), ('smaller', 0.732999324798584)]\n",
            "[('programer', 0.5371963977813721), ('programmers', 0.5310999155044556)]\n",
            "[('running', 0.5654535889625549), ('runs', 0.49640005826950073)]\n",
            "[('Houston', 0.7767744064331055), ('Fort_Worth', 0.7270511388778687)]\n"
          ],
          "name": "stdout"
        }
      ]
    },
    {
      "cell_type": "markdown",
      "metadata": {
        "deletable": false,
        "editable": false,
        "nbgrader": {
          "checksum": "6432058d78f4fa52224c48a3b3e71d0d",
          "grade": false,
          "grade_id": "cell-73dca0e2072fef91",
          "locked": true,
          "schema_version": 1,
          "solution": false
        },
        "id": "erUu4u71KDWJ"
      },
      "source": [
        "**Q6 (3 points)**: Using the vectors for the words in the Google News dataset, explore the semantic representation of these words through K-means clustering and explain your findings.\n",
        "\n",
        "*Note : Since there are ~3Mil words in the vocabulary, you can downsample it to ~20-30k randomly selected words*\n",
        "\n",
        "**Do not delete the below cell**"
      ]
    },
    {
      "cell_type": "code",
      "metadata": {
        "deletable": false,
        "nbgrader": {
          "checksum": "7ecef46689f11d4d0a6fed72e049235f",
          "grade": true,
          "grade_id": "cell-80b177848b8b0212",
          "locked": false,
          "points": 3,
          "schema_version": 1,
          "solution": true
        },
        "id": "M3jN02fOKDWK",
        "outputId": "47dcc1b5-1a8b-43c6-ce37-c28ba32d1764",
        "colab": {
          "base_uri": "https://localhost:8080/",
          "height": 253
        }
      },
      "source": [
        "# YOUR CODE HERE\n",
        "from sklearn.cluster import KMeans\n",
        "import random\n",
        "random_keys = random.sample(list(model.vocab), 20000)\n",
        "random_vectors = model[random_keys]\n",
        "df = pd.DataFrame(random_vectors)\n",
        "df.head()"
      ],
      "execution_count": null,
      "outputs": [
        {
          "output_type": "execute_result",
          "data": {
            "text/html": [
              "<div>\n",
              "<style scoped>\n",
              "    .dataframe tbody tr th:only-of-type {\n",
              "        vertical-align: middle;\n",
              "    }\n",
              "\n",
              "    .dataframe tbody tr th {\n",
              "        vertical-align: top;\n",
              "    }\n",
              "\n",
              "    .dataframe thead th {\n",
              "        text-align: right;\n",
              "    }\n",
              "</style>\n",
              "<table border=\"1\" class=\"dataframe\">\n",
              "  <thead>\n",
              "    <tr style=\"text-align: right;\">\n",
              "      <th></th>\n",
              "      <th>0</th>\n",
              "      <th>1</th>\n",
              "      <th>2</th>\n",
              "      <th>3</th>\n",
              "      <th>4</th>\n",
              "      <th>5</th>\n",
              "      <th>6</th>\n",
              "      <th>7</th>\n",
              "      <th>8</th>\n",
              "      <th>9</th>\n",
              "      <th>10</th>\n",
              "      <th>11</th>\n",
              "      <th>12</th>\n",
              "      <th>13</th>\n",
              "      <th>14</th>\n",
              "      <th>15</th>\n",
              "      <th>16</th>\n",
              "      <th>17</th>\n",
              "      <th>18</th>\n",
              "      <th>19</th>\n",
              "      <th>20</th>\n",
              "      <th>21</th>\n",
              "      <th>22</th>\n",
              "      <th>23</th>\n",
              "      <th>24</th>\n",
              "      <th>25</th>\n",
              "      <th>26</th>\n",
              "      <th>27</th>\n",
              "      <th>28</th>\n",
              "      <th>29</th>\n",
              "      <th>30</th>\n",
              "      <th>31</th>\n",
              "      <th>32</th>\n",
              "      <th>33</th>\n",
              "      <th>34</th>\n",
              "      <th>35</th>\n",
              "      <th>36</th>\n",
              "      <th>37</th>\n",
              "      <th>38</th>\n",
              "      <th>39</th>\n",
              "      <th>...</th>\n",
              "      <th>260</th>\n",
              "      <th>261</th>\n",
              "      <th>262</th>\n",
              "      <th>263</th>\n",
              "      <th>264</th>\n",
              "      <th>265</th>\n",
              "      <th>266</th>\n",
              "      <th>267</th>\n",
              "      <th>268</th>\n",
              "      <th>269</th>\n",
              "      <th>270</th>\n",
              "      <th>271</th>\n",
              "      <th>272</th>\n",
              "      <th>273</th>\n",
              "      <th>274</th>\n",
              "      <th>275</th>\n",
              "      <th>276</th>\n",
              "      <th>277</th>\n",
              "      <th>278</th>\n",
              "      <th>279</th>\n",
              "      <th>280</th>\n",
              "      <th>281</th>\n",
              "      <th>282</th>\n",
              "      <th>283</th>\n",
              "      <th>284</th>\n",
              "      <th>285</th>\n",
              "      <th>286</th>\n",
              "      <th>287</th>\n",
              "      <th>288</th>\n",
              "      <th>289</th>\n",
              "      <th>290</th>\n",
              "      <th>291</th>\n",
              "      <th>292</th>\n",
              "      <th>293</th>\n",
              "      <th>294</th>\n",
              "      <th>295</th>\n",
              "      <th>296</th>\n",
              "      <th>297</th>\n",
              "      <th>298</th>\n",
              "      <th>299</th>\n",
              "    </tr>\n",
              "  </thead>\n",
              "  <tbody>\n",
              "    <tr>\n",
              "      <th>0</th>\n",
              "      <td>0.016235</td>\n",
              "      <td>-0.000999</td>\n",
              "      <td>-0.023071</td>\n",
              "      <td>0.009460</td>\n",
              "      <td>0.005615</td>\n",
              "      <td>-0.050781</td>\n",
              "      <td>-0.061035</td>\n",
              "      <td>-0.055908</td>\n",
              "      <td>0.181641</td>\n",
              "      <td>0.038330</td>\n",
              "      <td>-0.013489</td>\n",
              "      <td>0.096191</td>\n",
              "      <td>0.025391</td>\n",
              "      <td>0.009644</td>\n",
              "      <td>0.083984</td>\n",
              "      <td>-0.017944</td>\n",
              "      <td>0.029785</td>\n",
              "      <td>0.058350</td>\n",
              "      <td>0.033936</td>\n",
              "      <td>0.046875</td>\n",
              "      <td>-0.019653</td>\n",
              "      <td>0.020020</td>\n",
              "      <td>-0.072266</td>\n",
              "      <td>-0.050537</td>\n",
              "      <td>0.001228</td>\n",
              "      <td>-0.029175</td>\n",
              "      <td>-0.024902</td>\n",
              "      <td>0.029663</td>\n",
              "      <td>0.007568</td>\n",
              "      <td>0.036377</td>\n",
              "      <td>0.095703</td>\n",
              "      <td>0.046631</td>\n",
              "      <td>0.005035</td>\n",
              "      <td>-0.052246</td>\n",
              "      <td>0.002228</td>\n",
              "      <td>0.051270</td>\n",
              "      <td>-0.033691</td>\n",
              "      <td>-0.033691</td>\n",
              "      <td>0.014832</td>\n",
              "      <td>0.069824</td>\n",
              "      <td>...</td>\n",
              "      <td>0.101562</td>\n",
              "      <td>0.072754</td>\n",
              "      <td>0.092285</td>\n",
              "      <td>0.024048</td>\n",
              "      <td>0.082520</td>\n",
              "      <td>0.055176</td>\n",
              "      <td>0.009155</td>\n",
              "      <td>0.023193</td>\n",
              "      <td>0.076172</td>\n",
              "      <td>-0.059814</td>\n",
              "      <td>-0.052246</td>\n",
              "      <td>-0.069824</td>\n",
              "      <td>-0.072754</td>\n",
              "      <td>-0.052490</td>\n",
              "      <td>0.038574</td>\n",
              "      <td>0.022217</td>\n",
              "      <td>-0.045166</td>\n",
              "      <td>0.054932</td>\n",
              "      <td>-0.058105</td>\n",
              "      <td>-0.082520</td>\n",
              "      <td>-0.059326</td>\n",
              "      <td>-0.059326</td>\n",
              "      <td>-0.064453</td>\n",
              "      <td>0.063965</td>\n",
              "      <td>-0.035400</td>\n",
              "      <td>0.070312</td>\n",
              "      <td>-0.086426</td>\n",
              "      <td>0.113770</td>\n",
              "      <td>-0.000874</td>\n",
              "      <td>-0.000257</td>\n",
              "      <td>-0.006439</td>\n",
              "      <td>-0.026978</td>\n",
              "      <td>-0.003723</td>\n",
              "      <td>0.063477</td>\n",
              "      <td>0.007996</td>\n",
              "      <td>-0.035156</td>\n",
              "      <td>-0.019775</td>\n",
              "      <td>-0.002090</td>\n",
              "      <td>0.024780</td>\n",
              "      <td>0.042480</td>\n",
              "    </tr>\n",
              "    <tr>\n",
              "      <th>1</th>\n",
              "      <td>0.162109</td>\n",
              "      <td>-0.226562</td>\n",
              "      <td>0.013428</td>\n",
              "      <td>-0.085449</td>\n",
              "      <td>0.029785</td>\n",
              "      <td>-0.196289</td>\n",
              "      <td>-0.220703</td>\n",
              "      <td>-0.103516</td>\n",
              "      <td>0.087402</td>\n",
              "      <td>0.092773</td>\n",
              "      <td>0.171875</td>\n",
              "      <td>-0.168945</td>\n",
              "      <td>0.110352</td>\n",
              "      <td>-0.125000</td>\n",
              "      <td>-0.082031</td>\n",
              "      <td>0.013306</td>\n",
              "      <td>0.092773</td>\n",
              "      <td>0.179688</td>\n",
              "      <td>0.083496</td>\n",
              "      <td>0.074707</td>\n",
              "      <td>-0.000234</td>\n",
              "      <td>-0.065918</td>\n",
              "      <td>0.078613</td>\n",
              "      <td>-0.004028</td>\n",
              "      <td>0.167969</td>\n",
              "      <td>-0.154297</td>\n",
              "      <td>0.142578</td>\n",
              "      <td>-0.009460</td>\n",
              "      <td>0.144531</td>\n",
              "      <td>-0.212891</td>\n",
              "      <td>0.019653</td>\n",
              "      <td>-0.126953</td>\n",
              "      <td>-0.095703</td>\n",
              "      <td>-0.077637</td>\n",
              "      <td>0.003326</td>\n",
              "      <td>-0.043701</td>\n",
              "      <td>-0.191406</td>\n",
              "      <td>-0.056396</td>\n",
              "      <td>-0.091797</td>\n",
              "      <td>0.041748</td>\n",
              "      <td>...</td>\n",
              "      <td>0.181641</td>\n",
              "      <td>0.075684</td>\n",
              "      <td>-0.153320</td>\n",
              "      <td>-0.084961</td>\n",
              "      <td>-0.122070</td>\n",
              "      <td>-0.173828</td>\n",
              "      <td>-0.065918</td>\n",
              "      <td>0.058350</td>\n",
              "      <td>0.049805</td>\n",
              "      <td>-0.085938</td>\n",
              "      <td>0.151367</td>\n",
              "      <td>-0.005249</td>\n",
              "      <td>0.020020</td>\n",
              "      <td>0.013184</td>\n",
              "      <td>-0.022217</td>\n",
              "      <td>0.057617</td>\n",
              "      <td>-0.089844</td>\n",
              "      <td>0.014099</td>\n",
              "      <td>-0.031494</td>\n",
              "      <td>-0.034668</td>\n",
              "      <td>-0.027100</td>\n",
              "      <td>0.026489</td>\n",
              "      <td>-0.044678</td>\n",
              "      <td>-0.054932</td>\n",
              "      <td>-0.091309</td>\n",
              "      <td>-0.111328</td>\n",
              "      <td>-0.035156</td>\n",
              "      <td>0.127930</td>\n",
              "      <td>0.044189</td>\n",
              "      <td>0.233398</td>\n",
              "      <td>0.072754</td>\n",
              "      <td>-0.128906</td>\n",
              "      <td>0.117188</td>\n",
              "      <td>0.056885</td>\n",
              "      <td>-0.144531</td>\n",
              "      <td>-0.048828</td>\n",
              "      <td>-0.158203</td>\n",
              "      <td>0.018677</td>\n",
              "      <td>0.085938</td>\n",
              "      <td>0.052002</td>\n",
              "    </tr>\n",
              "    <tr>\n",
              "      <th>2</th>\n",
              "      <td>0.014587</td>\n",
              "      <td>-0.111328</td>\n",
              "      <td>-0.078613</td>\n",
              "      <td>0.032715</td>\n",
              "      <td>-0.096680</td>\n",
              "      <td>0.102539</td>\n",
              "      <td>0.007935</td>\n",
              "      <td>0.111328</td>\n",
              "      <td>0.027222</td>\n",
              "      <td>-0.095215</td>\n",
              "      <td>0.060303</td>\n",
              "      <td>-0.058350</td>\n",
              "      <td>-0.084473</td>\n",
              "      <td>0.202148</td>\n",
              "      <td>-0.040283</td>\n",
              "      <td>0.067383</td>\n",
              "      <td>0.062500</td>\n",
              "      <td>0.059814</td>\n",
              "      <td>-0.073242</td>\n",
              "      <td>-0.013062</td>\n",
              "      <td>0.031982</td>\n",
              "      <td>-0.149414</td>\n",
              "      <td>-0.121094</td>\n",
              "      <td>0.052490</td>\n",
              "      <td>-0.020630</td>\n",
              "      <td>-0.122559</td>\n",
              "      <td>-0.082031</td>\n",
              "      <td>0.050049</td>\n",
              "      <td>-0.053223</td>\n",
              "      <td>-0.040771</td>\n",
              "      <td>-0.021729</td>\n",
              "      <td>-0.083008</td>\n",
              "      <td>-0.025635</td>\n",
              "      <td>0.112305</td>\n",
              "      <td>0.018311</td>\n",
              "      <td>-0.160156</td>\n",
              "      <td>0.021606</td>\n",
              "      <td>0.006104</td>\n",
              "      <td>0.002686</td>\n",
              "      <td>0.047852</td>\n",
              "      <td>...</td>\n",
              "      <td>0.088867</td>\n",
              "      <td>-0.038086</td>\n",
              "      <td>-0.117676</td>\n",
              "      <td>-0.033936</td>\n",
              "      <td>0.053223</td>\n",
              "      <td>0.028076</td>\n",
              "      <td>-0.020996</td>\n",
              "      <td>0.011047</td>\n",
              "      <td>-0.046387</td>\n",
              "      <td>-0.119141</td>\n",
              "      <td>0.154297</td>\n",
              "      <td>0.068848</td>\n",
              "      <td>0.083008</td>\n",
              "      <td>0.196289</td>\n",
              "      <td>0.094238</td>\n",
              "      <td>-0.075684</td>\n",
              "      <td>0.064941</td>\n",
              "      <td>-0.151367</td>\n",
              "      <td>-0.132812</td>\n",
              "      <td>-0.020752</td>\n",
              "      <td>-0.078613</td>\n",
              "      <td>-0.065430</td>\n",
              "      <td>0.048096</td>\n",
              "      <td>0.147461</td>\n",
              "      <td>0.013123</td>\n",
              "      <td>-0.010193</td>\n",
              "      <td>0.004120</td>\n",
              "      <td>0.063965</td>\n",
              "      <td>0.072266</td>\n",
              "      <td>0.043213</td>\n",
              "      <td>0.004150</td>\n",
              "      <td>0.052490</td>\n",
              "      <td>-0.061279</td>\n",
              "      <td>-0.012329</td>\n",
              "      <td>-0.055420</td>\n",
              "      <td>0.059814</td>\n",
              "      <td>0.062256</td>\n",
              "      <td>-0.251953</td>\n",
              "      <td>-0.144531</td>\n",
              "      <td>-0.046631</td>\n",
              "    </tr>\n",
              "    <tr>\n",
              "      <th>3</th>\n",
              "      <td>-0.030884</td>\n",
              "      <td>-0.028931</td>\n",
              "      <td>0.086426</td>\n",
              "      <td>0.008484</td>\n",
              "      <td>0.062988</td>\n",
              "      <td>0.017822</td>\n",
              "      <td>0.024292</td>\n",
              "      <td>-0.034180</td>\n",
              "      <td>0.014709</td>\n",
              "      <td>0.064453</td>\n",
              "      <td>-0.040039</td>\n",
              "      <td>0.020386</td>\n",
              "      <td>0.059082</td>\n",
              "      <td>0.077637</td>\n",
              "      <td>-0.105957</td>\n",
              "      <td>0.177734</td>\n",
              "      <td>0.052979</td>\n",
              "      <td>-0.012207</td>\n",
              "      <td>-0.020752</td>\n",
              "      <td>-0.025146</td>\n",
              "      <td>-0.031738</td>\n",
              "      <td>-0.066406</td>\n",
              "      <td>-0.048096</td>\n",
              "      <td>0.070801</td>\n",
              "      <td>0.069336</td>\n",
              "      <td>-0.056885</td>\n",
              "      <td>0.025391</td>\n",
              "      <td>0.038330</td>\n",
              "      <td>-0.098145</td>\n",
              "      <td>0.051514</td>\n",
              "      <td>0.072266</td>\n",
              "      <td>-0.008484</td>\n",
              "      <td>-0.139648</td>\n",
              "      <td>0.060303</td>\n",
              "      <td>0.033203</td>\n",
              "      <td>-0.011169</td>\n",
              "      <td>0.008240</td>\n",
              "      <td>0.096191</td>\n",
              "      <td>-0.041504</td>\n",
              "      <td>-0.036133</td>\n",
              "      <td>...</td>\n",
              "      <td>-0.085449</td>\n",
              "      <td>0.034180</td>\n",
              "      <td>-0.061523</td>\n",
              "      <td>-0.015137</td>\n",
              "      <td>0.065918</td>\n",
              "      <td>0.072266</td>\n",
              "      <td>0.002609</td>\n",
              "      <td>0.039062</td>\n",
              "      <td>0.019531</td>\n",
              "      <td>-0.045898</td>\n",
              "      <td>0.086914</td>\n",
              "      <td>0.059814</td>\n",
              "      <td>0.018677</td>\n",
              "      <td>0.026245</td>\n",
              "      <td>-0.016235</td>\n",
              "      <td>-0.024536</td>\n",
              "      <td>0.013794</td>\n",
              "      <td>-0.126953</td>\n",
              "      <td>-0.023560</td>\n",
              "      <td>0.028198</td>\n",
              "      <td>0.031250</td>\n",
              "      <td>-0.070801</td>\n",
              "      <td>-0.028931</td>\n",
              "      <td>-0.051270</td>\n",
              "      <td>-0.146484</td>\n",
              "      <td>-0.003616</td>\n",
              "      <td>0.040283</td>\n",
              "      <td>0.043213</td>\n",
              "      <td>-0.007111</td>\n",
              "      <td>0.137695</td>\n",
              "      <td>-0.057373</td>\n",
              "      <td>0.078613</td>\n",
              "      <td>-0.008301</td>\n",
              "      <td>0.070801</td>\n",
              "      <td>-0.133789</td>\n",
              "      <td>0.023438</td>\n",
              "      <td>0.004883</td>\n",
              "      <td>-0.141602</td>\n",
              "      <td>-0.053223</td>\n",
              "      <td>0.059570</td>\n",
              "    </tr>\n",
              "    <tr>\n",
              "      <th>4</th>\n",
              "      <td>-0.038574</td>\n",
              "      <td>0.033203</td>\n",
              "      <td>0.033447</td>\n",
              "      <td>0.076172</td>\n",
              "      <td>-0.085449</td>\n",
              "      <td>-0.015991</td>\n",
              "      <td>-0.104004</td>\n",
              "      <td>0.046143</td>\n",
              "      <td>0.003601</td>\n",
              "      <td>0.090820</td>\n",
              "      <td>-0.003296</td>\n",
              "      <td>0.062988</td>\n",
              "      <td>0.032715</td>\n",
              "      <td>-0.024048</td>\n",
              "      <td>-0.008606</td>\n",
              "      <td>-0.033936</td>\n",
              "      <td>-0.042236</td>\n",
              "      <td>0.021118</td>\n",
              "      <td>-0.041504</td>\n",
              "      <td>-0.108887</td>\n",
              "      <td>-0.006317</td>\n",
              "      <td>0.010376</td>\n",
              "      <td>0.013245</td>\n",
              "      <td>0.099121</td>\n",
              "      <td>-0.016846</td>\n",
              "      <td>-0.022827</td>\n",
              "      <td>-0.071777</td>\n",
              "      <td>0.026733</td>\n",
              "      <td>0.015564</td>\n",
              "      <td>-0.067383</td>\n",
              "      <td>-0.037598</td>\n",
              "      <td>0.093750</td>\n",
              "      <td>0.056641</td>\n",
              "      <td>-0.035645</td>\n",
              "      <td>0.009277</td>\n",
              "      <td>0.004456</td>\n",
              "      <td>0.012268</td>\n",
              "      <td>0.061523</td>\n",
              "      <td>0.126953</td>\n",
              "      <td>-0.096680</td>\n",
              "      <td>...</td>\n",
              "      <td>0.045898</td>\n",
              "      <td>0.003937</td>\n",
              "      <td>-0.076660</td>\n",
              "      <td>-0.048340</td>\n",
              "      <td>-0.058838</td>\n",
              "      <td>0.110352</td>\n",
              "      <td>-0.049072</td>\n",
              "      <td>-0.097168</td>\n",
              "      <td>0.047607</td>\n",
              "      <td>0.018677</td>\n",
              "      <td>-0.082031</td>\n",
              "      <td>0.015869</td>\n",
              "      <td>-0.101074</td>\n",
              "      <td>0.008301</td>\n",
              "      <td>0.002197</td>\n",
              "      <td>0.141602</td>\n",
              "      <td>-0.072266</td>\n",
              "      <td>0.029663</td>\n",
              "      <td>0.014832</td>\n",
              "      <td>0.030029</td>\n",
              "      <td>-0.063477</td>\n",
              "      <td>0.014221</td>\n",
              "      <td>0.042725</td>\n",
              "      <td>0.029541</td>\n",
              "      <td>-0.041748</td>\n",
              "      <td>-0.072266</td>\n",
              "      <td>0.004456</td>\n",
              "      <td>0.006927</td>\n",
              "      <td>0.009460</td>\n",
              "      <td>0.053711</td>\n",
              "      <td>-0.057617</td>\n",
              "      <td>0.025757</td>\n",
              "      <td>-0.106445</td>\n",
              "      <td>-0.089844</td>\n",
              "      <td>-0.005249</td>\n",
              "      <td>0.004181</td>\n",
              "      <td>0.019653</td>\n",
              "      <td>-0.009033</td>\n",
              "      <td>0.072266</td>\n",
              "      <td>0.005371</td>\n",
              "    </tr>\n",
              "  </tbody>\n",
              "</table>\n",
              "<p>5 rows × 300 columns</p>\n",
              "</div>"
            ],
            "text/plain": [
              "        0         1         2    ...       297       298       299\n",
              "0  0.016235 -0.000999 -0.023071  ... -0.002090  0.024780  0.042480\n",
              "1  0.162109 -0.226562  0.013428  ...  0.018677  0.085938  0.052002\n",
              "2  0.014587 -0.111328 -0.078613  ... -0.251953 -0.144531 -0.046631\n",
              "3 -0.030884 -0.028931  0.086426  ... -0.141602 -0.053223  0.059570\n",
              "4 -0.038574  0.033203  0.033447  ... -0.009033  0.072266  0.005371\n",
              "\n",
              "[5 rows x 300 columns]"
            ]
          },
          "metadata": {
            "tags": []
          },
          "execution_count": 13
        }
      ]
    },
    {
      "cell_type": "code",
      "metadata": {
        "id": "_p6BO-PL9mUo",
        "outputId": "10dc318b-ce1b-40a6-9aff-ea35c184b2f6",
        "colab": {
          "base_uri": "https://localhost:8080/",
          "height": 34
        }
      },
      "source": [
        "# from sklearn.metrics import silhouette_score\n",
        "# k_choices = [2, 3, 4, 5, 6, 7, 8]\n",
        "# scores = []\n",
        "# X = df\n",
        "# for k in k_choices:\n",
        "#     kmeans = KMeans(n_clusters=k, random_state=42)\n",
        "#     kmeans.fit(X)\n",
        "#     score = silhouette_score(X, kmeans.labels_)\n",
        "#     scores.append(score)\n",
        "# k_choices[scores.index(max(scores))]\n",
        "print(2) #takes too much time to run\n",
        "X = df"
      ],
      "execution_count": null,
      "outputs": [
        {
          "output_type": "stream",
          "text": [
            "2\n"
          ],
          "name": "stdout"
        }
      ]
    },
    {
      "cell_type": "code",
      "metadata": {
        "id": "C5rclZy2_eKS",
        "outputId": "cda5f374-5cc7-433b-bc3f-044805025931",
        "colab": {
          "base_uri": "https://localhost:8080/",
          "height": 34
        }
      },
      "source": [
        "from collections import Counter, defaultdict\n",
        "kmeans = KMeans(n_clusters=2, random_state=42)\n",
        "kmeans.fit(X)\n",
        "Counter(kmeans.labels_)"
      ],
      "execution_count": null,
      "outputs": [
        {
          "output_type": "execute_result",
          "data": {
            "text/plain": [
              "Counter({0: 4359, 1: 15641})"
            ]
          },
          "metadata": {
            "tags": []
          },
          "execution_count": 15
        }
      ]
    },
    {
      "cell_type": "code",
      "metadata": {
        "id": "7jzKxME89mAS",
        "outputId": "4ca41607-d36a-41f8-e398-2a0e66067219",
        "colab": {
          "base_uri": "https://localhost:8080/",
          "height": 34
        }
      },
      "source": [
        "kmeans.labels_"
      ],
      "execution_count": null,
      "outputs": [
        {
          "output_type": "execute_result",
          "data": {
            "text/plain": [
              "array([1, 1, 1, ..., 1, 1, 1], dtype=int32)"
            ]
          },
          "metadata": {
            "tags": []
          },
          "execution_count": 16
        }
      ]
    },
    {
      "cell_type": "code",
      "metadata": {
        "id": "c-kG908f-i6j",
        "outputId": "e126815c-28ed-4d46-8398-b94733290981",
        "colab": {
          "base_uri": "https://localhost:8080/",
          "height": 419
        }
      },
      "source": [
        "cluster = pd.DataFrame({'keys': random_keys, 'Cluster':kmeans.labels_})\n",
        "cluster"
      ],
      "execution_count": null,
      "outputs": [
        {
          "output_type": "execute_result",
          "data": {
            "text/html": [
              "<div>\n",
              "<style scoped>\n",
              "    .dataframe tbody tr th:only-of-type {\n",
              "        vertical-align: middle;\n",
              "    }\n",
              "\n",
              "    .dataframe tbody tr th {\n",
              "        vertical-align: top;\n",
              "    }\n",
              "\n",
              "    .dataframe thead th {\n",
              "        text-align: right;\n",
              "    }\n",
              "</style>\n",
              "<table border=\"1\" class=\"dataframe\">\n",
              "  <thead>\n",
              "    <tr style=\"text-align: right;\">\n",
              "      <th></th>\n",
              "      <th>keys</th>\n",
              "      <th>Cluster</th>\n",
              "    </tr>\n",
              "  </thead>\n",
              "  <tbody>\n",
              "    <tr>\n",
              "      <th>0</th>\n",
              "      <td>Vean_Gregg</td>\n",
              "      <td>1</td>\n",
              "    </tr>\n",
              "    <tr>\n",
              "      <th>1</th>\n",
              "      <td>Bali_Denpasar_airport</td>\n",
              "      <td>1</td>\n",
              "    </tr>\n",
              "    <tr>\n",
              "      <th>2</th>\n",
              "      <td>redact_sensitive</td>\n",
              "      <td>1</td>\n",
              "    </tr>\n",
              "    <tr>\n",
              "      <th>3</th>\n",
              "      <td>Judge_Davinder_Lachlar</td>\n",
              "      <td>1</td>\n",
              "    </tr>\n",
              "    <tr>\n",
              "      <th>4</th>\n",
              "      <td>lipless_cranks</td>\n",
              "      <td>1</td>\n",
              "    </tr>\n",
              "    <tr>\n",
              "      <th>...</th>\n",
              "      <td>...</td>\n",
              "      <td>...</td>\n",
              "    </tr>\n",
              "    <tr>\n",
              "      <th>19995</th>\n",
              "      <td>ADOT_advises</td>\n",
              "      <td>1</td>\n",
              "    </tr>\n",
              "    <tr>\n",
              "      <th>19996</th>\n",
              "      <td>Franziska_Achterberg</td>\n",
              "      <td>1</td>\n",
              "    </tr>\n",
              "    <tr>\n",
              "      <th>19997</th>\n",
              "      <td>Pasat</td>\n",
              "      <td>1</td>\n",
              "    </tr>\n",
              "    <tr>\n",
              "      <th>19998</th>\n",
              "      <td>painstakingly_hoisted</td>\n",
              "      <td>1</td>\n",
              "    </tr>\n",
              "    <tr>\n",
              "      <th>19999</th>\n",
              "      <td>Shinns</td>\n",
              "      <td>1</td>\n",
              "    </tr>\n",
              "  </tbody>\n",
              "</table>\n",
              "<p>20000 rows × 2 columns</p>\n",
              "</div>"
            ],
            "text/plain": [
              "                         keys  Cluster\n",
              "0                  Vean_Gregg        1\n",
              "1       Bali_Denpasar_airport        1\n",
              "2            redact_sensitive        1\n",
              "3      Judge_Davinder_Lachlar        1\n",
              "4              lipless_cranks        1\n",
              "...                       ...      ...\n",
              "19995            ADOT_advises        1\n",
              "19996    Franziska_Achterberg        1\n",
              "19997                   Pasat        1\n",
              "19998   painstakingly_hoisted        1\n",
              "19999                  Shinns        1\n",
              "\n",
              "[20000 rows x 2 columns]"
            ]
          },
          "metadata": {
            "tags": []
          },
          "execution_count": 17
        }
      ]
    },
    {
      "cell_type": "code",
      "metadata": {
        "id": "1FKqU7FF_Ei3",
        "outputId": "8f02180f-b8eb-4061-a747-97e9878f196b",
        "colab": {
          "base_uri": "https://localhost:8080/",
          "height": 419
        }
      },
      "source": [
        "zeros = cluster[cluster['Cluster']==0]\n",
        "zeros.iloc[:90]"
      ],
      "execution_count": null,
      "outputs": [
        {
          "output_type": "execute_result",
          "data": {
            "text/html": [
              "<div>\n",
              "<style scoped>\n",
              "    .dataframe tbody tr th:only-of-type {\n",
              "        vertical-align: middle;\n",
              "    }\n",
              "\n",
              "    .dataframe tbody tr th {\n",
              "        vertical-align: top;\n",
              "    }\n",
              "\n",
              "    .dataframe thead th {\n",
              "        text-align: right;\n",
              "    }\n",
              "</style>\n",
              "<table border=\"1\" class=\"dataframe\">\n",
              "  <thead>\n",
              "    <tr style=\"text-align: right;\">\n",
              "      <th></th>\n",
              "      <th>keys</th>\n",
              "      <th>Cluster</th>\n",
              "    </tr>\n",
              "  </thead>\n",
              "  <tbody>\n",
              "    <tr>\n",
              "      <th>5</th>\n",
              "      <td>bioactive_lipid</td>\n",
              "      <td>0</td>\n",
              "    </tr>\n",
              "    <tr>\n",
              "      <th>7</th>\n",
              "      <td>Universal_Caller_ID</td>\n",
              "      <td>0</td>\n",
              "    </tr>\n",
              "    <tr>\n",
              "      <th>10</th>\n",
              "      <td>Mars_Needs_Moms</td>\n",
              "      <td>0</td>\n",
              "    </tr>\n",
              "    <tr>\n",
              "      <th>11</th>\n",
              "      <td>Utatu</td>\n",
              "      <td>0</td>\n",
              "    </tr>\n",
              "    <tr>\n",
              "      <th>13</th>\n",
              "      <td>brothy</td>\n",
              "      <td>0</td>\n",
              "    </tr>\n",
              "    <tr>\n",
              "      <th>...</th>\n",
              "      <td>...</td>\n",
              "      <td>...</td>\n",
              "    </tr>\n",
              "    <tr>\n",
              "      <th>392</th>\n",
              "      <td>www.merge.com</td>\n",
              "      <td>0</td>\n",
              "    </tr>\n",
              "    <tr>\n",
              "      <th>394</th>\n",
              "      <td>IntraLase_Corp.</td>\n",
              "      <td>0</td>\n",
              "    </tr>\n",
              "    <tr>\n",
              "      <th>397</th>\n",
              "      <td>markets_COLAZAL</td>\n",
              "      <td>0</td>\n",
              "    </tr>\n",
              "    <tr>\n",
              "      <th>402</th>\n",
              "      <td>Oglebay_Norton</td>\n",
              "      <td>0</td>\n",
              "    </tr>\n",
              "    <tr>\n",
              "      <th>410</th>\n",
              "      <td>AVCHD_Lite</td>\n",
              "      <td>0</td>\n",
              "    </tr>\n",
              "  </tbody>\n",
              "</table>\n",
              "<p>90 rows × 2 columns</p>\n",
              "</div>"
            ],
            "text/plain": [
              "                    keys  Cluster\n",
              "5        bioactive_lipid        0\n",
              "7    Universal_Caller_ID        0\n",
              "10       Mars_Needs_Moms        0\n",
              "11                 Utatu        0\n",
              "13                brothy        0\n",
              "..                   ...      ...\n",
              "392        www.merge.com        0\n",
              "394      IntraLase_Corp.        0\n",
              "397      markets_COLAZAL        0\n",
              "402       Oglebay_Norton        0\n",
              "410           AVCHD_Lite        0\n",
              "\n",
              "[90 rows x 2 columns]"
            ]
          },
          "metadata": {
            "tags": []
          },
          "execution_count": 18
        }
      ]
    },
    {
      "cell_type": "code",
      "metadata": {
        "id": "AYAcXaiJ_YzH",
        "outputId": "302a0d2f-11df-4d12-d5e8-d220cb520229",
        "colab": {
          "base_uri": "https://localhost:8080/",
          "height": 419
        }
      },
      "source": [
        "ones = cluster[cluster['Cluster']==1]\n",
        "ones.iloc[:150]"
      ],
      "execution_count": null,
      "outputs": [
        {
          "output_type": "execute_result",
          "data": {
            "text/html": [
              "<div>\n",
              "<style scoped>\n",
              "    .dataframe tbody tr th:only-of-type {\n",
              "        vertical-align: middle;\n",
              "    }\n",
              "\n",
              "    .dataframe tbody tr th {\n",
              "        vertical-align: top;\n",
              "    }\n",
              "\n",
              "    .dataframe thead th {\n",
              "        text-align: right;\n",
              "    }\n",
              "</style>\n",
              "<table border=\"1\" class=\"dataframe\">\n",
              "  <thead>\n",
              "    <tr style=\"text-align: right;\">\n",
              "      <th></th>\n",
              "      <th>keys</th>\n",
              "      <th>Cluster</th>\n",
              "    </tr>\n",
              "  </thead>\n",
              "  <tbody>\n",
              "    <tr>\n",
              "      <th>0</th>\n",
              "      <td>Vean_Gregg</td>\n",
              "      <td>1</td>\n",
              "    </tr>\n",
              "    <tr>\n",
              "      <th>1</th>\n",
              "      <td>Bali_Denpasar_airport</td>\n",
              "      <td>1</td>\n",
              "    </tr>\n",
              "    <tr>\n",
              "      <th>2</th>\n",
              "      <td>redact_sensitive</td>\n",
              "      <td>1</td>\n",
              "    </tr>\n",
              "    <tr>\n",
              "      <th>3</th>\n",
              "      <td>Judge_Davinder_Lachlar</td>\n",
              "      <td>1</td>\n",
              "    </tr>\n",
              "    <tr>\n",
              "      <th>4</th>\n",
              "      <td>lipless_cranks</td>\n",
              "      <td>1</td>\n",
              "    </tr>\n",
              "    <tr>\n",
              "      <th>...</th>\n",
              "      <td>...</td>\n",
              "      <td>...</td>\n",
              "    </tr>\n",
              "    <tr>\n",
              "      <th>189</th>\n",
              "      <td>wheeled_tuk_tuk</td>\n",
              "      <td>1</td>\n",
              "    </tr>\n",
              "    <tr>\n",
              "      <th>190</th>\n",
              "      <td>Kabbalist</td>\n",
              "      <td>1</td>\n",
              "    </tr>\n",
              "    <tr>\n",
              "      <th>191</th>\n",
              "      <td>Hermen_Shastri</td>\n",
              "      <td>1</td>\n",
              "    </tr>\n",
              "    <tr>\n",
              "      <th>194</th>\n",
              "      <td>wah_wah_guitars</td>\n",
              "      <td>1</td>\n",
              "    </tr>\n",
              "    <tr>\n",
              "      <th>195</th>\n",
              "      <td>calvers</td>\n",
              "      <td>1</td>\n",
              "    </tr>\n",
              "  </tbody>\n",
              "</table>\n",
              "<p>150 rows × 2 columns</p>\n",
              "</div>"
            ],
            "text/plain": [
              "                       keys  Cluster\n",
              "0                Vean_Gregg        1\n",
              "1     Bali_Denpasar_airport        1\n",
              "2          redact_sensitive        1\n",
              "3    Judge_Davinder_Lachlar        1\n",
              "4            lipless_cranks        1\n",
              "..                      ...      ...\n",
              "189         wheeled_tuk_tuk        1\n",
              "190               Kabbalist        1\n",
              "191          Hermen_Shastri        1\n",
              "194         wah_wah_guitars        1\n",
              "195                 calvers        1\n",
              "\n",
              "[150 rows x 2 columns]"
            ]
          },
          "metadata": {
            "tags": []
          },
          "execution_count": 19
        }
      ]
    },
    {
      "cell_type": "markdown",
      "metadata": {
        "id": "y_wIfTsU_w6l"
      },
      "source": [
        "From my analysis, I decided that it is best to have 2 clusters from my trial from 2 to 8. There seems to be much more points classified as cluster 0 in comparison to cluster 1. Cluster 0 seems to have more negative words such as pistols or shootings. However, both clusters show a large amount of proper nouns which makes it hard to determine what is considered a group by eye and interpretation."
      ]
    },
    {
      "cell_type": "markdown",
      "metadata": {
        "deletable": false,
        "editable": false,
        "nbgrader": {
          "checksum": "0467b27a0f59504cbb62b851a002386f",
          "grade": false,
          "grade_id": "cell-5b2a5e8ff6c74323",
          "locked": true,
          "schema_version": 1,
          "solution": false
        },
        "id": "rmdtLoHkKDWR"
      },
      "source": [
        "**Q7 (1 point)**: What loss function does the skipgram model use and briefly describe what this function is minimizing.\n",
        "\n",
        "**Do not delete the below cell**"
      ]
    },
    {
      "cell_type": "code",
      "metadata": {
        "deletable": false,
        "nbgrader": {
          "checksum": "774aef2c5bf8ef9d92e3489d1cd80390",
          "grade": true,
          "grade_id": "cell-90cc4b2c0ae8e2c2",
          "locked": false,
          "points": 1,
          "schema_version": 1,
          "solution": true
        },
        "id": "SyOASYXOKDWS"
      },
      "source": [
        "# YOUR CODE HERE\n",
        "answer = \"Skipgram uses softmax loss function. We try to minimize the cross entropy between the estimated class probability and the true dis\""
      ],
      "execution_count": null,
      "outputs": []
    },
    {
      "cell_type": "markdown",
      "metadata": {
        "deletable": false,
        "editable": false,
        "nbgrader": {
          "checksum": "c14f6069f64cc86ab6e384d28df270d8",
          "grade": false,
          "grade_id": "cell-74a177caaabb5009",
          "locked": true,
          "schema_version": 1,
          "solution": false
        },
        "id": "dbpuJx9CKDWV"
      },
      "source": [
        "**Bonus Question (1 point)** : Find at least 2 interesting word vec combinations like the ones given in Q5\n",
        "\n",
        "**Do not delete the below cell**"
      ]
    },
    {
      "cell_type": "code",
      "metadata": {
        "deletable": false,
        "nbgrader": {
          "checksum": "c2d42b5327f4b020c7e1706506dd5ce9",
          "grade": true,
          "grade_id": "cell-7351297993d72e83",
          "locked": false,
          "points": 1,
          "schema_version": 1,
          "solution": true
        },
        "id": "pQM8C_T7KDWW",
        "outputId": "9e74d573-64b0-48c1-ba0d-a3d50ff1cebe",
        "colab": {
          "base_uri": "https://localhost:8080/",
          "height": 122
        }
      },
      "source": [
        "# YOUR CODE HERE\n",
        "cool1 = model.most_similar(positive=['Fast', 'Small'], negative=['Slow'])[:2]\n",
        "cool2 = model.most_similar(positive=['Happiness', 'Sadness'], negative=['Happy'])[:2]\n",
        "print(cool1), print(cool2)"
      ],
      "execution_count": null,
      "outputs": [
        {
          "output_type": "stream",
          "text": [
            "/usr/local/lib/python3.6/dist-packages/gensim/matutils.py:737: FutureWarning: Conversion of the second argument of issubdtype from `int` to `np.signedinteger` is deprecated. In future, it will be treated as `np.int64 == np.dtype(int).type`.\n",
            "  if np.issubdtype(vec.dtype, np.int):\n"
          ],
          "name": "stderr"
        },
        {
          "output_type": "stream",
          "text": [
            "[('small', 0.4256536662578583), ('Large', 0.40149611234664917)]\n",
            "[('Loneliness', 0.4631291627883911), ('Emptiness', 0.45362788438796997)]\n"
          ],
          "name": "stdout"
        },
        {
          "output_type": "execute_result",
          "data": {
            "text/plain": [
              "(None, None)"
            ]
          },
          "metadata": {
            "tags": []
          },
          "execution_count": 21
        }
      ]
    },
    {
      "cell_type": "markdown",
      "metadata": {
        "id": "LxmddAQq8MPw"
      },
      "source": [
        "# Part 2"
      ]
    },
    {
      "cell_type": "markdown",
      "metadata": {
        "id": "ql_K6ulS1A4c"
      },
      "source": [
        "# 1. Embeddings"
      ]
    },
    {
      "cell_type": "code",
      "metadata": {
        "id": "R96BEqSC8P3T"
      },
      "source": [
        "url = \"http://www.gutenberg.org/files/25344/25344-0.txt\" \n",
        "resp = urlopen(url)\n",
        "raw = resp.read().decode('utf8')\n",
        "firstlook = tokenize.sent_tokenize(raw)"
      ],
      "execution_count": null,
      "outputs": []
    },
    {
      "cell_type": "code",
      "metadata": {
        "id": "nd_noMFD8ajr"
      },
      "source": [
        "pattern = r'''(?x)  # set flag to allow verbose regexps\n",
        "(?:[A-Z]\\.)+        # abbreviations, e.g. U.S.A.\n",
        "|\\w+(?:[-']\\w+)*    # words with optional internal hyphens\n",
        "|\\$?\\d+(?:\\.\\d+)?   # currency, e.g. $12.80 \n",
        "|\\.\\.\\.             # elipses\n",
        "|[.,;\"'?()-_`]      # these are separate tokens\n",
        "'''\n",
        "tokenized_raw = \" \".join(nltk.regexp_tokenize(raw, pattern))\n",
        "tokenized_raw = tokenize.sent_tokenize(tokenized_raw)"
      ],
      "execution_count": null,
      "outputs": []
    },
    {
      "cell_type": "code",
      "metadata": {
        "id": "epM8TzYO8c1I",
        "outputId": "e689e182-77a5-4b32-c47e-83dca5a84ad7",
        "colab": {
          "base_uri": "https://localhost:8080/",
          "height": 207
        }
      },
      "source": [
        "tokenized_raw[:10]"
      ],
      "execution_count": null,
      "outputs": [
        {
          "output_type": "execute_result",
          "data": {
            "text/plain": [
              "['The Project Gutenberg EBook of The Scarlet Letter , by Nathaniel Hawthorne This eBook is for the use of anyone anywhere at no cost and with almost no restrictions whatsoever .',\n",
              " 'You may copy it , give it away or re-use it under the terms of the Project Gutenberg License included with this eBook or online at www .',\n",
              " 'gutenberg .',\n",
              " 'net Title : The Scarlet Letter Author : Nathaniel Hawthorne Illustrator : Mary Hallock Foote L. S. Ipsen Release Date : May 5 , 2008 [ EBook 25344 ] Language : English Character set encoding : UTF-8 * * * START OF THIS PROJECT GUTENBERG EBOOK THE SCARLET LETTER * * * Produced by Markus Brenner , Irma Spehar and the Online Distributed Proofreading Team at http : / / www .',\n",
              " 'pgdp .',\n",
              " 'net ( This file was produced from images generously made available by The Internet Archive / American Libraries . )',\n",
              " 'THE SCARLET LETTER .',\n",
              " 'BY NATHANIEL HAWTHORNE .',\n",
              " 'Illustrated .',\n",
              " '[ Illustration ] BOSTON : JAMES R. OSGOOD AND COMPANY , LATE TICKNOR FIELDS , AND FIELDS , OSGOOD , CO .']"
            ]
          },
          "metadata": {
            "tags": []
          },
          "execution_count": 24
        }
      ]
    },
    {
      "cell_type": "code",
      "metadata": {
        "id": "icaGNaAC8lQv"
      },
      "source": [
        "# Remove punctuations\n",
        "nopunct = []\n",
        "for sent in tokenized_raw:\n",
        "    a = [w for w in sent.split() if w not in string.punctuation]\n",
        "    nopunct.append(\" \".join(a))"
      ],
      "execution_count": null,
      "outputs": []
    },
    {
      "cell_type": "code",
      "metadata": {
        "id": "jd1yuyzZ8qZW",
        "outputId": "1107ba9a-7d38-4926-ee68-e1dc771f1400",
        "colab": {
          "base_uri": "https://localhost:8080/",
          "height": 969
        }
      },
      "source": [
        "# Word tokenize\n",
        "tok_corp = [nltk.word_tokenize(sent) for sent in nopunct]\n",
        "tok_corp[:3]"
      ],
      "execution_count": null,
      "outputs": [
        {
          "output_type": "execute_result",
          "data": {
            "text/plain": [
              "[['The',\n",
              "  'Project',\n",
              "  'Gutenberg',\n",
              "  'EBook',\n",
              "  'of',\n",
              "  'The',\n",
              "  'Scarlet',\n",
              "  'Letter',\n",
              "  'by',\n",
              "  'Nathaniel',\n",
              "  'Hawthorne',\n",
              "  'This',\n",
              "  'eBook',\n",
              "  'is',\n",
              "  'for',\n",
              "  'the',\n",
              "  'use',\n",
              "  'of',\n",
              "  'anyone',\n",
              "  'anywhere',\n",
              "  'at',\n",
              "  'no',\n",
              "  'cost',\n",
              "  'and',\n",
              "  'with',\n",
              "  'almost',\n",
              "  'no',\n",
              "  'restrictions',\n",
              "  'whatsoever'],\n",
              " ['You',\n",
              "  'may',\n",
              "  'copy',\n",
              "  'it',\n",
              "  'give',\n",
              "  'it',\n",
              "  'away',\n",
              "  'or',\n",
              "  're-use',\n",
              "  'it',\n",
              "  'under',\n",
              "  'the',\n",
              "  'terms',\n",
              "  'of',\n",
              "  'the',\n",
              "  'Project',\n",
              "  'Gutenberg',\n",
              "  'License',\n",
              "  'included',\n",
              "  'with',\n",
              "  'this',\n",
              "  'eBook',\n",
              "  'or',\n",
              "  'online',\n",
              "  'at',\n",
              "  'www'],\n",
              " ['gutenberg']]"
            ]
          },
          "metadata": {
            "tags": []
          },
          "execution_count": 26
        }
      ]
    },
    {
      "cell_type": "code",
      "metadata": {
        "id": "zJ6lVmVp8tUQ",
        "outputId": "85ab7c20-6084-4a88-c8a8-ddc85b6987eb",
        "colab": {
          "base_uri": "https://localhost:8080/",
          "height": 34
        }
      },
      "source": [
        "### Creating a list of unique words \n",
        "unique_words = list(set([item for sublist in tok_corp for item in sublist]))\n",
        "len(unique_words)"
      ],
      "execution_count": null,
      "outputs": [
        {
          "output_type": "execute_result",
          "data": {
            "text/plain": [
              "9932"
            ]
          },
          "metadata": {
            "tags": []
          },
          "execution_count": 27
        }
      ]
    },
    {
      "cell_type": "code",
      "metadata": {
        "id": "SfLu9Rjn80Tm",
        "outputId": "6f3c3421-516f-436f-9da2-645b9cade46b",
        "colab": {
          "base_uri": "https://localhost:8080/",
          "height": 34
        }
      },
      "source": [
        "#pretrained model\n",
        "model"
      ],
      "execution_count": null,
      "outputs": [
        {
          "output_type": "execute_result",
          "data": {
            "text/plain": [
              "<gensim.models.keyedvectors.Word2VecKeyedVectors at 0x7f0b998e9a58>"
            ]
          },
          "metadata": {
            "tags": []
          },
          "execution_count": 28
        }
      ]
    },
    {
      "cell_type": "code",
      "metadata": {
        "id": "Guy1K0958_6B",
        "outputId": "fa64a919-be36-4d47-8802-9eb2a976203f",
        "colab": {
          "base_uri": "https://localhost:8080/",
          "height": 88
        }
      },
      "source": [
        "## Sample for similarity \n",
        "print (model.most_similar(positive=['king'], negative=['man']))"
      ],
      "execution_count": null,
      "outputs": [
        {
          "output_type": "stream",
          "text": [
            "/usr/local/lib/python3.6/dist-packages/gensim/matutils.py:737: FutureWarning: Conversion of the second argument of issubdtype from `int` to `np.signedinteger` is deprecated. In future, it will be treated as `np.int64 == np.dtype(int).type`.\n",
            "  if np.issubdtype(vec.dtype, np.int):\n"
          ],
          "name": "stderr"
        },
        {
          "output_type": "stream",
          "text": [
            "[('kings', 0.4295138418674469), ('queen', 0.39028695225715637), ('Pansy_Ho_Chiu', 0.3827225863933563), ('monarch', 0.3633837103843689), ('kingdom', 0.36145076155662537), ('royal_palace', 0.3535977602005005), ('Savory_aromas_wafted', 0.35272473096847534), ('princes', 0.3526379466056824), ('monarchy', 0.3432357907295227), ('Rama_VII', 0.3380342423915863)]\n"
          ],
          "name": "stdout"
        }
      ]
    },
    {
      "cell_type": "code",
      "metadata": {
        "id": "U6apUFDy9Efh"
      },
      "source": [
        "model_b = gensim.models.Word2Vec(tok_corp, min_count=1, size=16, window=5)"
      ],
      "execution_count": null,
      "outputs": []
    },
    {
      "cell_type": "code",
      "metadata": {
        "id": "-F67mesl9MO4",
        "outputId": "6d19a1e6-e803-4099-d2b7-ccd05931c262",
        "colab": {
          "base_uri": "https://localhost:8080/",
          "height": 292
        }
      },
      "source": [
        "## Extracting the respective vectors corresponding to the words\n",
        "vector_list = model_b[unique_words] ## n by d matrix containing words and their respective vectors\n",
        "vector_list"
      ],
      "execution_count": null,
      "outputs": [
        {
          "output_type": "stream",
          "text": [
            "/usr/local/lib/python3.6/dist-packages/ipykernel_launcher.py:1: DeprecationWarning: Call to deprecated `__getitem__` (Method will be removed in 4.0.0, use self.wv.__getitem__() instead).\n",
            "  \"\"\"Entry point for launching an IPython kernel.\n"
          ],
          "name": "stderr"
        },
        {
          "output_type": "execute_result",
          "data": {
            "text/plain": [
              "array([[ 0.01543421,  0.035304  , -0.01397987, ...,  0.05129982,\n",
              "        -0.05719861, -0.00063438],\n",
              "       [ 0.02713646,  0.03406958, -0.01241592, ...,  0.04459162,\n",
              "        -0.00765951,  0.0191385 ],\n",
              "       [ 0.00677163, -0.00337087,  0.02717992, ...,  0.02137208,\n",
              "        -0.07194926, -0.00120875],\n",
              "       ...,\n",
              "       [ 0.01868029,  0.05652009,  0.06032439, ...,  0.20363979,\n",
              "        -0.16454342,  0.08424284],\n",
              "       [-0.01430996,  0.02555185,  0.01940421, ...,  0.04508232,\n",
              "        -0.00822242,  0.01319215],\n",
              "       [-0.02335694,  0.0167746 , -0.00922698, ...,  0.03335363,\n",
              "        -0.02797239,  0.02146843]], dtype=float32)"
            ]
          },
          "metadata": {
            "tags": []
          },
          "execution_count": 31
        }
      ]
    },
    {
      "cell_type": "code",
      "metadata": {
        "id": "1bCg36yw9QcO",
        "outputId": "4ac9f9e9-2ed7-46d6-c437-9d6cd4b12727",
        "colab": {
          "base_uri": "https://localhost:8080/",
          "height": 34
        }
      },
      "source": [
        "len(vector_list)"
      ],
      "execution_count": null,
      "outputs": [
        {
          "output_type": "execute_result",
          "data": {
            "text/plain": [
              "9932"
            ]
          },
          "metadata": {
            "tags": []
          },
          "execution_count": 32
        }
      ]
    },
    {
      "cell_type": "code",
      "metadata": {
        "id": "378oLPG59TZx",
        "outputId": "e95f7619-c228-4d9a-aca4-7edd552fe240",
        "colab": {
          "base_uri": "https://localhost:8080/",
          "height": 289
        }
      },
      "source": [
        "for i in range(5):\n",
        "    print(unique_words[i], vector_list[i])"
      ],
      "execution_count": null,
      "outputs": [
        {
          "output_type": "stream",
          "text": [
            "preliminary [ 0.01543421  0.035304   -0.01397987 -0.02220014 -0.00381341  0.01415708\n",
            " -0.05078527  0.04488852 -0.05206664  0.00257026  0.02616317 -0.05171144\n",
            "  0.02606994  0.05129982 -0.05719861 -0.00063438]\n",
            "Externally [ 0.02713646  0.03406958 -0.01241592 -0.02222416  0.0056569   0.01001145\n",
            " -0.04102373  0.04381802 -0.04604217  0.01998601 -0.0028151  -0.02781722\n",
            "  0.02640389  0.04459162 -0.00765951  0.0191385 ]\n",
            "morn [ 0.00677163 -0.00337087  0.02717992 -0.01841573  0.04147504  0.00489579\n",
            " -0.05407092  0.06107125 -0.05222736  0.01113123  0.02121533 -0.04131475\n",
            " -0.02345313  0.02137208 -0.07194926 -0.00120875]\n",
            "harassed [-1.7969852e-02 -1.0123730e-02 -1.8228199e-02  2.0393420e-03\n",
            "  4.1150477e-02 -4.1259895e-03 -5.2599404e-02  9.7686965e-03\n",
            " -6.0656954e-02  2.7764378e-02  5.9136539e-05 -3.5123896e-02\n",
            "  7.3270034e-03  4.4308946e-02 -4.7052521e-02 -1.0095333e-04]\n",
            "short [ 0.04024915  0.25795814  0.18262678 -0.20742145  0.23201801 -0.02015576\n",
            " -0.83689225  0.53420275 -0.5880152   0.1744421   0.31806135 -0.28382793\n",
            "  0.04549685  0.72858775 -0.58712745  0.27769607]\n"
          ],
          "name": "stdout"
        }
      ]
    },
    {
      "cell_type": "markdown",
      "metadata": {
        "id": "CNeevc3jL6Al"
      },
      "source": [
        "# 2. Hypothesis\n",
        "scarlet is more similar to sin than to loyalty.\n",
        "Hester is more similar to sin than to innocence.\n",
        "Chillingworth is more similar to revenge than to freedom.\n"
      ]
    },
    {
      "cell_type": "code",
      "metadata": {
        "id": "qFJgHbJZM8SP",
        "outputId": "c5ff90be-9dea-429d-b546-f5d533d3bd00",
        "colab": {
          "base_uri": "https://localhost:8080/",
          "height": 292
        }
      },
      "source": [
        "sim1 = model_b.similarity('scarlet', 'sin')\n",
        "sim2 = model_b.similarity('scarlet', 'loyalty')\n",
        "sim3 = model_b.similarity('Hester', 'sin')\n",
        "sim4 = model_b.similarity('Hester', 'innocence')\n",
        "sim5 = model_b.similarity('Chillingworth', 'revenge')\n",
        "sim6 = model_b.similarity('Chillingworth', 'freedom')\n",
        "print(sim1, sim2, sim3, sim4, sim5, sim6)"
      ],
      "execution_count": null,
      "outputs": [
        {
          "output_type": "stream",
          "text": [
            "0.9969873 0.7736934 0.99587274 0.4848858 0.98036754 0.97654855\n"
          ],
          "name": "stdout"
        },
        {
          "output_type": "stream",
          "text": [
            "/usr/local/lib/python3.6/dist-packages/ipykernel_launcher.py:1: DeprecationWarning: Call to deprecated `similarity` (Method will be removed in 4.0.0, use self.wv.similarity() instead).\n",
            "  \"\"\"Entry point for launching an IPython kernel.\n",
            "/usr/local/lib/python3.6/dist-packages/gensim/matutils.py:737: FutureWarning: Conversion of the second argument of issubdtype from `int` to `np.signedinteger` is deprecated. In future, it will be treated as `np.int64 == np.dtype(int).type`.\n",
            "  if np.issubdtype(vec.dtype, np.int):\n",
            "/usr/local/lib/python3.6/dist-packages/ipykernel_launcher.py:2: DeprecationWarning: Call to deprecated `similarity` (Method will be removed in 4.0.0, use self.wv.similarity() instead).\n",
            "  \n",
            "/usr/local/lib/python3.6/dist-packages/ipykernel_launcher.py:3: DeprecationWarning: Call to deprecated `similarity` (Method will be removed in 4.0.0, use self.wv.similarity() instead).\n",
            "  This is separate from the ipykernel package so we can avoid doing imports until\n",
            "/usr/local/lib/python3.6/dist-packages/ipykernel_launcher.py:4: DeprecationWarning: Call to deprecated `similarity` (Method will be removed in 4.0.0, use self.wv.similarity() instead).\n",
            "  after removing the cwd from sys.path.\n",
            "/usr/local/lib/python3.6/dist-packages/ipykernel_launcher.py:5: DeprecationWarning: Call to deprecated `similarity` (Method will be removed in 4.0.0, use self.wv.similarity() instead).\n",
            "  \"\"\"\n",
            "/usr/local/lib/python3.6/dist-packages/ipykernel_launcher.py:6: DeprecationWarning: Call to deprecated `similarity` (Method will be removed in 4.0.0, use self.wv.similarity() instead).\n",
            "  \n"
          ],
          "name": "stderr"
        }
      ]
    },
    {
      "cell_type": "markdown",
      "metadata": {
        "id": "C40Aq1WSQgXn"
      },
      "source": [
        "# 3. Dimension Reduction"
      ]
    },
    {
      "cell_type": "code",
      "metadata": {
        "id": "WNrSjbrR9W2d",
        "outputId": "d7c04e40-518b-48a2-83ab-c584049b66f1",
        "colab": {
          "base_uri": "https://localhost:8080/",
          "height": 646
        }
      },
      "source": [
        "from sklearn.manifold import TSNE\n",
        "# Lets dim reduce the 16 dimension vectors to 2dimensions to vizualise the dataset \n",
        "data_embed=TSNE(n_components=2, perplexity=50, verbose=2, method='barnes_hut').fit_transform(vector_list)"
      ],
      "execution_count": null,
      "outputs": [
        {
          "output_type": "stream",
          "text": [
            "[t-SNE] Computing 151 nearest neighbors...\n",
            "[t-SNE] Indexed 9932 samples in 0.021s...\n",
            "[t-SNE] Computed neighbors for 9932 samples in 2.682s...\n",
            "[t-SNE] Computed conditional probabilities for sample 1000 / 9932\n",
            "[t-SNE] Computed conditional probabilities for sample 2000 / 9932\n",
            "[t-SNE] Computed conditional probabilities for sample 3000 / 9932\n",
            "[t-SNE] Computed conditional probabilities for sample 4000 / 9932\n",
            "[t-SNE] Computed conditional probabilities for sample 5000 / 9932\n",
            "[t-SNE] Computed conditional probabilities for sample 6000 / 9932\n",
            "[t-SNE] Computed conditional probabilities for sample 7000 / 9932\n",
            "[t-SNE] Computed conditional probabilities for sample 8000 / 9932\n",
            "[t-SNE] Computed conditional probabilities for sample 9000 / 9932\n",
            "[t-SNE] Computed conditional probabilities for sample 9932 / 9932\n",
            "[t-SNE] Mean sigma: 0.027449\n",
            "[t-SNE] Computed conditional probabilities in 1.277s\n",
            "[t-SNE] Iteration 50: error = 91.0126266, gradient norm = 0.0065804 (50 iterations in 7.220s)\n",
            "[t-SNE] Iteration 100: error = 83.1910400, gradient norm = 0.0021134 (50 iterations in 5.404s)\n",
            "[t-SNE] Iteration 150: error = 82.8065109, gradient norm = 0.0010953 (50 iterations in 4.563s)\n",
            "[t-SNE] Iteration 200: error = 82.6402435, gradient norm = 0.0010713 (50 iterations in 4.307s)\n",
            "[t-SNE] Iteration 250: error = 82.5170517, gradient norm = 0.0007203 (50 iterations in 4.252s)\n",
            "[t-SNE] KL divergence after 250 iterations with early exaggeration: 82.517052\n",
            "[t-SNE] Iteration 300: error = 3.3444552, gradient norm = 0.0012533 (50 iterations in 5.573s)\n",
            "[t-SNE] Iteration 350: error = 3.0700917, gradient norm = 0.0004633 (50 iterations in 6.296s)\n",
            "[t-SNE] Iteration 400: error = 2.9450750, gradient norm = 0.0002810 (50 iterations in 6.243s)\n",
            "[t-SNE] Iteration 450: error = 2.8688128, gradient norm = 0.0001907 (50 iterations in 5.996s)\n",
            "[t-SNE] Iteration 500: error = 2.8171332, gradient norm = 0.0001381 (50 iterations in 6.050s)\n",
            "[t-SNE] Iteration 550: error = 2.7795317, gradient norm = 0.0001075 (50 iterations in 6.033s)\n",
            "[t-SNE] Iteration 600: error = 2.7506528, gradient norm = 0.0000873 (50 iterations in 5.990s)\n",
            "[t-SNE] Iteration 650: error = 2.7281215, gradient norm = 0.0000753 (50 iterations in 5.895s)\n",
            "[t-SNE] Iteration 700: error = 2.7102485, gradient norm = 0.0000646 (50 iterations in 5.836s)\n",
            "[t-SNE] Iteration 750: error = 2.6958952, gradient norm = 0.0000578 (50 iterations in 5.769s)\n",
            "[t-SNE] Iteration 800: error = 2.6843696, gradient norm = 0.0000521 (50 iterations in 5.743s)\n",
            "[t-SNE] Iteration 850: error = 2.6751420, gradient norm = 0.0000514 (50 iterations in 5.693s)\n",
            "[t-SNE] Iteration 900: error = 2.6684301, gradient norm = 0.0000473 (50 iterations in 5.765s)\n",
            "[t-SNE] Iteration 950: error = 2.6631606, gradient norm = 0.0000446 (50 iterations in 5.634s)\n",
            "[t-SNE] Iteration 1000: error = 2.6587565, gradient norm = 0.0000417 (50 iterations in 5.712s)\n",
            "[t-SNE] KL divergence after 1000 iterations: 2.658756\n"
          ],
          "name": "stdout"
        }
      ]
    },
    {
      "cell_type": "code",
      "metadata": {
        "id": "smeJ3GXzQmJM",
        "outputId": "44c235d0-b0a5-4819-f21e-1277bea942e8",
        "colab": {
          "base_uri": "https://localhost:8080/",
          "height": 816
        }
      },
      "source": [
        "data_embed_a=TSNE(n_components=2, perplexity=50, verbose=2, method='barnes_hut').fit_transform(model[random_keys])"
      ],
      "execution_count": null,
      "outputs": [
        {
          "output_type": "stream",
          "text": [
            "[t-SNE] Computing 151 nearest neighbors...\n",
            "[t-SNE] Indexed 20000 samples in 0.785s...\n",
            "[t-SNE] Computed neighbors for 20000 samples in 361.961s...\n",
            "[t-SNE] Computed conditional probabilities for sample 1000 / 20000\n",
            "[t-SNE] Computed conditional probabilities for sample 2000 / 20000\n",
            "[t-SNE] Computed conditional probabilities for sample 3000 / 20000\n",
            "[t-SNE] Computed conditional probabilities for sample 4000 / 20000\n",
            "[t-SNE] Computed conditional probabilities for sample 5000 / 20000\n",
            "[t-SNE] Computed conditional probabilities for sample 6000 / 20000\n",
            "[t-SNE] Computed conditional probabilities for sample 7000 / 20000\n",
            "[t-SNE] Computed conditional probabilities for sample 8000 / 20000\n",
            "[t-SNE] Computed conditional probabilities for sample 9000 / 20000\n",
            "[t-SNE] Computed conditional probabilities for sample 10000 / 20000\n",
            "[t-SNE] Computed conditional probabilities for sample 11000 / 20000\n",
            "[t-SNE] Computed conditional probabilities for sample 12000 / 20000\n",
            "[t-SNE] Computed conditional probabilities for sample 13000 / 20000\n",
            "[t-SNE] Computed conditional probabilities for sample 14000 / 20000\n",
            "[t-SNE] Computed conditional probabilities for sample 15000 / 20000\n",
            "[t-SNE] Computed conditional probabilities for sample 16000 / 20000\n",
            "[t-SNE] Computed conditional probabilities for sample 17000 / 20000\n",
            "[t-SNE] Computed conditional probabilities for sample 18000 / 20000\n",
            "[t-SNE] Computed conditional probabilities for sample 19000 / 20000\n",
            "[t-SNE] Computed conditional probabilities for sample 20000 / 20000\n",
            "[t-SNE] Mean sigma: 0.260465\n",
            "[t-SNE] Computed conditional probabilities in 2.235s\n",
            "[t-SNE] Iteration 50: error = 94.1459045, gradient norm = 0.0457556 (50 iterations in 27.622s)\n",
            "[t-SNE] Iteration 100: error = 94.5396423, gradient norm = 0.0674006 (50 iterations in 27.387s)\n",
            "[t-SNE] Iteration 150: error = 94.2714920, gradient norm = 0.0811710 (50 iterations in 27.623s)\n",
            "[t-SNE] Iteration 200: error = 94.8409424, gradient norm = 0.0836515 (50 iterations in 29.079s)\n",
            "[t-SNE] Iteration 250: error = 94.7838593, gradient norm = 0.0867745 (50 iterations in 40.329s)\n",
            "[t-SNE] KL divergence after 250 iterations with early exaggeration: 94.783859\n",
            "[t-SNE] Iteration 300: error = 4.3984427, gradient norm = 0.0017002 (50 iterations in 32.077s)\n",
            "[t-SNE] Iteration 350: error = 3.9596279, gradient norm = 0.0018397 (50 iterations in 19.880s)\n",
            "[t-SNE] Iteration 400: error = 3.7955220, gradient norm = 0.0003318 (50 iterations in 15.616s)\n",
            "[t-SNE] Iteration 450: error = 3.7111843, gradient norm = 0.0002127 (50 iterations in 15.415s)\n",
            "[t-SNE] Iteration 500: error = 3.6588502, gradient norm = 0.0001475 (50 iterations in 15.400s)\n",
            "[t-SNE] Iteration 550: error = 3.6231854, gradient norm = 0.0001105 (50 iterations in 15.167s)\n",
            "[t-SNE] Iteration 600: error = 3.5971901, gradient norm = 0.0000884 (50 iterations in 15.239s)\n",
            "[t-SNE] Iteration 650: error = 3.5771818, gradient norm = 0.0000724 (50 iterations in 15.143s)\n",
            "[t-SNE] Iteration 700: error = 3.5618186, gradient norm = 0.0000613 (50 iterations in 15.016s)\n",
            "[t-SNE] Iteration 750: error = 3.5492592, gradient norm = 0.0000550 (50 iterations in 15.130s)\n",
            "[t-SNE] Iteration 800: error = 3.5387299, gradient norm = 0.0000468 (50 iterations in 15.022s)\n",
            "[t-SNE] Iteration 850: error = 3.5298715, gradient norm = 0.0000400 (50 iterations in 15.042s)\n",
            "[t-SNE] Iteration 900: error = 3.5222900, gradient norm = 0.0000366 (50 iterations in 15.103s)\n",
            "[t-SNE] Iteration 950: error = 3.5159435, gradient norm = 0.0000333 (50 iterations in 15.206s)\n",
            "[t-SNE] Iteration 1000: error = 3.5107412, gradient norm = 0.0000340 (50 iterations in 15.244s)\n",
            "[t-SNE] KL divergence after 1000 iterations: 3.510741\n"
          ],
          "name": "stdout"
        }
      ]
    },
    {
      "cell_type": "markdown",
      "metadata": {
        "id": "6EEjFFMu0vGt"
      },
      "source": [
        "# 4. Visualization"
      ]
    },
    {
      "cell_type": "code",
      "metadata": {
        "id": "CA3AJtWfB-wC"
      },
      "source": [
        "%matplotlib inline\n",
        "from matplotlib import pyplot as plt"
      ],
      "execution_count": null,
      "outputs": []
    },
    {
      "cell_type": "code",
      "metadata": {
        "id": "Qfumg5VfCBfg",
        "outputId": "35364edb-f20d-4285-aafa-5a97845a402f",
        "colab": {
          "base_uri": "https://localhost:8080/",
          "height": 265
        }
      },
      "source": [
        "x_axis= data_embed[:,0]\n",
        "y_axis=data_embed[:,1]\n",
        "\n",
        "plt.scatter(x_axis, y_axis, s=5)\n",
        "plt.show() ## The plots vary each time you run them "
      ],
      "execution_count": null,
      "outputs": [
        {
          "output_type": "display_data",
          "data": {
            "image/png": "[encoded data removed]",
            "text/plain": [
              "<Figure size 432x288 with 1 Axes>"
            ]
          },
          "metadata": {
            "tags": []
          }
        }
      ]
    },
    {
      "cell_type": "markdown",
      "metadata": {
        "id": "3ujP5gMk1PWc"
      },
      "source": [
        "After dimension reduction, there is this obvious tail that extends from the main group. Thre must have been a group of words that were similar for there to be this shape since t-SNE keeps things close close together in the final visualization as well. Those words on the tail are probably very common words (he, the, is) that do not have clear correlations. This is not a very good representation because most likely, some of these words are only used once."
      ]
    },
    {
      "cell_type": "code",
      "metadata": {
        "id": "ZMfazEYVErrW",
        "outputId": "ab8f5074-147b-434b-b818-8fe455ce500d",
        "colab": {
          "base_uri": "https://localhost:8080/",
          "height": 265
        }
      },
      "source": [
        "x_axis= data_embed_a[:,0]\n",
        "y_axis=data_embed_a[:,1]\n",
        "\n",
        "plt.scatter(x_axis, y_axis, s=5)\n",
        "plt.show() "
      ],
      "execution_count": null,
      "outputs": [
        {
          "output_type": "display_data",
          "data": {
            "image/png": "[encoded data removed]",
            "text/plain": [
              "<Figure size 432x288 with 1 Axes>"
            ]
          },
          "metadata": {
            "tags": []
          }
        }
      ]
    },
    {
      "cell_type": "markdown",
      "metadata": {
        "id": "g7HUx_4_1P7H"
      },
      "source": [
        "There is a big cloud of data but we can see small groups that form within it. This does make sense because we are sampling from a dataset that is billions large. The small clusters that we can see reprsent the groups of words that are similar."
      ]
    },
    {
      "cell_type": "code",
      "metadata": {
        "id": "MT29e2yN0QmA"
      },
      "source": [
        ""
      ],
      "execution_count": null,
      "outputs": []
    }
  ]
}